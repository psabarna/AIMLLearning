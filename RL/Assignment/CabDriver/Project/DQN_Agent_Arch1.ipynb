{
 "cells": [
  {
   "cell_type": "markdown",
   "metadata": {
    "id": "b88cBjlzilrJ",
    "papermill": {
     "duration": 0.028274,
     "end_time": "2020-11-20T05:06:38.932713",
     "exception": false,
     "start_time": "2020-11-20T05:06:38.904439",
     "status": "completed"
    },
    "tags": []
   },
   "source": [
    "## Problem Statement\n",
    "You are hired as a Sr. Machine Learning Er. at SuperCabs, a leading app-based cab provider in a large Indian metro city. In this highly competitive industry, retention of good cab drivers is a crucial business driver, and you believe that a sound RL-based system for assisting cab drivers can potentially retain and attract new cab drivers. \n",
    " \n",
    "\n",
    "Cab drivers, like most people, are incentivised by a healthy growth in income. The goal of your project is to build an RL-based algorithm which can help cab drivers maximise their profits by improving their decision-making process on the field."
   ]
  },
  {
   "cell_type": "markdown",
   "metadata": {
    "id": "B19C29ItilrZ",
    "papermill": {
     "duration": 0.02364,
     "end_time": "2020-11-20T05:06:38.980488",
     "exception": false,
     "start_time": "2020-11-20T05:06:38.956848",
     "status": "completed"
    },
    "tags": []
   },
   "source": [
    "## Goals\n",
    "\n",
    "### Create the environment: \n",
    "\n",
    "You are given the ‘Env.py’ file with the basic code structure. This is the \"environment class\" - each method (function) of the class has a specific purpose. Please read the comments around each method carefully to understand what it is designed to do. Using this framework is not compulsory, you can create your own framework and functions as well.\n",
    "\n",
    "### Build an agent that learns to pick the best request using DQN:\n",
    "\n",
    "You can choose the hyperparameters (epsilon (decay rate), learning-rate, discount factor etc.) of your choice.\n",
    "\n",
    "Training depends purely on the epsilon-function you choose. If the \n",
    "ϵ\n",
    " decays fast, it won’t let your model explore much and the Q-values will converge early but to suboptimal values. If \n",
    "ϵ\n",
    " decays slowly, your model will converge slowly. We recommend that you try converging the Q-values in 4-6 hrs.  We’ve created a sample \n",
    "ϵ\n",
    "-decay function at the end of the Agent file (Jupyter notebook) that will converge your Q-values in ~5 hrs. Try building a similar one for your Q-network.\n",
    "\n",
    "In the Agent file, we’ve provided the code skeleton. Using this structure is not necessary though.\n",
    "\n",
    "           You have to submit your final DQN model as a pickle file as well.\n",
    "\n",
    "### Convergence:\n",
    "\n",
    "You need to converge your results. The Q-values may be suboptimal since the agent won't be able to explore much in 5-6 hours of simulation. But it is important that your Q-values converge. There are two ways to check the convergence of the DQN model:\n",
    "\n",
    "Sample a few state-action pairs and plot their Q-values along episodes\n",
    "\n",
    "Check whether the total rewards earned per episode are showing stability\n",
    "\n",
    "          Showing one of these convergence plots will suffice."
   ]
  },
  {
   "cell_type": "markdown",
   "metadata": {
    "id": "2tdo9fPDilrf",
    "papermill": {
     "duration": 0.024543,
     "end_time": "2020-11-20T05:06:39.029464",
     "exception": false,
     "start_time": "2020-11-20T05:06:39.004921",
     "status": "completed"
    },
    "tags": []
   },
   "source": [
    "## Cab-Driver Agent"
   ]
  },
  {
   "cell_type": "code",
   "execution_count": 1,
   "metadata": {
    "execution": {
     "iopub.execute_input": "2020-11-20T05:06:39.086566Z",
     "iopub.status.busy": "2020-11-20T05:06:39.085690Z",
     "iopub.status.idle": "2020-11-20T05:06:45.804201Z",
     "shell.execute_reply": "2020-11-20T05:06:45.803283Z"
    },
    "id": "0bl-0AePilri",
    "papermill": {
     "duration": 6.750636,
     "end_time": "2020-11-20T05:06:45.804391",
     "exception": false,
     "start_time": "2020-11-20T05:06:39.053755",
     "status": "completed"
    },
    "tags": []
   },
   "outputs": [],
   "source": [
    "# Importing libraries\n",
    "import numpy as np\n",
    "import random\n",
    "import math\n",
    "from collections import deque\n",
    "import collections\n",
    "import pickle\n",
    "import time\n",
    "import math\n",
    "import random\n",
    "from itertools import permutations\n",
    "\n",
    "# For building DQN model\n",
    "from keras import layers\n",
    "from keras import Sequential\n",
    "from keras.layers import Dense, Activation, Flatten\n",
    "from keras.optimizers import Adam\n",
    "#from tensorflow.keras.optimizers import Adam\n",
    "\n",
    "# For plotting graphs\n",
    "import matplotlib.pyplot as plt\n"
   ]
  },
  {
   "cell_type": "markdown",
   "metadata": {
    "id": "S8nGINKqilro",
    "papermill": {
     "duration": 0.027603,
     "end_time": "2020-11-20T05:06:45.857412",
     "exception": false,
     "start_time": "2020-11-20T05:06:45.829809",
     "status": "completed"
    },
    "tags": []
   },
   "source": [
    "### 1. Load the Time Matrix"
   ]
  },
  {
   "cell_type": "code",
   "execution_count": 2,
   "metadata": {
    "colab": {
     "base_uri": "https://localhost:8080/"
    },
    "execution": {
     "iopub.execute_input": "2020-11-20T05:06:45.983033Z",
     "iopub.status.busy": "2020-11-20T05:06:45.981965Z",
     "iopub.status.idle": "2020-11-20T05:06:45.990541Z",
     "shell.execute_reply": "2020-11-20T05:06:45.989824Z"
    },
    "id": "DtCVVz4Milrs",
    "outputId": "a4af2ab2-1548-4e3c-c268-84ec712a7e6a",
    "papermill": {
     "duration": 0.037826,
     "end_time": "2020-11-20T05:06:45.990681",
     "exception": false,
     "start_time": "2020-11-20T05:06:45.952855",
     "status": "completed"
    },
    "tags": []
   },
   "outputs": [],
   "source": [
    "#import os\n",
    "#from google.colab import drive\n",
    "#drive.mount('/content/gdrive')\n",
    "\n",
    "#google_drive_shared_path = os.path.join('/content/gdrive', 'MyDrive' ,'RL_assignment')\n",
    "#print(google_drive_shared_path)# Loading the time matrix (part of the sample code)\n",
    "Time_matrix = np.load(\"TM.npy\")"
   ]
  },
  {
   "cell_type": "markdown",
   "metadata": {
    "id": "uNtqRj4cilrv",
    "papermill": {
     "duration": 0.025539,
     "end_time": "2020-11-20T05:06:46.042481",
     "exception": false,
     "start_time": "2020-11-20T05:06:46.016942",
     "status": "completed"
    },
    "tags": []
   },
   "source": [
    "### Check the max, min and mean time values required for defining the 'next_step' function in the Environment"
   ]
  },
  {
   "cell_type": "code",
   "execution_count": 3,
   "metadata": {
    "colab": {
     "base_uri": "https://localhost:8080/"
    },
    "execution": {
     "iopub.execute_input": "2020-11-20T05:06:46.099553Z",
     "iopub.status.busy": "2020-11-20T05:06:46.098490Z",
     "iopub.status.idle": "2020-11-20T05:06:46.104464Z",
     "shell.execute_reply": "2020-11-20T05:06:46.103484Z"
    },
    "id": "2rMJhE3Ailry",
    "outputId": "d61c8dfc-78f9-471a-fa5a-c56a87e09b3c",
    "papermill": {
     "duration": 0.037254,
     "end_time": "2020-11-20T05:06:46.104763",
     "exception": false,
     "start_time": "2020-11-20T05:06:46.067509",
     "status": "completed"
    },
    "scrolled": false,
    "tags": []
   },
   "outputs": [
    {
     "name": "stdout",
     "output_type": "stream",
     "text": [
      "11.0\n",
      "0.0\n",
      "3.0542857142857143\n",
      "7.93705306122449\n"
     ]
    }
   ],
   "source": [
    "print(Time_matrix.max())\n",
    "print(Time_matrix.min())\n",
    "print(Time_matrix.mean())\n",
    "print(Time_matrix.var())"
   ]
  },
  {
   "cell_type": "markdown",
   "metadata": {
    "id": "j50xAM_Lilr3",
    "papermill": {
     "duration": 0.025111,
     "end_time": "2020-11-20T05:06:46.156553",
     "exception": false,
     "start_time": "2020-11-20T05:06:46.131442",
     "status": "completed"
    },
    "tags": []
   },
   "source": [
    "### Since the max time is 11 hours between any 2 points, the next state of the cab driver can only change by  1 day"
   ]
  },
  {
   "cell_type": "markdown",
   "metadata": {
    "id": "t6JSIiNiilr5",
    "papermill": {
     "duration": 0.025179,
     "end_time": "2020-11-20T05:06:46.207823",
     "exception": false,
     "start_time": "2020-11-20T05:06:46.182644",
     "status": "completed"
    },
    "tags": []
   },
   "source": [
    "### 2. Agent & Cab Driver Class\n",
    "\n",
    "If you are using this framework, you need to fill the following to complete the following code block:\n",
    "1. State and Action Size\n",
    "2. Hyperparameters\n",
    "3. Create a neural-network model in function 'build_model()'\n",
    "4. Define epsilon-greedy strategy in function 'get_action()'\n",
    "5. Complete the function 'append_sample()'. This function appends the recent experience tuple <state, action, reward, new-state> to the memory\n",
    "6. Complete the 'train_model()' function with following logic:\n",
    "   - If the memory size is greater than mini-batch size, you randomly sample experiences from memory as per the mini-batch size and do the following:\n",
    "      - Initialise your input and output batch for training the model\n",
    "      - Calculate the target Q value for each sample: reward + gamma*max(Q(s'a,))\n",
    "      - Get Q(s', a) values from the last trained model\n",
    "      - Update the input batch as your encoded state and output batch as your Q-values\n",
    "      - Then fit your DQN model using the updated input and output batch."
   ]
  },
  {
   "cell_type": "code",
   "execution_count": 4,
   "metadata": {
    "execution": {
     "iopub.execute_input": "2020-11-20T05:06:46.316432Z",
     "iopub.status.busy": "2020-11-20T05:06:46.279338Z",
     "iopub.status.idle": "2020-11-20T05:06:46.353278Z",
     "shell.execute_reply": "2020-11-20T05:06:46.352409Z"
    },
    "id": "9ttgOI8Dilr7",
    "papermill": {
     "duration": 0.12008,
     "end_time": "2020-11-20T05:06:46.353419",
     "exception": false,
     "start_time": "2020-11-20T05:06:46.233339",
     "status": "completed"
    },
    "tags": []
   },
   "outputs": [],
   "source": [
    "class DQNAgent:\n",
    "    def __init__(self, state_size, action_size):\n",
    "        \n",
    "        # Define size of state and action\n",
    "        self.state_size = state_size\n",
    "        self.action_size = action_size\n",
    "\n",
    "        # Write here: Specify the hyper parameters for the DQN\n",
    "        self.discount_factor = 0.95\n",
    "        self.learning_rate = 0.02\n",
    "        self.epsilon = 1\n",
    "        self.epsilon_max = 1\n",
    "        self.epsilon_decay = -0.009\n",
    "        self.epsilon_min = 0.00001\n",
    "        \n",
    "        self.batch_size = 32\n",
    "\n",
    "        # create replay memory using deque\n",
    "        self.memory = deque(maxlen=2000)\n",
    "\n",
    "        # Initialize the value of the states tracked\n",
    "        self.states_tracked = []\n",
    "        \n",
    "        # We are going to track state [0,0,0] and action (0,2) at index 2 in the action space.\n",
    "        self.track_state = np.array(env.state_encod_arch1([0,0,0])).reshape(1, 36)\n",
    "\n",
    "        # create main model and target model\n",
    "        self.model = self.build_model()\n",
    "\n",
    "    # approximate Q function using Neural Network\n",
    "    def build_model(self):\n",
    "        \"\"\"\n",
    "        Function that takes in the agent and constructs the network\n",
    "        to train it\n",
    "        @return model\n",
    "        @params agent\n",
    "        \"\"\"\n",
    "        input_shape = self.state_size\n",
    "        model = Sequential()\n",
    "        # Write your code here: Add layers to your neural nets       \n",
    "        model.add(Dense(32, input_dim=self.state_size, activation='relu', kernel_initializer='he_uniform'))\n",
    "        model.add(Dense(32, activation='relu', kernel_initializer='he_uniform'))\n",
    "        # the output layer: output is of size num_actions\n",
    "        model.add(Dense(self.action_size, activation='relu', kernel_initializer='he_uniform'))\n",
    "        model.compile(loss='mse', optimizer=Adam(lr=self.learning_rate))\n",
    "        model.summary\n",
    "        return model\n",
    "\n",
    "    def get_action(self, state, possible_actions_index, actions):\n",
    "        \"\"\"\n",
    "        get action in a state according to an epsilon-greedy approach\n",
    "        possible_actions_index, actions are the 'ride requests' that teh driver got.\n",
    "        \"\"\"        \n",
    "        # get action from model using epsilon-greedy policy\n",
    "        # Decay in ε after each episode       \n",
    "        if np.random.rand() <= self.epsilon:\n",
    "            # explore: choose a random action from the ride requests\n",
    "            return random.choice(possible_actions_index)\n",
    "        else:\n",
    "            # choose the action with the highest q(s, a)\n",
    "            # the first index corresponds to the batch size, so\n",
    "            # reshape state to (1, state_size) so that the first index corresponds to the batch size\n",
    "            state = np.array(env.state_encod_arch1(state)).reshape(1, 36)\n",
    "\n",
    "            # Use the model to predict the Q_values.\n",
    "            q_value = self.model.predict(state)\n",
    "\n",
    "            # truncate the array to only those actions that are part of the ride  requests.\n",
    "            q_vals_possible = [q_value[0][i] for i in possible_actions_index]\n",
    "\n",
    "            return possible_actions_index[np.argmax(q_vals_possible)]\n",
    "\n",
    "    def append_sample(self, state, action_index, reward, next_state, done):\n",
    "        \"\"\"appends the new agent run output to replay buffer\"\"\"\n",
    "        self.memory.append((state, action_index, reward, next_state, done))\n",
    "        \n",
    "    # pick samples randomly from replay memory (with batch_size) and train the network\n",
    "    def train_model(self):\n",
    "        \"\"\" \n",
    "        Function to train the model on eacg step run.\n",
    "        Picks the random memory events according to batch size and \n",
    "        runs it through the network to train it.\n",
    "        \"\"\"\n",
    "        if len(self.memory) > self.batch_size:\n",
    "            # Sample batch from the memory\n",
    "            mini_batch = random.sample(self.memory, self.batch_size)\n",
    "            # initialise two matrices - update_input and update_output\n",
    "            update_input = np.zeros((self.batch_size, self.state_size))\n",
    "            update_output = np.zeros((self.batch_size, self.state_size))\n",
    "            actions, rewards, done = [], [], []\n",
    "\n",
    "            # populate update_input and update_output and the lists rewards, actions, done\n",
    "            for i in range(self.batch_size):\n",
    "                state, action, reward, next_state, done_boolean = mini_batch[i]\n",
    "                update_input[i] = env.state_encod_arch1(state)     \n",
    "                actions.append(action)\n",
    "                rewards.append(reward)\n",
    "                update_output[i] = env.state_encod_arch1(next_state)\n",
    "                done.append(done_boolean)\n",
    "\n",
    "            # predict the target q-values from states s\n",
    "            target = self.model.predict(update_input)\n",
    "            # target for q-network\n",
    "            target_qval = self.model.predict(update_output)\n",
    "\n",
    "\n",
    "            # update the target values\n",
    "            for i in range(self.batch_size):\n",
    "                if done[i]:\n",
    "                    target[i][actions[i]] = rewards[i]\n",
    "                else: # non-terminal state\n",
    "                    target[i][actions[i]] = rewards[i] + self.discount_factor * np.max(target_qval[i])\n",
    "            # model fit\n",
    "            self.model.fit(update_input, target, batch_size=self.batch_size, epochs=1, verbose=0)\n",
    "            \n",
    "    def save_tracking_states(self):\n",
    "        # Use the model to predict the q_value of the state \n",
    "        q_value = self.model.predict(self.track_state)\n",
    "        \n",
    "        print(\"States_tracked value {0}.\".format(q_value[0][2]))\n",
    "        \n",
    "        # Grab the q_value of the action index \n",
    "        self.states_tracked.append(q_value[0][2])\n",
    "        \n",
    "    def save(self, name):\n",
    "        self.model.save(name)\n",
    "        \n",
    "# Defining hyperparameters\n",
    "m = 5  # number of cities, ranges from 0 ..... m-1\n",
    "t = 24  # number of hours, ranges from 0 .... t-1\n",
    "d = 7  # number of days, ranges from 0 ... d-1\n",
    "C = 5  # Per hour fuel and other costs\n",
    "R = 9  # per hour revenue from a passenger\n",
    "\n",
    "\n",
    "class CabDriver():\n",
    "\n",
    "    def __init__(self):\n",
    "        \"\"\"initialise your state and define your action space and state space\"\"\"\n",
    "        self.action_space = [(0, 0)] + \\\n",
    "            list(permutations([i for i in range(m)], 2))\n",
    "        self.state_space = [[x, y, z]\n",
    "                            for x in range(m) for y in range(t) for z in range(d)]\n",
    "        self.state_init = random.choice(self.state_space)\n",
    "        #self.state_init = [0,0,0]\n",
    "        # Start the first round\n",
    "        self.reset()\n",
    "\n",
    "    ## Encoding state (or state-action) for NN input\n",
    "\n",
    "    def state_encod_arch1(self, state):\n",
    "        \"\"\"convert the state into a vector so that it can be fed to the NN. \n",
    "        This method converts a given state into a vector format. \n",
    "        Hint: The vector is of size m + t + d.\"\"\"\n",
    "\n",
    "        state_encod = [0 for _ in range(m+t+d)]\n",
    "        state_encod[self.state_get_loc(state)] = 1\n",
    "        state_encod[m+self.state_get_time(state)] = 1\n",
    "        state_encod[m+t+self.state_get_day(state)] = 1\n",
    "\n",
    "        return state_encod\n",
    "\n",
    "    # Use this function if you are using architecture-2\n",
    "\n",
    "    def state_encod_arch2(self, state, action):\n",
    "        \"\"\"convert the (state-action) into a vector so that it can be fed to the NN. \n",
    "        This method converts a given state-action pair into a vector format. \n",
    "        Hint: The vector is of size m + t + d + m + m.\"\"\"\n",
    "        state_encod = [0 for _ in range(m+t+d+m+m)]\n",
    "        state_encod[self.state_get_loc(state)] = 1\n",
    "        state_encod[m+self.state_get_time(state)] = 1\n",
    "        state_encod[m+t+self.state_get_day(state)] = 1\n",
    "        if (action[0] != 0):\n",
    "            state_encod[m+t+d+self.action_get_pickup(action)] = 1\n",
    "        if (action[1] != 0):\n",
    "            state_encod[m+t+d+m+self.action_get_drop(action)] = 1\n",
    "\n",
    "        return state_encod\n",
    "\n",
    "    ## Getting number of requests\n",
    "\n",
    "    def requests(self, state):\n",
    "        \"\"\"Determining the number of requests basis the location. \n",
    "        Use the table specified in the MDP and complete for rest of the locations\"\"\"\n",
    "        location = state[0]\n",
    "        if location == 0:\n",
    "            requests = np.random.poisson(2)\n",
    "        if location == 1:\n",
    "            requests = np.random.poisson(12)\n",
    "        if location == 2:\n",
    "            requests = np.random.poisson(4)\n",
    "        if location == 3:\n",
    "            requests = np.random.poisson(7)\n",
    "        if location == 4:\n",
    "            requests = np.random.poisson(8)\n",
    "\n",
    "        if requests > 15:\n",
    "            requests = 15\n",
    "        # (0,0) is not considered as customer request, however the driver is free to refuse all\n",
    "        # customer requests. Hence, add the index of action (0,0).\n",
    "        possible_actions_index = random.sample(range(1, (m-1)*m + 1), requests) + [0]\n",
    "        actions = [self.action_space[i] for i in possible_actions_index]\n",
    "\n",
    "        return possible_actions_index, actions\n",
    "\n",
    "    def update_time_day(self, time, day, ride_duration):\n",
    "        \"\"\"\n",
    "        Takes in the current state and time taken for driver's journey to return\n",
    "        the state post that journey.\n",
    "        \"\"\"\n",
    "        ride_duration = int(ride_duration)\n",
    "\n",
    "        if (time + ride_duration) < 24:\n",
    "            time = time + ride_duration\n",
    "            # day is unchanged\n",
    "        else:\n",
    "            # duration taken spreads over to subsequent days\n",
    "            # convert the time to 0-23 range\n",
    "            time = (time + ride_duration) % 24 \n",
    "            \n",
    "            # Get the number of days\n",
    "            num_days = (time + ride_duration) // 24\n",
    "            \n",
    "            # Convert the day to 0-6 range\n",
    "            day = (day + num_days ) % 7\n",
    "\n",
    "        return time, day\n",
    "    \n",
    "    def next_state_func(self, state, action, Time_matrix):\n",
    "        \"\"\"Takes state and action as input and returns next state\"\"\"\n",
    "        next_state = []\n",
    "        \n",
    "        # Initialize various times\n",
    "        total_time   = 0\n",
    "        transit_time = 0    # to go from current  location to pickup location\n",
    "        wait_time    = 0    # in case driver chooses to refuse all requests\n",
    "        ride_time    = 0    # from Pick-up to drop\n",
    "        \n",
    "        # Derive the current location, time, day and request locations\n",
    "        curr_loc = self.state_get_loc(state)\n",
    "        pickup_loc = self.action_get_pickup(action)\n",
    "        drop_loc = self.action_get_drop(action)\n",
    "        curr_time = self.state_get_time(state)\n",
    "        curr_day = self.state_get_day(state)\n",
    "        \"\"\"\n",
    "         3 Scenarios: \n",
    "           a) Refuse all requests\n",
    "           b) Driver is already at pick up point\n",
    "           c) Driver is not at the pickup point.\n",
    "        \"\"\"    \n",
    "        if ((pickup_loc== 0) and (drop_loc == 0)):\n",
    "            # Refuse all requests, so wait time is 1 unit, next location is current location\n",
    "            wait_time = 1\n",
    "            next_loc = curr_loc\n",
    "        elif (curr_loc == pickup_loc):\n",
    "            # means driver is already at pickup point, wait and transit are both 0 then.\n",
    "            ride_time = Time_matrix[curr_loc][drop_loc][curr_time][curr_day]\n",
    "            \n",
    "            # next location is the drop location\n",
    "            next_loc = drop_loc\n",
    "        else:\n",
    "            # Driver is not at the pickup point, he needs to travel to pickup point first\n",
    "            # time take to reach pickup point\n",
    "            transit_time      = Time_matrix[curr_loc][pickup_loc][curr_time][curr_day]\n",
    "            new_time, new_day = self.update_time_day(curr_time, curr_day, transit_time)\n",
    "            \n",
    "            # The driver is now at the pickup point\n",
    "            # Time taken to drop the passenger\n",
    "            ride_time = Time_matrix[pickup_loc][drop_loc][new_time][new_day]\n",
    "            next_loc  = drop_loc\n",
    "\n",
    "        # Calculate total time as sum of all durations\n",
    "        total_time = (wait_time + transit_time + ride_time)\n",
    "        next_time, next_day = self.update_time_day(curr_time, curr_day, total_time)\n",
    "        \n",
    "        # Construct next_state using the next_loc and the new time states.\n",
    "        next_state = [next_loc, next_time, next_day]\n",
    "        \n",
    "        return next_state, wait_time, transit_time, ride_time\n",
    "    \n",
    "\n",
    "    def reset(self):\n",
    "        \"\"\"Return the current state and action space\"\"\"\n",
    "        return self.action_space, self.state_space, self.state_init\n",
    "\n",
    "    def reward_func(self, wait_time, transit_time, ride_time):\n",
    "        \"\"\"Takes in state, action and Time-matrix and returns the reward\"\"\"\n",
    "        # transit and wait time yield no revenue, only battery costs, so they are idle times.\n",
    "        passenger_time = ride_time\n",
    "        idle_time      = wait_time + transit_time\n",
    "        \n",
    "        reward = (R * passenger_time) - (C * (passenger_time + idle_time))\n",
    "\n",
    "        return reward\n",
    "\n",
    "    def step(self, state, action, Time_matrix):\n",
    "        \"\"\"\n",
    "        Take a trip as cabby to get rewards next step and total time spent\n",
    "        \"\"\"\n",
    "        # Get the next state and the various time durations\n",
    "        next_state, wait_time, transit_time, ride_time = self.next_state_func(\n",
    "            state, action, Time_matrix)\n",
    "\n",
    "        # Calculate the reward based on the different time durations\n",
    "        rewards = self.reward_func(wait_time, transit_time, ride_time)\n",
    "        total_time = wait_time + transit_time + ride_time\n",
    "        \n",
    "        return rewards, next_state, total_time\n",
    "\n",
    "    def state_get_loc(self, state):\n",
    "        return state[0]\n",
    "\n",
    "    def state_get_time(self, state):\n",
    "        return state[1]\n",
    "\n",
    "    def state_get_day(self, state):\n",
    "        return state[2]\n",
    "\n",
    "    def action_get_pickup(self, action):\n",
    "        return action[0]\n",
    "\n",
    "    def action_get_drop(self, action):\n",
    "        return action[1]\n",
    "\n",
    "    def state_set_loc(self, state, loc):\n",
    "        state[0] = loc\n",
    "\n",
    "    def state_set_time(self, state, time):\n",
    "        state[1] = time\n",
    "\n",
    "    def state_set_day(self, state, day):\n",
    "        state[2] = day\n",
    "\n",
    "    def action_set_pickup(self, action, pickup):\n",
    "        action[0] = pickup\n",
    "\n",
    "    def action_set_drop(self, action, drop):\n",
    "        action[1] = drop\n"
   ]
  },
  {
   "cell_type": "markdown",
   "metadata": {
    "id": "qMPzqq8MilsJ",
    "papermill": {
     "duration": 0.026154,
     "end_time": "2020-11-20T05:06:46.407188",
     "exception": false,
     "start_time": "2020-11-20T05:06:46.381034",
     "status": "completed"
    },
    "tags": []
   },
   "source": [
    "### 3. DQN block"
   ]
  },
  {
   "cell_type": "code",
   "execution_count": 5,
   "metadata": {
    "colab": {
     "base_uri": "https://localhost:8080/"
    },
    "execution": {
     "iopub.execute_input": "2020-11-20T05:06:46.520768Z",
     "iopub.status.busy": "2020-11-20T05:06:46.519619Z",
     "iopub.status.idle": "2020-11-20T05:06:46.659309Z",
     "shell.execute_reply": "2020-11-20T05:06:46.658627Z"
    },
    "id": "hISpE8NSilsR",
    "outputId": "6da57304-d812-4284-ffee-870ad6be81a5",
    "papermill": {
     "duration": 0.174412,
     "end_time": "2020-11-20T05:06:46.659460",
     "exception": false,
     "start_time": "2020-11-20T05:06:46.485048",
     "status": "completed"
    },
    "tags": []
   },
   "outputs": [],
   "source": [
    "episode_time = 24*30 #30 days before which car has to be recharged\n",
    "n_episodes = 1000\n",
    "m = 5\n",
    "t = 24\n",
    "d = 7\n",
    "\n",
    "# Invoke Env class\n",
    "env = CabDriver()\n",
    "action_space, state_space, state = env.reset()\n",
    "\n",
    "# Set up state and action sizes.\n",
    "state_size = m+t+d\n",
    "action_size = len(action_space)\n",
    "\n",
    "# Invoke agent class\n",
    "agent = DQNAgent(action_size=action_size, state_size=state_size)\n",
    "\n",
    "# to store rewards in each episode\n",
    "rewards_per_episode, episodes = [], []\n",
    "# Rewards for state [0,0,0] being tracked.\n",
    "rewards_init_state = []"
   ]
  },
  {
   "cell_type": "markdown",
   "metadata": {
    "id": "OLFQSBHMilsT",
    "papermill": {
     "duration": 0.028542,
     "end_time": "2020-11-20T05:06:46.718783",
     "exception": false,
     "start_time": "2020-11-20T05:06:46.690241",
     "status": "completed"
    },
    "tags": []
   },
   "source": [
    "### 4. Run the episodes, build up replay buffer and train the model.\n",
    "### Note:\n",
    "#### The moment total episode time exceeds 720 (30 days), we ignore the most recent ride and do NOT save that experience in the replay memory\n",
    "#### The init state is randomly picked from the state space for each episode"
   ]
  },
  {
   "cell_type": "code",
   "execution_count": 6,
   "metadata": {
    "colab": {
     "base_uri": "https://localhost:8080/"
    },
    "execution": {
     "iopub.execute_input": "2020-11-20T05:06:46.792372Z",
     "iopub.status.busy": "2020-11-20T05:06:46.786527Z",
     "iopub.status.idle": "2020-11-20T05:33:04.427096Z",
     "shell.execute_reply": "2020-11-20T05:33:04.427744Z"
    },
    "id": "HdfNRZV_ilsU",
    "outputId": "0f4a7201-0e88-419b-efbb-a6005a3606b9",
    "papermill": {
     "duration": 1577.679634,
     "end_time": "2020-11-20T05:33:04.427918",
     "exception": false,
     "start_time": "2020-11-20T05:06:46.748284",
     "status": "completed"
    },
    "tags": []
   },
   "outputs": [
    {
     "name": "stdout",
     "output_type": "stream",
     "text": [
      "Saving Model 0\n",
      "States_tracked value 1469.4569091796875.\n",
      "episode 9, reward -94.0, memory_length 1358, epsilon 0.9221844695076936 total_time 726.0\n",
      "States_tracked value 148.27401733398438.\n",
      "States_tracked value 201.91494750976562.\n",
      "episode 19, reward -36.0, memory_length 2000, epsilon 0.8428131452558852 total_time 728.0\n",
      "States_tracked value 311.64849853515625.\n",
      "States_tracked value 409.7564697265625.\n",
      "episode 29, reward -112.0, memory_length 2000, epsilon 0.770273216805883 total_time 726.0\n",
      "States_tracked value 407.0257263183594.\n",
      "States_tracked value 2108.215576171875.\n",
      "episode 39, reward -81.0, memory_length 2000, epsilon 0.7039767140180825 total_time 724.0\n",
      "States_tracked value 88.3470687866211.\n",
      "States_tracked value 272.46099853515625.\n",
      "episode 49, reward 235.0, memory_length 2000, epsilon 0.6433862726458905 total_time 725.0\n",
      "States_tracked value 190.54171752929688.\n",
      "States_tracked value 175.12356567382812.\n",
      "episode 59, reward -183.0, memory_length 2000, epsilon 0.5880107787464963 total_time 725.0\n",
      "States_tracked value 171.36598205566406.\n",
      "States_tracked value 171.85171508789062.\n",
      "episode 69, reward 297.0, memory_length 2000, epsilon 0.5374013879720433 total_time 722.0\n",
      "States_tracked value 164.1374053955078.\n",
      "States_tracked value 164.03802490234375.\n",
      "episode 79, reward 149.0, memory_length 2000, epsilon 0.49114788747569266 total_time 726.0\n",
      "States_tracked value 171.59646606445312.\n",
      "States_tracked value 179.95252990722656.\n",
      "episode 89, reward 173.0, memory_length 2000, epsilon 0.4488753709441196 total_time 722.0\n",
      "States_tracked value 159.6397247314453.\n",
      "States_tracked value 222.87623596191406.\n",
      "episode 99, reward 419.0, memory_length 2000, epsilon 0.4102411998060215 total_time 726.0\n",
      "States_tracked value 217.8886260986328.\n",
      "States_tracked value 303.3203430175781.\n",
      "episode 109, reward 403.0, memory_length 2000, epsilon 0.37493222598580794 total_time 730.0\n",
      "States_tracked value 540.3429565429688.\n",
      "States_tracked value 358.8785705566406.\n",
      "episode 119, reward 225.0, memory_length 2000, epsilon 0.3426622536915894 total_time 726.0\n",
      "States_tracked value 367.0203552246094.\n",
      "States_tracked value 387.760498046875.\n",
      "episode 129, reward 230.0, memory_length 2000, epsilon 0.31316971966406465 total_time 725.0\n",
      "States_tracked value 818.25537109375.\n",
      "States_tracked value 532.3040771484375.\n",
      "episode 139, reward 215.0, memory_length 2000, epsilon 0.2862155730836368 total_time 725.0\n",
      "States_tracked value 1244.251953125.\n",
      "States_tracked value 279.59820556640625.\n",
      "episode 149, reward 675.0, memory_length 2000, epsilon 0.26158133795141203 total_time 723.0\n",
      "States_tracked value 94.27874755859375.\n",
      "States_tracked value 113.00741577148438.\n",
      "episode 159, reward 1182.0, memory_length 2000, epsilon 0.23906734223876774 total_time 725.0\n",
      "States_tracked value 154.7170867919922.\n",
      "States_tracked value 222.67564392089844.\n",
      "episode 169, reward 537.0, memory_length 2000, epsilon 0.21849109945191933 total_time 723.0\n",
      "States_tracked value 263.615966796875.\n",
      "States_tracked value 324.1781311035156.\n",
      "episode 179, reward 558.0, memory_length 2000, epsilon 0.1996858294933064 total_time 721.0\n",
      "States_tracked value 326.68341064453125.\n",
      "States_tracked value 318.14306640625.\n",
      "episode 189, reward 622.0, memory_length 2000, epsilon 0.18249910683068593 total_time 726.0\n",
      "States_tracked value 312.12152099609375.\n",
      "States_tracked value 294.2768859863281.\n",
      "episode 199, reward 572.0, memory_length 2000, epsilon 0.16679162501670927 total_time 732.0\n",
      "States_tracked value 317.4067687988281.\n",
      "States_tracked value 335.5877685546875.\n",
      "episode 209, reward 523.0, memory_length 2000, epsilon 0.15243606754483538 total_time 725.0\n",
      "States_tracked value 299.47454833984375.\n",
      "States_tracked value 274.9881896972656.\n",
      "episode 219, reward 1001.0, memory_length 2000, epsilon 0.13931607588933637 total_time 725.0\n",
      "States_tracked value 307.7839660644531.\n",
      "States_tracked value 372.4026794433594.\n",
      "episode 229, reward 869.0, memory_length 2000, epsilon 0.12732530636487757 total_time 721.0\n",
      "States_tracked value 353.2994689941406.\n",
      "States_tracked value 296.10791015625.\n",
      "episode 239, reward 1305.0, memory_length 2000, epsilon 0.11636656816107481 total_time 727.0\n",
      "States_tracked value 337.4768371582031.\n",
      "States_tracked value 439.59710693359375.\n",
      "episode 249, reward 882.0, memory_length 2000, epsilon 0.1063510355653963 total_time 728.0\n",
      "States_tracked value 413.82171630859375.\n",
      "States_tracked value 1101.3699951171875.\n",
      "episode 259, reward 1313.0, memory_length 2000, epsilon 0.09719752798910514 total_time 731.0\n",
      "States_tracked value 375.7956848144531.\n",
      "States_tracked value 313.56591796875.\n",
      "episode 269, reward 1036.0, memory_length 2000, epsilon 0.08883185196051625 total_time 726.0\n",
      "States_tracked value 320.2416687011719.\n",
      "States_tracked value 305.05340576171875.\n",
      "episode 279, reward 1281.0, memory_length 2000, epsilon 0.0811861997521129 total_time 722.0\n",
      "States_tracked value 353.5293273925781.\n",
      "States_tracked value 360.27349853515625.\n",
      "episode 289, reward 846.0, memory_length 2000, epsilon 0.07419859976711522 total_time 731.0\n",
      "States_tracked value 375.3204650878906.\n",
      "States_tracked value 379.04840087890625.\n",
      "episode 299, reward 1131.0, memory_length 2000, epsilon 0.0678124142306251 total_time 722.0\n",
      "States_tracked value 371.1809387207031.\n",
      "States_tracked value 313.7961120605469.\n",
      "episode 309, reward 919.0, memory_length 2000, epsilon 0.06197588011389871 total_time 735.0\n",
      "States_tracked value 364.2175598144531.\n",
      "States_tracked value 372.6576843261719.\n",
      "episode 319, reward 873.0, memory_length 2000, epsilon 0.056641689570722964 total_time 725.0\n",
      "States_tracked value 354.8590087890625.\n",
      "States_tracked value 353.3244934082031.\n",
      "episode 329, reward 1135.0, memory_length 2000, epsilon 0.05176660648513581 total_time 726.0\n",
      "States_tracked value 322.40673828125.\n",
      "States_tracked value 3566.4013671875.\n",
      "episode 339, reward 993.0, memory_length 2000, epsilon 0.04731111602242943 total_time 722.0\n",
      "States_tracked value 823.4073486328125.\n",
      "States_tracked value 528.0614013671875.\n",
      "episode 349, reward 865.0, memory_length 2000, epsilon 0.04323910434288353 total_time 722.0\n",
      "States_tracked value 442.914794921875.\n",
      "States_tracked value 438.1088562011719.\n",
      "episode 359, reward 1087.0, memory_length 2000, epsilon 0.03951756588215784 total_time 728.0\n",
      "States_tracked value 431.9519348144531.\n",
      "States_tracked value 405.6822814941406.\n",
      "episode 369, reward 1056.0, memory_length 2000, epsilon 0.036116335825714364 total_time 722.0\n",
      "States_tracked value 377.5348815917969.\n",
      "States_tracked value 369.91900634765625.\n",
      "episode 379, reward 1131.0, memory_length 2000, epsilon 0.033007845608848854 total_time 725.0\n",
      "States_tracked value 358.84405517578125.\n",
      "States_tracked value 331.6340637207031.\n",
      "episode 389, reward 734.0, memory_length 2000, epsilon 0.030166899460544936 total_time 723.0\n",
      "States_tracked value 332.8695068359375.\n",
      "States_tracked value 339.2138366699219.\n",
      "episode 399, reward 567.0, memory_length 2000, epsilon 0.027570470179933807 total_time 722.0\n",
      "States_tracked value 378.5627136230469.\n",
      "States_tracked value 412.59271240234375.\n",
      "episode 409, reward 1045.0, memory_length 2000, epsilon 0.02519751249003196 total_time 727.0\n",
      "States_tracked value 352.5154724121094.\n",
      "States_tracked value 269.23736572265625.\n",
      "episode 419, reward 586.0, memory_length 2000, epsilon 0.02302879245590148 total_time 730.0\n",
      "States_tracked value 384.0417785644531.\n",
      "States_tracked value 19074.19140625.\n",
      "episode 429, reward 126.0, memory_length 2000, epsilon 0.021046731584587162 total_time 722.0\n",
      "States_tracked value 954.1812133789062.\n",
      "States_tracked value 570.6910400390625.\n",
      "episode 439, reward 1443.0, memory_length 2000, epsilon 0.01923526434318714 total_time 721.0\n",
      "States_tracked value 463.1046142578125.\n",
      "States_tracked value 415.40899658203125.\n",
      "episode 449, reward -139.0, memory_length 2000, epsilon 0.017579707940174417 total_time 724.0\n",
      "States_tracked value 380.9654541015625.\n",
      "States_tracked value 377.26104736328125.\n",
      "episode 459, reward 1184.0, memory_length 2000, epsilon 0.01606664331448563 total_time 721.0\n",
      "States_tracked value 365.4043273925781.\n",
      "States_tracked value 374.3079833984375.\n",
      "episode 469, reward 667.0, memory_length 2000, epsilon 0.014683806367737895 total_time 724.0\n",
      "States_tracked value 357.3884582519531.\n",
      "States_tracked value 368.0506286621094.\n",
      "episode 479, reward 1172.0, memory_length 2000, epsilon 0.013419988557959905 total_time 722.0\n",
      "States_tracked value 357.38470458984375.\n"
     ]
    },
    {
     "name": "stdout",
     "output_type": "stream",
     "text": [
      "States_tracked value 341.46514892578125.\n",
      "episode 489, reward 1410.0, memory_length 2000, epsilon 0.012264946049102618 total_time 725.0\n",
      "States_tracked value 356.1128845214844.\n",
      "States_tracked value 394.24957275390625.\n",
      "episode 499, reward 1387.0, memory_length 2000, epsilon 0.011209316679944023 total_time 727.0\n",
      "States_tracked value 317.072021484375.\n",
      "States_tracked value 360.4075927734375.\n",
      "episode 509, reward 956.0, memory_length 2000, epsilon 0.010244544079381792 total_time 723.0\n",
      "States_tracked value 355.8146667480469.\n",
      "States_tracked value 991.331787109375.\n",
      "episode 519, reward 267.0, memory_length 2000, epsilon 0.009362808313032746 total_time 730.0\n",
      "States_tracked value 531.624755859375.\n",
      "States_tracked value 319.97772216796875.\n",
      "episode 529, reward 729.0, memory_length 2000, epsilon 0.008556962498997327 total_time 722.0\n",
      "States_tracked value 237.21151733398438.\n",
      "States_tracked value 256.9021301269531.\n",
      "episode 539, reward 911.0, memory_length 2000, epsilon 0.007820474879030072 total_time 721.0\n",
      "States_tracked value 276.7641906738281.\n",
      "States_tracked value 309.7139892578125.\n",
      "episode 549, reward 848.0, memory_length 2000, epsilon 0.007147375875575819 total_time 723.0\n",
      "States_tracked value 322.5049743652344.\n",
      "States_tracked value 320.7412414550781.\n",
      "episode 559, reward 1325.0, memory_length 2000, epsilon 0.006532209705543992 total_time 724.0\n",
      "States_tracked value 320.7339782714844.\n",
      "States_tracked value 312.6614074707031.\n",
      "episode 569, reward 1171.0, memory_length 2000, epsilon 0.005969990158628042 total_time 724.0\n",
      "States_tracked value 330.44061279296875.\n",
      "States_tracked value 355.2779846191406.\n",
      "episode 579, reward 1108.0, memory_length 2000, epsilon 0.005456160181732495 total_time 729.0\n",
      "States_tracked value 391.30169677734375.\n",
      "States_tracked value 368.25775146484375.\n",
      "episode 589, reward 1135.0, memory_length 2000, epsilon 0.004986554941920459 total_time 733.0\n",
      "States_tracked value 571.9403076171875.\n",
      "States_tracked value 348.4598388671875.\n",
      "episode 599, reward 785.0, memory_length 2000, epsilon 0.004557368068489462 total_time 721.0\n",
      "States_tracked value 384.812744140625.\n",
      "States_tracked value 59359.4140625.\n",
      "episode 609, reward 465.0, memory_length 2000, epsilon 0.004165120800551822 total_time 723.0\n",
      "States_tracked value 1203.340087890625.\n",
      "States_tracked value 358.8931579589844.\n",
      "episode 619, reward 149.0, memory_length 2000, epsilon 0.0038066337900461746 total_time 721.0\n",
      "States_tracked value 102.34864807128906.\n",
      "States_tracked value 208.66281127929688.\n",
      "episode 629, reward 847.0, memory_length 2000, epsilon 0.0034790013316304083 total_time 724.0\n",
      "States_tracked value 66.59774017333984.\n",
      "States_tracked value 136.60549926757812.\n",
      "episode 639, reward 32.0, memory_length 2000, epsilon 0.003179567810577161 total_time 723.0\n",
      "States_tracked value 260.09490966796875.\n",
      "States_tracked value 295.8297424316406.\n",
      "episode 649, reward 669.0, memory_length 2000, epsilon 0.002905906177771029 total_time 727.0\n",
      "States_tracked value 267.7466735839844.\n",
      "States_tracked value 319.9360656738281.\n",
      "episode 659, reward 1170.0, memory_length 2000, epsilon 0.0026557982773372612 total_time 730.0\n",
      "States_tracked value 352.8816223144531.\n",
      "States_tracked value 360.7059326171875.\n",
      "episode 669, reward 1325.0, memory_length 2000, epsilon 0.0024272168674481275 total_time 721.0\n",
      "States_tracked value 341.0999450683594.\n",
      "States_tracked value 360.53759765625.\n",
      "episode 679, reward 699.0, memory_length 2000, epsilon 0.002218309188577185 total_time 728.0\n",
      "States_tracked value 362.0525817871094.\n",
      "States_tracked value 375.6929016113281.\n",
      "episode 689, reward 1071.0, memory_length 2000, epsilon 0.0020273819460144035 total_time 729.0\n",
      "States_tracked value 367.6697082519531.\n",
      "States_tracked value 481.58990478515625.\n",
      "episode 699, reward 936.0, memory_length 2000, epsilon 0.001852887584918433 total_time 721.0\n",
      "States_tracked value 429.45416259765625.\n",
      "States_tracked value 1734.0372314453125.\n",
      "episode 709, reward -53.0, memory_length 2000, epsilon 0.0016934117466588473 total_time 731.0\n",
      "States_tracked value 589.592529296875.\n",
      "States_tracked value 412.0659484863281.\n",
      "episode 719, reward 1163.0, memory_length 2000, epsilon 0.0015476618047761414 total_time 722.0\n",
      "States_tracked value 376.6351318359375.\n",
      "States_tracked value 352.4615478515625.\n",
      "episode 729, reward 1081.0, memory_length 2000, epsilon 0.0014144563876380659 total_time 726.0\n",
      "States_tracked value 331.6105651855469.\n",
      "States_tracked value 339.09912109375.\n",
      "episode 739, reward 1231.0, memory_length 2000, epsilon 0.0012927158028685174 total_time 722.0\n",
      "States_tracked value 341.0941162109375.\n",
      "States_tracked value 348.402587890625.\n",
      "episode 749, reward 1373.0, memory_length 2000, epsilon 0.0011814532859344717 total_time 728.0\n",
      "States_tracked value 344.40301513671875.\n",
      "States_tracked value 371.8597717285156.\n",
      "episode 759, reward 1135.0, memory_length 2000, epsilon 0.0010797670019566793 total_time 728.0\n",
      "States_tracked value 348.67236328125.\n",
      "States_tracked value 367.1766052246094.\n",
      "episode 769, reward 828.0, memory_length 2000, epsilon 0.0009868327359150286 total_time 728.0\n",
      "States_tracked value 387.82843017578125.\n",
      "States_tracked value 418.6568908691406.\n",
      "episode 779, reward 1140.0, memory_length 2000, epsilon 0.000901897211999271 total_time 723.0\n",
      "States_tracked value 335.16937255859375.\n",
      "States_tracked value 426.66943359375.\n",
      "episode 789, reward -398.0, memory_length 2000, epsilon 0.00082427198795531 total_time 723.0\n",
      "States_tracked value 7296.70458984375.\n",
      "States_tracked value 494.18634033203125.\n",
      "episode 799, reward 1449.0, memory_length 2000, epsilon 0.0007533278749378675 total_time 728.0\n",
      "States_tracked value 297.0762634277344.\n",
      "States_tracked value 270.1946105957031.\n",
      "episode 809, reward 739.0, memory_length 2000, epsilon 0.0006884898376398209 total_time 722.0\n",
      "States_tracked value 273.4880065917969.\n",
      "States_tracked value 288.7823486328125.\n",
      "episode 819, reward 1537.0, memory_length 2000, epsilon 0.000629232333361357 total_time 724.0\n",
      "States_tracked value 300.9070129394531.\n",
      "States_tracked value 320.1259765625.\n",
      "episode 829, reward 1016.0, memory_length 2000, epsilon 0.0005750750522399258 total_time 723.0\n",
      "States_tracked value 342.2524719238281.\n",
      "States_tracked value 350.08599853515625.\n",
      "episode 839, reward 11.0, memory_length 2000, epsilon 0.0005255790241135489 total_time 724.0\n",
      "States_tracked value 339.77581787109375.\n",
      "States_tracked value 330.4197998046875.\n",
      "episode 849, reward -291.0, memory_length 2000, epsilon 0.0004803430604617912 total_time 726.0\n",
      "States_tracked value 320.53228759765625.\n",
      "States_tracked value 361.69097900390625.\n",
      "episode 859, reward 1082.0, memory_length 2000, epsilon 0.0004390005025846541 total_time 722.0\n",
      "States_tracked value 342.8328552246094.\n",
      "States_tracked value 380.9263610839844.\n",
      "episode 869, reward 1113.0, memory_length 2000, epsilon 0.0004012162496618575 total_time 722.0\n",
      "States_tracked value 333.80975341796875.\n",
      "States_tracked value 304.6888732910156.\n",
      "episode 879, reward 587.0, memory_length 2000, epsilon 0.0003666840426035385 total_time 723.0\n",
      "States_tracked value 160.71170043945312.\n",
      "States_tracked value 171.2290496826172.\n",
      "episode 889, reward 1100.0, memory_length 2000, epsilon 0.0003351239816766975 total_time 725.0\n",
      "States_tracked value 251.8341064453125.\n",
      "States_tracked value 294.01531982421875.\n",
      "episode 899, reward 968.0, memory_length 2000, epsilon 0.00030628025778659754 total_time 726.0\n",
      "States_tracked value 341.0065002441406.\n",
      "States_tracked value 369.2864990234375.\n",
      "episode 909, reward 1131.0, memory_length 2000, epsilon 0.0002799190790240824 total_time 725.0\n",
      "States_tracked value 381.7452392578125.\n",
      "States_tracked value 366.6399230957031.\n",
      "episode 919, reward 360.0, memory_length 2000, epsilon 0.0002558267756725103 total_time 723.0\n",
      "States_tracked value 375.70361328125.\n",
      "States_tracked value 350.9737548828125.\n",
      "episode 929, reward 837.0, memory_length 2000, epsilon 0.000233808068314494 total_time 721.0\n",
      "States_tracked value 361.1189270019531.\n",
      "States_tracked value 319.01513671875.\n",
      "episode 939, reward -172.0, memory_length 2000, epsilon 0.0002136844850006418 total_time 726.0\n",
      "States_tracked value 363.1802978515625.\n",
      "States_tracked value 606.0321044921875.\n",
      "episode 949, reward 883.0, memory_length 2000, epsilon 0.00019529291465070857 total_time 722.0\n",
      "States_tracked value 339.2651672363281.\n",
      "States_tracked value 348.2488708496094.\n"
     ]
    },
    {
     "name": "stdout",
     "output_type": "stream",
     "text": [
      "episode 959, reward 1540.0, memory_length 2000, epsilon 0.0001784842849617946 total_time 724.0\n",
      "States_tracked value 350.6305847167969.\n",
      "States_tracked value 374.0333557128906.\n",
      "episode 969, reward 1390.0, memory_length 2000, epsilon 0.00016312235410742063 total_time 722.0\n",
      "States_tracked value 352.7123718261719.\n",
      "States_tracked value 381.27886962890625.\n",
      "episode 979, reward 1584.0, memory_length 2000, epsilon 0.00014908260643362796 total_time 729.0\n",
      "States_tracked value 366.5257873535156.\n",
      "States_tracked value 338.46807861328125.\n",
      "episode 989, reward 1092.0, memory_length 2000, epsilon 0.00013625124320120965 total_time 723.0\n",
      "States_tracked value 323.2596740722656.\n",
      "States_tracked value 452.6321105957031.\n",
      "episode 999, reward 1297.0, memory_length 2000, epsilon 0.0001245242601935599 total_time 724.0\n",
      "States_tracked value 375.8285217285156.\n",
      "25578.383514881134\n"
     ]
    }
   ],
   "source": [
    "start_time = time.time()\n",
    "score_tracked = []\n",
    "\n",
    "for episode in range(n_episodes):\n",
    "\n",
    "    done = False\n",
    "    score = 0\n",
    "    track_reward = False\n",
    "\n",
    "    # reset at the start of each episode\n",
    "    env = CabDriver()\n",
    "    action_space, state_space, state = env.reset()\n",
    "    # Save the initial state so that reward can be tracked if initial state is [0,0,0]\n",
    "    initial_state = env.state_init\n",
    "\n",
    "    # Total time driver rode in this episode\n",
    "    total_time = 0  \n",
    "    while not done:\n",
    "        # 1. Get a list of the ride requests driver got.\n",
    "        possible_actions_indices, actions = env.requests(state)\n",
    "        # 2. Pick epsilon-greedy action from possible actions for the current state.\n",
    "        action = agent.get_action(state, possible_actions_indices, actions)\n",
    "\n",
    "        # 3. Evaluate your reward and next state\n",
    "        reward, next_state, step_time = env.step(state, env.action_space[action], Time_matrix)\n",
    "        # 4. Total time driver rode in this episode\n",
    "        total_time += step_time\n",
    "        if (total_time > episode_time):\n",
    "            # if ride does not complete in stipulated time skip\n",
    "            # it and move to next episode.\n",
    "            done = True\n",
    "        else:\n",
    "            # 5. Append the experience to the memory\n",
    "            agent.append_sample(state, action, reward, next_state, done)\n",
    "            # 6. Train the model by calling function agent.train_model\n",
    "            agent.train_model()\n",
    "            # 7. Keep a track of rewards, Q-values, loss\n",
    "            score += reward\n",
    "            state = next_state\n",
    "\n",
    "    # store total reward obtained in this episode\n",
    "    rewards_per_episode.append(score)\n",
    "    episodes.append(episode)\n",
    "    \n",
    "\n",
    "    # epsilon decay\n",
    "    agent.epsilon = (1 - 0.00001) * np.exp(agent.epsilon_decay * episode)\n",
    "\n",
    "    # every 10 episodes:\n",
    "    if ((episode + 1) % 10 == 0):\n",
    "        print(\"episode {0}, reward {1}, memory_length {2}, epsilon {3} total_time {4}\".format(episode,\n",
    "                                                                         score,\n",
    "                                                                         len(agent.memory),\n",
    "                                                                         agent.epsilon, total_time))\n",
    "    # Save the Q_value of the state, action pair we are tracking\n",
    "    if ((episode + 1) % 5 == 0):\n",
    "        agent.save_tracking_states()\n",
    "\n",
    "    # Total rewards per episode\n",
    "    score_tracked.append(score)\n",
    "\n",
    "    if(episode % 1000 == 0):\n",
    "        print(\"Saving Model {}\".format(episode))\n",
    "        agent.save(name=\"SuperCabs_car_model.h5\")\n",
    "\n",
    "    \n",
    "elapsed_time = time.time() - start_time\n",
    "print(elapsed_time)\n"
   ]
  },
  {
   "cell_type": "markdown",
   "metadata": {
    "id": "JlACYJ5WilsW",
    "papermill": {
     "duration": 0.033852,
     "end_time": "2020-11-20T05:33:04.496831",
     "exception": false,
     "start_time": "2020-11-20T05:33:04.462979",
     "status": "completed"
    },
    "tags": []
   },
   "source": [
    "### The 'total_time' above includes the 'last ride' time also in each episode. Although it exceeds 24*30 = 720, our code drops the last ride from the replay buffer. So the total ride time per episode is limited to < 720"
   ]
  },
  {
   "cell_type": "markdown",
   "metadata": {
    "id": "q6RV9PtEilsX",
    "papermill": {
     "duration": 0.034187,
     "end_time": "2020-11-20T05:33:04.565261",
     "exception": false,
     "start_time": "2020-11-20T05:33:04.531074",
     "status": "completed"
    },
    "tags": []
   },
   "source": [
    "### Save the tracked states "
   ]
  },
  {
   "cell_type": "code",
   "execution_count": 9,
   "metadata": {
    "execution": {
     "iopub.execute_input": "2020-11-20T05:33:04.640833Z",
     "iopub.status.busy": "2020-11-20T05:33:04.640041Z",
     "iopub.status.idle": "2020-11-20T05:33:04.643095Z",
     "shell.execute_reply": "2020-11-20T05:33:04.642408Z"
    },
    "id": "yz8OamsfilsY",
    "papermill": {
     "duration": 0.043774,
     "end_time": "2020-11-20T05:33:04.643235",
     "exception": false,
     "start_time": "2020-11-20T05:33:04.599461",
     "status": "completed"
    },
    "tags": []
   },
   "outputs": [],
   "source": [
    "def save_obj(obj, name ):\n",
    "    with open( name + '.pkl', 'wb') as f:\n",
    "        pickle.dump(obj, f, pickle.HIGHEST_PROTOCOL)"
   ]
  },
  {
   "cell_type": "code",
   "execution_count": 10,
   "metadata": {
    "execution": {
     "iopub.execute_input": "2020-11-20T05:33:04.717976Z",
     "iopub.status.busy": "2020-11-20T05:33:04.717202Z",
     "iopub.status.idle": "2020-11-20T05:33:04.721269Z",
     "shell.execute_reply": "2020-11-20T05:33:04.720484Z"
    },
    "id": "avXR_XRSilsa",
    "papermill": {
     "duration": 0.043651,
     "end_time": "2020-11-20T05:33:04.721407",
     "exception": false,
     "start_time": "2020-11-20T05:33:04.677756",
     "status": "completed"
    },
    "tags": []
   },
   "outputs": [],
   "source": [
    "save_obj(agent.states_tracked,\"SuperCabs_model_weights\")"
   ]
  },
  {
   "cell_type": "markdown",
   "metadata": {
    "id": "La22aKpLilsb",
    "papermill": {
     "duration": 0.034111,
     "end_time": "2020-11-20T05:33:04.790303",
     "exception": false,
     "start_time": "2020-11-20T05:33:04.756192",
     "status": "completed"
    },
    "tags": []
   },
   "source": [
    "### Tracking Convergence"
   ]
  },
  {
   "cell_type": "code",
   "execution_count": 11,
   "metadata": {
    "colab": {
     "base_uri": "https://localhost:8080/"
    },
    "execution": {
     "iopub.execute_input": "2020-11-20T05:33:04.868338Z",
     "iopub.status.busy": "2020-11-20T05:33:04.867128Z",
     "iopub.status.idle": "2020-11-20T05:33:04.872054Z",
     "shell.execute_reply": "2020-11-20T05:33:04.871406Z"
    },
    "id": "vp2XkwuSilsb",
    "outputId": "88b216af-9bc3-42e6-a770-fb4124a252cd",
    "papermill": {
     "duration": 0.047493,
     "end_time": "2020-11-20T05:33:04.872178",
     "exception": false,
     "start_time": "2020-11-20T05:33:04.824685",
     "status": "completed"
    },
    "tags": []
   },
   "outputs": [
    {
     "data": {
      "text/plain": [
       "[1469.4569,\n",
       " 148.27402,\n",
       " 201.91495,\n",
       " 311.6485,\n",
       " 409.75647,\n",
       " 407.02573,\n",
       " 2108.2156,\n",
       " 88.34707,\n",
       " 272.461,\n",
       " 190.54172,\n",
       " 175.12357,\n",
       " 171.36598,\n",
       " 171.85172,\n",
       " 164.1374,\n",
       " 164.03802,\n",
       " 171.59647,\n",
       " 179.95253,\n",
       " 159.63972,\n",
       " 222.87624,\n",
       " 217.88863,\n",
       " 303.32034,\n",
       " 540.34296,\n",
       " 358.87857,\n",
       " 367.02036,\n",
       " 387.7605,\n",
       " 818.2554,\n",
       " 532.3041,\n",
       " 1244.252,\n",
       " 279.5982,\n",
       " 94.27875,\n",
       " 113.007416,\n",
       " 154.71709,\n",
       " 222.67564,\n",
       " 263.61597,\n",
       " 324.17813,\n",
       " 326.6834,\n",
       " 318.14307,\n",
       " 312.12152,\n",
       " 294.2769,\n",
       " 317.40677,\n",
       " 335.58777,\n",
       " 299.47455,\n",
       " 274.9882,\n",
       " 307.78397,\n",
       " 372.40268,\n",
       " 353.29947,\n",
       " 296.1079,\n",
       " 337.47684,\n",
       " 439.5971,\n",
       " 413.82172,\n",
       " 1101.37,\n",
       " 375.7957,\n",
       " 313.56592,\n",
       " 320.24167,\n",
       " 305.0534,\n",
       " 353.52933,\n",
       " 360.2735,\n",
       " 375.32047,\n",
       " 379.0484,\n",
       " 371.18094,\n",
       " 313.7961,\n",
       " 364.21756,\n",
       " 372.65768,\n",
       " 354.859,\n",
       " 353.3245,\n",
       " 322.40674,\n",
       " 3566.4014,\n",
       " 823.40735,\n",
       " 528.0614,\n",
       " 442.9148,\n",
       " 438.10886,\n",
       " 431.95193,\n",
       " 405.68228,\n",
       " 377.53488,\n",
       " 369.919,\n",
       " 358.84406,\n",
       " 331.63406,\n",
       " 332.8695,\n",
       " 339.21384,\n",
       " 378.5627,\n",
       " 412.5927,\n",
       " 352.51547,\n",
       " 269.23737,\n",
       " 384.04178,\n",
       " 19074.191,\n",
       " 954.1812,\n",
       " 570.69104,\n",
       " 463.1046,\n",
       " 415.409,\n",
       " 380.96545,\n",
       " 377.26105,\n",
       " 365.40433,\n",
       " 374.30798,\n",
       " 357.38846,\n",
       " 368.05063,\n",
       " 357.3847,\n",
       " 341.46515,\n",
       " 356.11288,\n",
       " 394.24957,\n",
       " 317.07202,\n",
       " 360.4076,\n",
       " 355.81467,\n",
       " 991.3318,\n",
       " 531.62476,\n",
       " 319.97772,\n",
       " 237.21152,\n",
       " 256.90213,\n",
       " 276.7642,\n",
       " 309.714,\n",
       " 322.50497,\n",
       " 320.74124,\n",
       " 320.73398,\n",
       " 312.6614,\n",
       " 330.4406,\n",
       " 355.27798,\n",
       " 391.3017,\n",
       " 368.25775,\n",
       " 571.9403,\n",
       " 348.45984,\n",
       " 384.81274,\n",
       " 59359.414,\n",
       " 1203.3401,\n",
       " 358.89316,\n",
       " 102.34865,\n",
       " 208.66281,\n",
       " 66.59774,\n",
       " 136.6055,\n",
       " 260.0949,\n",
       " 295.82974,\n",
       " 267.74667,\n",
       " 319.93607,\n",
       " 352.88162,\n",
       " 360.70593,\n",
       " 341.09995,\n",
       " 360.5376,\n",
       " 362.05258,\n",
       " 375.6929,\n",
       " 367.6697,\n",
       " 481.5899,\n",
       " 429.45416,\n",
       " 1734.0372,\n",
       " 589.5925,\n",
       " 412.06595,\n",
       " 376.63513,\n",
       " 352.46155,\n",
       " 331.61057,\n",
       " 339.09912,\n",
       " 341.09412,\n",
       " 348.4026,\n",
       " 344.403,\n",
       " 371.85977,\n",
       " 348.67236,\n",
       " 367.1766,\n",
       " 387.82843,\n",
       " 418.6569,\n",
       " 335.16937,\n",
       " 426.66943,\n",
       " 7296.7046,\n",
       " 494.18634,\n",
       " 297.07626,\n",
       " 270.1946,\n",
       " 273.488,\n",
       " 288.78235,\n",
       " 300.907,\n",
       " 320.12598,\n",
       " 342.25247,\n",
       " 350.086,\n",
       " 339.77582,\n",
       " 330.4198,\n",
       " 320.5323,\n",
       " 361.69098,\n",
       " 342.83286,\n",
       " 380.92636,\n",
       " 333.80975,\n",
       " 304.68887,\n",
       " 160.7117,\n",
       " 171.22905,\n",
       " 251.8341,\n",
       " 294.01532,\n",
       " 341.0065,\n",
       " 369.2865,\n",
       " 381.74524,\n",
       " 366.63992,\n",
       " 375.7036,\n",
       " 350.97375,\n",
       " 361.11893,\n",
       " 319.01514,\n",
       " 363.1803,\n",
       " 606.0321,\n",
       " 339.26517,\n",
       " 348.24887,\n",
       " 350.63058,\n",
       " 374.03336,\n",
       " 352.71237,\n",
       " 381.27887,\n",
       " 366.5258,\n",
       " 338.46808,\n",
       " 323.25967,\n",
       " 452.6321,\n",
       " 375.82852]"
      ]
     },
     "execution_count": 11,
     "metadata": {},
     "output_type": "execute_result"
    }
   ],
   "source": [
    "agent.states_tracked"
   ]
  },
  {
   "cell_type": "code",
   "execution_count": 12,
   "metadata": {
    "execution": {
     "iopub.execute_input": "2020-11-20T05:33:04.949879Z",
     "iopub.status.busy": "2020-11-20T05:33:04.948835Z",
     "iopub.status.idle": "2020-11-20T05:33:04.951893Z",
     "shell.execute_reply": "2020-11-20T05:33:04.952444Z"
    },
    "id": "uXYJajF4ilsd",
    "papermill": {
     "duration": 0.044759,
     "end_time": "2020-11-20T05:33:04.952605",
     "exception": false,
     "start_time": "2020-11-20T05:33:04.907846",
     "status": "completed"
    },
    "tags": []
   },
   "outputs": [],
   "source": [
    "state_tracked_sample = [agent.states_tracked[i] for i in range(len(agent.states_tracked)) if agent.states_tracked[i] < 1000]"
   ]
  },
  {
   "cell_type": "markdown",
   "metadata": {
    "id": "FD9cZWyzilse",
    "papermill": {
     "duration": 0.034896,
     "end_time": "2020-11-20T05:33:05.022980",
     "exception": false,
     "start_time": "2020-11-20T05:33:04.988084",
     "status": "completed"
    },
    "tags": []
   },
   "source": [
    "### 5. Plot the Q-Value convergence for state action pairs"
   ]
  },
  {
   "cell_type": "code",
   "execution_count": 14,
   "metadata": {
    "colab": {
     "base_uri": "https://localhost:8080/",
     "height": 444
    },
    "execution": {
     "iopub.execute_input": "2020-11-20T05:33:05.101267Z",
     "iopub.status.busy": "2020-11-20T05:33:05.100467Z",
     "iopub.status.idle": "2020-11-20T05:33:05.760851Z",
     "shell.execute_reply": "2020-11-20T05:33:05.760094Z"
    },
    "id": "j3IIek62ilsf",
    "outputId": "470ca8a2-dc37-458d-87a7-938553ec3ae4",
    "papermill": {
     "duration": 0.702646,
     "end_time": "2020-11-20T05:33:05.760971",
     "exception": false,
     "start_time": "2020-11-20T05:33:05.058325",
     "status": "completed"
    },
    "tags": []
   },
   "outputs": [
    {
     "data": {
      "image/png": "[encoded data removed]",
      "text/plain": [
       "<Figure size 1152x504 with 1 Axes>"
      ]
     },
     "metadata": {
      "needs_background": "light"
     },
     "output_type": "display_data"
    }
   ],
   "source": [
    "plt.figure(0, figsize=(16,7))\n",
    "plt.title('Q_value for state [0,0,0]  action (0,2)')\n",
    "xaxis = np.asarray(range(0, len(agent.states_tracked)))\n",
    "plt.semilogy(xaxis,np.asarray(agent.states_tracked))\n",
    "plt.show()"
   ]
  },
  {
   "cell_type": "markdown",
   "metadata": {
    "id": "hdO7NmTmilsg",
    "papermill": {
     "duration": 0.036964,
     "end_time": "2020-11-20T05:33:05.835582",
     "exception": false,
     "start_time": "2020-11-20T05:33:05.798618",
     "status": "completed"
    },
    "tags": []
   },
   "source": [
    "#### Using log scale as the initial q_values are way too high compared to the steady state value (around 600)"
   ]
  },
  {
   "cell_type": "markdown",
   "metadata": {
    "id": "r96Dq3uRilsh",
    "papermill": {
     "duration": 0.036608,
     "end_time": "2020-11-20T05:33:05.910437",
     "exception": false,
     "start_time": "2020-11-20T05:33:05.873829",
     "status": "completed"
    },
    "tags": []
   },
   "source": [
    "### 6. Track rewards per episode."
   ]
  },
  {
   "cell_type": "code",
   "execution_count": 15,
   "metadata": {
    "execution": {
     "iopub.execute_input": "2020-11-20T05:33:05.991287Z",
     "iopub.status.busy": "2020-11-20T05:33:05.990165Z",
     "iopub.status.idle": "2020-11-20T05:33:05.993300Z",
     "shell.execute_reply": "2020-11-20T05:33:05.992590Z"
    },
    "id": "zgFa6JOVilsh",
    "papermill": {
     "duration": 0.045876,
     "end_time": "2020-11-20T05:33:05.993418",
     "exception": false,
     "start_time": "2020-11-20T05:33:05.947542",
     "status": "completed"
    },
    "tags": []
   },
   "outputs": [],
   "source": [
    "score_tracked_sample = [score_tracked[i] for i in range(len(score_tracked)) if (i % 4 == 0)]"
   ]
  },
  {
   "cell_type": "code",
   "execution_count": 16,
   "metadata": {
    "colab": {
     "base_uri": "https://localhost:8080/",
     "height": 444
    },
    "execution": {
     "iopub.execute_input": "2020-11-20T05:33:06.083086Z",
     "iopub.status.busy": "2020-11-20T05:33:06.080378Z",
     "iopub.status.idle": "2020-11-20T05:33:06.279799Z",
     "shell.execute_reply": "2020-11-20T05:33:06.280413Z"
    },
    "id": "XzR-YlZkilsj",
    "outputId": "84dcac2b-0094-4ba4-802c-d77e4ed8caf3",
    "papermill": {
     "duration": 0.250114,
     "end_time": "2020-11-20T05:33:06.280572",
     "exception": false,
     "start_time": "2020-11-20T05:33:06.030458",
     "status": "completed"
    },
    "tags": []
   },
   "outputs": [
    {
     "data": {
      "image/png": "[encoded data removed]",
      "text/plain": [
       "<Figure size 1152x504 with 1 Axes>"
      ]
     },
     "metadata": {
      "needs_background": "light"
     },
     "output_type": "display_data"
    }
   ],
   "source": [
    "plt.figure(0, figsize=(16,7))\n",
    "plt.title('Rewards per episode')\n",
    "xaxis = np.asarray(range(0, len(score_tracked_sample)))\n",
    "plt.plot(xaxis,np.asarray(score_tracked_sample))\n",
    "plt.show()"
   ]
  },
  {
   "cell_type": "markdown",
   "metadata": {
    "id": "hLH_t_bOilsk",
    "papermill": {
     "duration": 0.046451,
     "end_time": "2020-11-20T05:33:06.366350",
     "exception": false,
     "start_time": "2020-11-20T05:33:06.319899",
     "status": "completed"
    },
    "tags": []
   },
   "source": [
    "### We can see from the above plot that the rewards converge at around 1500. Since the initial state is picked to be random for each episode, some initial states may be less rewarding than others inherently regardless of the model quality."
   ]
  },
  {
   "cell_type": "markdown",
   "metadata": {
    "id": "lOqIAVpuilsk",
    "papermill": {
     "duration": 0.039916,
     "end_time": "2020-11-20T05:33:06.459348",
     "exception": false,
     "start_time": "2020-11-20T05:33:06.419432",
     "status": "completed"
    },
    "tags": []
   },
   "source": [
    "#### Epsilon-decay sample function"
   ]
  },
  {
   "cell_type": "code",
   "execution_count": 17,
   "metadata": {
    "execution": {
     "iopub.execute_input": "2020-11-20T05:33:06.679320Z",
     "iopub.status.busy": "2020-11-20T05:33:06.678130Z",
     "iopub.status.idle": "2020-11-20T05:33:06.719494Z",
     "shell.execute_reply": "2020-11-20T05:33:06.718828Z"
    },
    "id": "3R4PiOdQilsm",
    "papermill": {
     "duration": 0.115634,
     "end_time": "2020-11-20T05:33:06.719619",
     "exception": false,
     "start_time": "2020-11-20T05:33:06.603985",
     "status": "completed"
    },
    "tags": []
   },
   "outputs": [],
   "source": [
    "import numpy as np\n",
    "time = np.arange(0,10000)\n",
    "epsilon = []\n",
    "for i in range(0,10000):\n",
    "    epsilon.append((1 - 0.00001) * np.exp(-0.0005 * i))"
   ]
  },
  {
   "cell_type": "code",
   "execution_count": 18,
   "metadata": {
    "colab": {
     "base_uri": "https://localhost:8080/",
     "height": 265
    },
    "execution": {
     "iopub.execute_input": "2020-11-20T05:33:06.810003Z",
     "iopub.status.busy": "2020-11-20T05:33:06.804255Z",
     "iopub.status.idle": "2020-11-20T05:33:07.057940Z",
     "shell.execute_reply": "2020-11-20T05:33:07.058805Z"
    },
    "id": "0edngkHOilsn",
    "outputId": "aedea3a7-0150-472e-bde7-2e1c5352d09b",
    "papermill": {
     "duration": 0.300047,
     "end_time": "2020-11-20T05:33:07.059007",
     "exception": false,
     "start_time": "2020-11-20T05:33:06.758960",
     "status": "completed"
    },
    "tags": []
   },
   "outputs": [
    {
     "data": {
      "image/png": "[encoded data removed]",
      "text/plain": [
       "<Figure size 432x288 with 1 Axes>"
      ]
     },
     "metadata": {
      "needs_background": "light"
     },
     "output_type": "display_data"
    }
   ],
   "source": [
    "import matplotlib.pyplot as plt\n",
    "plt.plot(time, epsilon)\n",
    "plt.show()"
   ]
  },
  {
   "cell_type": "code",
   "execution_count": null,
   "metadata": {},
   "outputs": [],
   "source": []
  }
 ],
 "metadata": {
  "accelerator": "TPU",
  "colab": {
   "collapsed_sections": [],
   "machine_shape": "hm",
   "name": "FINAL_Working_RLAssignment.ipynb",
   "provenance": []
  },
  "kernelspec": {
   "display_name": "Python 3",
   "language": "python",
   "name": "python3"
  },
  "language_info": {
   "codemirror_mode": {
    "name": "ipython",
    "version": 3
   },
   "file_extension": ".py",
   "mimetype": "text/x-python",
   "name": "python",
   "nbconvert_exporter": "python",
   "pygments_lexer": "ipython3",
   "version": "3.8.8"
  },
  "papermill": {
   "duration": 1594.47491,
   "end_time": "2020-11-20T05:33:08.186166",
   "environment_variables": {},
   "exception": null,
   "input_path": "__notebook__.ipynb",
   "output_path": "__notebook__.ipynb",
   "parameters": {},
   "start_time": "2020-11-20T05:06:33.711256",
   "version": "2.1.0"
  }
 },
 "nbformat": 4,
 "nbformat_minor": 1
}
