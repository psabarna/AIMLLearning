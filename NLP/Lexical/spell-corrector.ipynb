{
 "cells": [
  {
   "cell_type": "code",
   "execution_count": 1,
   "metadata": {},
   "outputs": [],
   "source": [
    "import re\n",
    "from collections import Counter"
   ]
  },
  {
   "cell_type": "code",
   "execution_count": 2,
   "metadata": {},
   "outputs": [],
   "source": [
    "# function to tokenise words\n",
    "def words(document):\n",
    "    \"Convert text to lower case and tokenise the document\"\n",
    "    return re.findall(r'\\w+', document.lower())"
   ]
  },
  {
   "cell_type": "code",
   "execution_count": 3,
   "metadata": {},
   "outputs": [],
   "source": [
    "# create a frequency table of all the words of the document\n",
    "all_words = Counter(words(open('big.txt').read()))"
   ]
  },
  {
   "cell_type": "code",
   "execution_count": 4,
   "metadata": {},
   "outputs": [
    {
     "data": {
      "text/plain": [
       "135"
      ]
     },
     "execution_count": 4,
     "metadata": {},
     "output_type": "execute_result"
    }
   ],
   "source": [
    "# check frequency of a random word, say, 'chair'\n",
    "all_words['chair']"
   ]
  },
  {
   "cell_type": "code",
   "execution_count": 5,
   "metadata": {},
   "outputs": [
    {
     "data": {
      "text/plain": [
       "[('the', 79809),\n",
       " ('of', 40024),\n",
       " ('and', 38312),\n",
       " ('to', 28765),\n",
       " ('in', 22023),\n",
       " ('a', 21124),\n",
       " ('that', 12512),\n",
       " ('he', 12401),\n",
       " ('was', 11410),\n",
       " ('it', 10681)]"
      ]
     },
     "execution_count": 5,
     "metadata": {},
     "output_type": "execute_result"
    }
   ],
   "source": [
    "# look at top 10 frequent words\n",
    "all_words.most_common(10)"
   ]
  },
  {
   "cell_type": "code",
   "execution_count": 6,
   "metadata": {},
   "outputs": [],
   "source": [
    "def edits_one(word):\n",
    "    \"Create all edits that are one edit away from `word`.\"\n",
    "    alphabets    = 'abcdefghijklmnopqrstuvwxyz'\n",
    "    splits     = [(word[:i], word[i:])                   for i in range(len(word) + 1)]\n",
    "    deletes    = [left + right[1:]                       for left, right in splits if right]\n",
    "    inserts    = [left + c + right                       for left, right in splits for c in alphabets]\n",
    "    replaces   = [left + c + right[1:]                   for left, right in splits if right for c in alphabets]\n",
    "    transposes = [left + right[1] + right[0] + right[2:] for left, right in splits if len(right)>1]\n",
    "    return set(deletes + inserts + replaces + transposes)"
   ]
  },
  {
   "cell_type": "code",
   "execution_count": 7,
   "metadata": {},
   "outputs": [],
   "source": [
    "def edits_two(word):\n",
    "    \"Create all edits that are two edits away from `word`.\"\n",
    "    return (e2 for e1 in edits_one(word) for e2 in edits_one(e1))"
   ]
  },
  {
   "cell_type": "code",
   "execution_count": 8,
   "metadata": {},
   "outputs": [],
   "source": [
    "def known(words):\n",
    "    \"The subset of `words` that appear in the `all_words`.\"\n",
    "    return set(word for word in words if word in all_words)"
   ]
  },
  {
   "cell_type": "code",
   "execution_count": 9,
   "metadata": {},
   "outputs": [],
   "source": [
    "def possible_corrections(word):\n",
    "    \"Generate possible spelling corrections for word.\"\n",
    "    return (known([word]) or known(edits_one(word)) or known(edits_two(word)) or [word])"
   ]
  },
  {
   "cell_type": "code",
   "execution_count": 10,
   "metadata": {},
   "outputs": [],
   "source": [
    "def prob(word, N=sum(all_words.values())): \n",
    "    \"Probability of `word`: Number of appearances of 'word' / total number of tokens\"\n",
    "    return all_words[word] / N"
   ]
  },
  {
   "cell_type": "code",
   "execution_count": 11,
   "metadata": {},
   "outputs": [
    {
     "name": "stdout",
     "output_type": "stream",
     "text": [
      "336\n",
      "{'mownney', 'mrnney', 'mlonney', 'monnmey', 'mornney', 'ponney', 'mowney', 'xonney', 'monnee', 'monhey', 'mopney', 'monuey', 'mooney', 'monnoey', 'ionney', 'jmonney', 'monnewy', 'qonney', 'momnney', 'moinney', 'mhonney', 'monnfey', 'qmonney', 'monnqey', 'vonney', 'monnkey', 'monnepy', 'mzonney', 'monnes', 'moniney', 'monuney', 'monneyf', 'monneyr', 'monngy', 'monnty', 'modney', 'yonney', 'monnley', 'monnehy', 'monnwy', 'moncney', 'mznney', 'xmonney', 'monbey', 'mnnney', 'moneney', 'monnxy', 'mojney', 'mouney', 'manney', 'monnem', 'monnpy', 'monneyl', 'moyney', 'monnsy', 'amonney', 'mosney', 'umonney', 'monnwey', 'monnfy', 'monnecy', 'monncey', 'meonney', 'lonney', 'monned', 'monhney', 'monngey', 'emonney', 'moaney', 'omnney', 'montney', 'monnew', 'monpney', 'mononey', 'mqonney', 'mosnney', 'motnney', 'mobnney', 'monnky', 'mqnney', 'muonney', 'monnjey', 'mtnney', 'nonney', 'conney', 'monyney', 'bmonney', 'monnvy', 'monnrey', 'moneey', 'mlnney', 'mvnney', 'uonney', 'mohnney', 'monnep', 'modnney', 'monnjy', 'rmonney', 'monneyz', 'monneh', 'monneyi', 'imonney', 'mwonney', 'monnel', 'mxonney', 'myonney', 'fonney', 'cmonney', 'monkney', 'monnery', 'moeney', 'vmonney', 'monnyy', 'monneyk', 'aonney', 'monmey', 'monwey', 'monnevy', 'msonney', 'mbnney', 'monnny', 'motney', 'monnyey', 'mongney', 'menney', 'momney', 'pmonney', 'mpnney', 'movnney', 'monneyd', 'monnby', 'monnbey', 'monnhy', 'monneya', 'zonney', 'monrey', 'mdnney', 'monnpey', 'onney', 'monnesy', 'monneyb', 'monnvey', 'wmonney', 'monneky', 'monnej', 'molney', 'monqey', 'monnefy', 'monnegy', 'monnaey', 'mtonney', 'monjney', 'mwnney', 'monaey', 'mnonney', 'monndey', 'moznney', 'moiney', 'monneyg', 'monnsey', 'zmonney', 'hmonney', 'mofney', 'dmonney', 'monnezy', 'monneo', 'mnoney', 'eonney', 'monneny', 'monnly', 'monneiy', 'monneym', 'monzney', 'monneyj', 'fmonney', 'monnet', 'maonney', 'mvonney', 'mofnney', 'moonney', 'monnemy', 'moanney', 'mounney', 'monbney', 'minney', 'monpey', 'mronney', 'moxney', 'monnei', 'moenney', 'mopnney', 'moqnney', 'monnoy', 'monnev', 'monnen', 'gmonney', 'monneuy', 'monnxey', 'tonney', 'monneg', 'monnzy', 'monvey', 'monneyw', 'munney', 'monney', 'mojnney', 'monneyn', 'monneb', 'monne', 'moniey', 'monneyq', 'monnez', 'monneq', 'mokney', 'mkonney', 'gonney', 'donney', 'monneyx', 'mognney', 'monley', 'monnry', 'monneyp', 'monnqy', 'ronney', 'mnney', 'mogney', 'mhnney', 'mcnney', 'monny', 'monneby', 'mongey', 'monjey', 'mjnney', 'molnney', 'mocnney', 'monneyy', 'mohney', 'monneyo', 'monner', 'monrney', 'monlney', 'mmonney', 'lmonney', 'monndy', 'monnea', 'monnuey', 'monnety', 'monxney', 'monyey', 'mbonney', 'moknney', 'monneys', 'moxnney', 'oonney', 'mknney', 'monnexy', 'monzey', 'monnay', 'kmonney', 'honney', 'mobney', 'sonney', 'monneyc', 'monncy', 'monniey', 'mozney', 'monneey', 'monniy', 'monneoy', 'money', 'monnex', 'msnney', 'monqney', 'morney', 'wonney', 'monneay', 'monnney', 'monnzey', 'nmonney', 'monneyv', 'monsey', 'mondney', 'monneyh', 'monvney', 'mxnney', 'monneyu', 'smonney', 'moynney', 'mionney', 'moneny', 'mfnney', 'monneye', 'tmonney', 'mondey', 'monnef', 'monnejy', 'konney', 'monnely', 'monnhey', 'mynney', 'monkey', 'moncey', 'montey', 'monoey', 'movney', 'bonney', 'monsney', 'monxey', 'monnmy', 'monneyt', 'omonney', 'monnec', 'mconney', 'mmnney', 'monaney', 'monntey', 'mjonney', 'mfonney', 'mgnney', 'monnek', 'monwney', 'moqney', 'mdonney', 'ymonney', 'mgonney', 'monnye', 'monfney', 'jonney', 'monfey', 'mponney', 'mocney', 'monneqy', 'monneu', 'monnedy', 'monmney', 'monnuy'}\n"
     ]
    }
   ],
   "source": [
    "print(len(set(edits_one(\"monney\"))))\n",
    "print(edits_one(\"monney\"))"
   ]
  },
  {
   "cell_type": "code",
   "execution_count": 12,
   "metadata": {},
   "outputs": [
    {
     "name": "stdout",
     "output_type": "stream",
     "text": [
      "{'money', 'monkey'}\n"
     ]
    }
   ],
   "source": [
    "print(known(edits_one(\"monney\")))"
   ]
  },
  {
   "cell_type": "code",
   "execution_count": 13,
   "metadata": {},
   "outputs": [
    {
     "name": "stdout",
     "output_type": "stream",
     "text": [
      "51013\n",
      "{'money', 'monkey'}\n"
     ]
    }
   ],
   "source": [
    "# Let's look at words that are two edits away\n",
    "print(len(set(edits_two(\"monney\"))))\n",
    "print(known(edits_one(\"monney\")))"
   ]
  },
  {
   "cell_type": "code",
   "execution_count": 14,
   "metadata": {},
   "outputs": [
    {
     "name": "stdout",
     "output_type": "stream",
     "text": [
      "{'money', 'monkey'}\n"
     ]
    }
   ],
   "source": [
    "# Let's look at possible corrections of a word\n",
    "print(possible_corrections(\"monney\"))"
   ]
  },
  {
   "cell_type": "code",
   "execution_count": 15,
   "metadata": {},
   "outputs": [
    {
     "name": "stdout",
     "output_type": "stream",
     "text": [
      "0.0002922233626303688\n",
      "5.378344097491451e-06\n"
     ]
    }
   ],
   "source": [
    "# Let's look at probability of a word\n",
    "print(prob(\"money\"))\n",
    "print(prob(\"monkey\"))"
   ]
  },
  {
   "cell_type": "code",
   "execution_count": 16,
   "metadata": {},
   "outputs": [],
   "source": [
    "def spell_check(word):\n",
    "    \"Print the most probable spelling correction for `word` out of all the `possible_corrections`\"\n",
    "    correct_word = max(possible_corrections(word), key=prob)\n",
    "    if correct_word != word:\n",
    "        return \"Did you mean \" + correct_word + \"?\"\n",
    "    else:\n",
    "        return \"Correct spelling.\""
   ]
  },
  {
   "cell_type": "code",
   "execution_count": 18,
   "metadata": {},
   "outputs": [
    {
     "name": "stdout",
     "output_type": "stream",
     "text": [
      "Did you mean money?\n"
     ]
    }
   ],
   "source": [
    "# test spell check\n",
    "print(spell_check(\"monney\"))"
   ]
  },
  {
   "cell_type": "code",
   "execution_count": 19,
   "metadata": {},
   "outputs": [
    {
     "name": "stdout",
     "output_type": "stream",
     "text": [
      "442\n"
     ]
    }
   ],
   "source": [
    "print(len(edits_one('emfasize')))"
   ]
  },
  {
   "cell_type": "code",
   "execution_count": 24,
   "metadata": {},
   "outputs": [
    {
     "name": "stdout",
     "output_type": "stream",
     "text": [
      "90902\n"
     ]
    }
   ],
   "source": [
    "print(len(set(edits_two('emfasize'))))"
   ]
  },
  {
   "cell_type": "code",
   "execution_count": 25,
   "metadata": {},
   "outputs": [
    {
     "data": {
      "text/plain": [
       "{'emphasize'}"
      ]
     },
     "execution_count": 25,
     "metadata": {},
     "output_type": "execute_result"
    }
   ],
   "source": [
    "possible_corrections('emfasize')"
   ]
  },
  {
   "cell_type": "code",
   "execution_count": null,
   "metadata": {},
   "outputs": [],
   "source": []
  }
 ],
 "metadata": {
  "kernelspec": {
   "display_name": "Python 3",
   "language": "python",
   "name": "python3"
  },
  "language_info": {
   "codemirror_mode": {
    "name": "ipython",
    "version": 3
   },
   "file_extension": ".py",
   "mimetype": "text/x-python",
   "name": "python",
   "nbconvert_exporter": "python",
   "pygments_lexer": "ipython3",
   "version": "3.8.8"
  }
 },
 "nbformat": 4,
 "nbformat_minor": 2
}
