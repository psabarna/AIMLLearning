{
 "cells": [
  {
   "cell_type": "code",
   "execution_count": 11,
   "id": "f3ff223c",
   "metadata": {},
   "outputs": [
    {
     "name": "stdout",
     "output_type": "stream",
     "text": [
      "upGrad NOUN NN\n",
      "is AUX VBZ\n",
      "teaching VERB VBG\n",
      "Data PROPN NNP\n",
      "Science PROPN NNP\n",
      "courses NOUN NNS\n",
      "to ADP IN\n",
      "the DET DT\n",
      "working VERB VBG\n",
      "professionals NOUN NNS\n",
      ". PUNCT .\n"
     ]
    }
   ],
   "source": [
    "import spacy\n",
    "nlp = spacy.load(\"en_core_web_sm\")\n",
    "doc = nlp(\"upGrad is teaching Data Science courses to the working professionals.\")\n",
    "for token in doc:\n",
    "    print(token.text, token.pos_, token.tag_)"
   ]
  },
  {
   "cell_type": "code",
   "execution_count": 12,
   "id": "60e25ff7",
   "metadata": {},
   "outputs": [],
   "source": [
    "\n",
    "\n",
    "# Load the Samsung.txt dataset\n",
    "con=open(\"casestudy/samsung.txt\",'r', encoding=\"utf-8\")\n",
    "samsung_reviews=con.read()\n",
    "con.close()\n",
    "\n"
   ]
  },
  {
   "cell_type": "code",
   "execution_count": 9,
   "id": "91e7f216",
   "metadata": {},
   "outputs": [
    {
     "data": {
      "text/plain": [
       "46355"
      ]
     },
     "execution_count": 9,
     "metadata": {},
     "output_type": "execute_result"
    }
   ],
   "source": [
    "len(samsung_reviews.split(\"\\n\"))"
   ]
  },
  {
   "cell_type": "code",
   "execution_count": 13,
   "id": "f9ee5bbd",
   "metadata": {},
   "outputs": [
    {
     "data": {
      "text/plain": [
       "[\"I feel so LUCKY to have found this used (phone to us & not used hard at all), phone on line from someone who upgraded and sold this one. My Son liked his old one that finally fell apart after 2.5+ years and didn't want an upgrade!! Thank you Seller, we really appreciate it & your honesty re: said used phone.I recommend this seller very highly & would but from them again!!\",\n",
       " 'nice phone, nice up grade from my pantach revue. Very clean set up and easy set up. never had an android phone but they are fantastic to say the least. perfect size for surfing and social media. great phone samsung',\n",
       " 'Very pleased',\n",
       " 'It works good but it goes slow sometimes but its a very good phone I love it']"
      ]
     },
     "execution_count": 13,
     "metadata": {},
     "output_type": "execute_result"
    }
   ],
   "source": [
    "samsung_reviews.split(\"\\n\")[0:4]"
   ]
  },
  {
   "cell_type": "code",
   "execution_count": 14,
   "id": "acf94d7c",
   "metadata": {},
   "outputs": [],
   "source": [
    "review1=samsung_reviews.split(\"\\n\")[0]\n",
    "review1=nlp(review1)"
   ]
  },
  {
   "cell_type": "code",
   "execution_count": 15,
   "id": "b6f23268",
   "metadata": {},
   "outputs": [],
   "source": [
    "sent1 = \"I loved the screen on this phone\"\n",
    "sent2 = \"The battery life on this phone is great\"\n",
    "sent3 = \"The speakers are pathetic\""
   ]
  },
  {
   "cell_type": "code",
   "execution_count": 17,
   "id": "7453ef46",
   "metadata": {},
   "outputs": [],
   "source": [
    "doc1 =  nlp(sent1)\n",
    "doc2 = nlp(sent2)\n",
    "doc3 = nlp(sent3)"
   ]
  },
  {
   "cell_type": "code",
   "execution_count": 18,
   "id": "785c9505",
   "metadata": {},
   "outputs": [
    {
     "name": "stdout",
     "output_type": "stream",
     "text": [
      "I PRON PRP\n",
      "loved VERB VBD\n",
      "the DET DT\n",
      "screen NOUN NN\n",
      "on ADP IN\n",
      "this DET DT\n",
      "phone NOUN NN\n",
      "The DET DT\n",
      "battery NOUN NN\n",
      "life NOUN NN\n",
      "on ADP IN\n",
      "this DET DT\n",
      "phone NOUN NN\n",
      "is AUX VBZ\n",
      "great ADJ JJ\n",
      "The DET DT\n",
      "speakers NOUN NNS\n",
      "are AUX VBP\n",
      "pathetic ADJ JJ\n"
     ]
    }
   ],
   "source": [
    "for tok in doc1:\n",
    "    print(tok.text, tok.pos_, tok.tag_)\n",
    "for tok in doc2:\n",
    "    print(tok.text, tok.pos_, tok.tag_)\n",
    "for tok in doc3:\n",
    "    print(tok.text, tok.pos_, tok.tag_)"
   ]
  },
  {
   "cell_type": "code",
   "execution_count": 20,
   "id": "3fc96c8f",
   "metadata": {},
   "outputs": [
    {
     "data": {
      "text/html": [
       "<div>\n",
       "<style scoped>\n",
       "    .dataframe tbody tr th:only-of-type {\n",
       "        vertical-align: middle;\n",
       "    }\n",
       "\n",
       "    .dataframe tbody tr th {\n",
       "        vertical-align: top;\n",
       "    }\n",
       "\n",
       "    .dataframe thead th {\n",
       "        text-align: right;\n",
       "    }\n",
       "</style>\n",
       "<table border=\"1\" class=\"dataframe\">\n",
       "  <thead>\n",
       "    <tr style=\"text-align: right;\">\n",
       "      <th></th>\n",
       "      <th>text</th>\n",
       "      <th>lemma</th>\n",
       "      <th>pos</th>\n",
       "    </tr>\n",
       "  </thead>\n",
       "  <tbody>\n",
       "    <tr>\n",
       "      <th>0</th>\n",
       "      <td>I</td>\n",
       "      <td>I</td>\n",
       "      <td>PRON</td>\n",
       "    </tr>\n",
       "    <tr>\n",
       "      <th>1</th>\n",
       "      <td>feel</td>\n",
       "      <td>feel</td>\n",
       "      <td>VERB</td>\n",
       "    </tr>\n",
       "    <tr>\n",
       "      <th>2</th>\n",
       "      <td>so</td>\n",
       "      <td>so</td>\n",
       "      <td>ADV</td>\n",
       "    </tr>\n",
       "    <tr>\n",
       "      <th>3</th>\n",
       "      <td>LUCKY</td>\n",
       "      <td>lucky</td>\n",
       "      <td>ADJ</td>\n",
       "    </tr>\n",
       "    <tr>\n",
       "      <th>4</th>\n",
       "      <td>to</td>\n",
       "      <td>to</td>\n",
       "      <td>PART</td>\n",
       "    </tr>\n",
       "  </tbody>\n",
       "</table>\n",
       "</div>"
      ],
      "text/plain": [
       "    text  lemma   pos\n",
       "0      I      I  PRON\n",
       "1   feel   feel  VERB\n",
       "2     so     so   ADV\n",
       "3  LUCKY  lucky   ADJ\n",
       "4     to     to  PART"
      ]
     },
     "execution_count": 20,
     "metadata": {},
     "output_type": "execute_result"
    }
   ],
   "source": [
    "import pandas as pd\n",
    "pos = []\n",
    "lemma = []\n",
    "text = []\n",
    "for tok in review1:\n",
    "    pos.append(tok.pos_)\n",
    "    lemma.append(tok.lemma_)\n",
    "    text.append(tok.text)\n",
    " \n",
    "# Convert the data into a dataframe object.\n",
    "nlp_table = pd.DataFrame({'text':text,'lemma':lemma,'pos':pos})\n",
    "nlp_table.head()\n",
    "\n",
    " "
   ]
  },
  {
   "cell_type": "code",
   "execution_count": 34,
   "id": "5b1cba92",
   "metadata": {},
   "outputs": [
    {
     "data": {
      "text/html": [
       "<div>\n",
       "<style scoped>\n",
       "    .dataframe tbody tr th:only-of-type {\n",
       "        vertical-align: middle;\n",
       "    }\n",
       "\n",
       "    .dataframe tbody tr th {\n",
       "        vertical-align: top;\n",
       "    }\n",
       "\n",
       "    .dataframe thead th {\n",
       "        text-align: right;\n",
       "    }\n",
       "</style>\n",
       "<table border=\"1\" class=\"dataframe\">\n",
       "  <thead>\n",
       "    <tr style=\"text-align: right;\">\n",
       "      <th></th>\n",
       "      <th>text</th>\n",
       "      <th>lemma</th>\n",
       "      <th>pos</th>\n",
       "    </tr>\n",
       "  </thead>\n",
       "  <tbody>\n",
       "    <tr>\n",
       "      <th>65</th>\n",
       "      <td>honesty</td>\n",
       "      <td>honesty</td>\n",
       "      <td>NOUN</td>\n",
       "    </tr>\n",
       "    <tr>\n",
       "      <th>23</th>\n",
       "      <td>line</td>\n",
       "      <td>line</td>\n",
       "      <td>NOUN</td>\n",
       "    </tr>\n",
       "    <tr>\n",
       "      <th>31</th>\n",
       "      <td>one</td>\n",
       "      <td>one</td>\n",
       "      <td>NOUN</td>\n",
       "    </tr>\n",
       "    <tr>\n",
       "      <th>38</th>\n",
       "      <td>one</td>\n",
       "      <td>one</td>\n",
       "      <td>NOUN</td>\n",
       "    </tr>\n",
       "    <tr>\n",
       "      <th>10</th>\n",
       "      <td>phone</td>\n",
       "      <td>phone</td>\n",
       "      <td>NOUN</td>\n",
       "    </tr>\n",
       "    <tr>\n",
       "      <th>21</th>\n",
       "      <td>phone</td>\n",
       "      <td>phone</td>\n",
       "      <td>NOUN</td>\n",
       "    </tr>\n",
       "    <tr>\n",
       "      <th>70</th>\n",
       "      <td>phone</td>\n",
       "      <td>phone</td>\n",
       "      <td>NOUN</td>\n",
       "    </tr>\n",
       "    <tr>\n",
       "      <th>75</th>\n",
       "      <td>seller</td>\n",
       "      <td>seller</td>\n",
       "      <td>NOUN</td>\n",
       "    </tr>\n",
       "    <tr>\n",
       "      <th>52</th>\n",
       "      <td>upgrade</td>\n",
       "      <td>upgrade</td>\n",
       "      <td>NOUN</td>\n",
       "    </tr>\n",
       "    <tr>\n",
       "      <th>46</th>\n",
       "      <td>years</td>\n",
       "      <td>year</td>\n",
       "      <td>NOUN</td>\n",
       "    </tr>\n",
       "  </tbody>\n",
       "</table>\n",
       "</div>"
      ],
      "text/plain": [
       "       text    lemma   pos\n",
       "65  honesty  honesty  NOUN\n",
       "23     line     line  NOUN\n",
       "31      one      one  NOUN\n",
       "38      one      one  NOUN\n",
       "10    phone    phone  NOUN\n",
       "21    phone    phone  NOUN\n",
       "70    phone    phone  NOUN\n",
       "75   seller   seller  NOUN\n",
       "52  upgrade  upgrade  NOUN\n",
       "46    years     year  NOUN"
      ]
     },
     "execution_count": 34,
     "metadata": {},
     "output_type": "execute_result"
    }
   ],
   "source": [
    "nlp_table[nlp_table.pos.isin(['NOUN'])].sort_values('lemma')"
   ]
  },
  {
   "cell_type": "code",
   "execution_count": 35,
   "id": "65c5f492",
   "metadata": {},
   "outputs": [
    {
     "data": {
      "text/plain": [
       "phone      3\n",
       "one        2\n",
       "year       1\n",
       "upgrade    1\n",
       "honesty    1\n",
       "line       1\n",
       "seller     1\n",
       "Name: lemma, dtype: int64"
      ]
     },
     "execution_count": 35,
     "metadata": {},
     "output_type": "execute_result"
    }
   ],
   "source": [
    "nlp_table[nlp_table.pos.isin(['NOUN'])]['lemma'].value_counts()"
   ]
  },
  {
   "cell_type": "code",
   "execution_count": 39,
   "id": "4b99794e",
   "metadata": {},
   "outputs": [
    {
     "data": {
      "text/html": [
       "<div>\n",
       "<style scoped>\n",
       "    .dataframe tbody tr th:only-of-type {\n",
       "        vertical-align: middle;\n",
       "    }\n",
       "\n",
       "    .dataframe tbody tr th {\n",
       "        vertical-align: top;\n",
       "    }\n",
       "\n",
       "    .dataframe thead th {\n",
       "        text-align: right;\n",
       "    }\n",
       "</style>\n",
       "<table border=\"1\" class=\"dataframe\">\n",
       "  <thead>\n",
       "    <tr style=\"text-align: right;\">\n",
       "      <th></th>\n",
       "      <th>text</th>\n",
       "      <th>lemma</th>\n",
       "      <th>pos</th>\n",
       "    </tr>\n",
       "  </thead>\n",
       "  <tbody>\n",
       "    <tr>\n",
       "      <th>0</th>\n",
       "      <td>I</td>\n",
       "      <td>I</td>\n",
       "      <td>PRON</td>\n",
       "    </tr>\n",
       "    <tr>\n",
       "      <th>1</th>\n",
       "      <td>feel</td>\n",
       "      <td>feel</td>\n",
       "      <td>VERB</td>\n",
       "    </tr>\n",
       "    <tr>\n",
       "      <th>2</th>\n",
       "      <td>so</td>\n",
       "      <td>so</td>\n",
       "      <td>ADV</td>\n",
       "    </tr>\n",
       "    <tr>\n",
       "      <th>3</th>\n",
       "      <td>LUCKY</td>\n",
       "      <td>lucky</td>\n",
       "      <td>ADJ</td>\n",
       "    </tr>\n",
       "    <tr>\n",
       "      <th>4</th>\n",
       "      <td>to</td>\n",
       "      <td>to</td>\n",
       "      <td>PART</td>\n",
       "    </tr>\n",
       "  </tbody>\n",
       "</table>\n",
       "</div>"
      ],
      "text/plain": [
       "    text  lemma   pos\n",
       "0      I      I  PRON\n",
       "1   feel   feel  VERB\n",
       "2     so     so   ADV\n",
       "3  LUCKY  lucky   ADJ\n",
       "4     to     to  PART"
      ]
     },
     "execution_count": 39,
     "metadata": {},
     "output_type": "execute_result"
    }
   ],
   "source": [
    "pos = []\n",
    "lemma = []\n",
    "text = []\n",
    "for str in samsung_reviews.split(\"\\n\")[0:1000]:\n",
    "    review = nlp(str)\n",
    "    for tok in review:\n",
    "        pos.append(tok.pos_)\n",
    "        lemma.append(tok.lemma_)\n",
    "        text.append(tok.text)\n",
    " \n",
    "# Convert the data into a dataframe object.\n",
    "nlp_table = pd.DataFrame({'text':text,'lemma':lemma,'pos':pos})\n",
    "nlp_table.head()"
   ]
  },
  {
   "cell_type": "code",
   "execution_count": 40,
   "id": "6dc30e7a",
   "metadata": {},
   "outputs": [
    {
     "data": {
      "text/plain": [
       "phone        1208\n",
       "battery        92\n",
       "time           90\n",
       "price          87\n",
       "screen         86\n",
       "             ... \n",
       "morrol          1\n",
       "electric        1\n",
       "galaxys5        1\n",
       "ladder          1\n",
       "greatness       1\n",
       "Name: lemma, Length: 1322, dtype: int64"
      ]
     },
     "execution_count": 40,
     "metadata": {},
     "output_type": "execute_result"
    }
   ],
   "source": [
    "nlp_table[nlp_table.pos=='NOUN']['lemma'].value_counts()"
   ]
  },
  {
   "cell_type": "code",
   "execution_count": 46,
   "id": "bd0e07cb",
   "metadata": {},
   "outputs": [
    {
     "name": "stderr",
     "output_type": "stream",
     "text": [
      "100%|██████████| 46355/46355 [02:56<00:00, 261.95it/s]\n"
     ]
    },
    {
     "data": {
      "text/html": [
       "<div>\n",
       "<style scoped>\n",
       "    .dataframe tbody tr th:only-of-type {\n",
       "        vertical-align: middle;\n",
       "    }\n",
       "\n",
       "    .dataframe tbody tr th {\n",
       "        vertical-align: top;\n",
       "    }\n",
       "\n",
       "    .dataframe thead th {\n",
       "        text-align: right;\n",
       "    }\n",
       "</style>\n",
       "<table border=\"1\" class=\"dataframe\">\n",
       "  <thead>\n",
       "    <tr style=\"text-align: right;\">\n",
       "      <th></th>\n",
       "      <th>text</th>\n",
       "      <th>lemma</th>\n",
       "      <th>pos</th>\n",
       "    </tr>\n",
       "  </thead>\n",
       "  <tbody>\n",
       "    <tr>\n",
       "      <th>0</th>\n",
       "      <td>I</td>\n",
       "      <td>I</td>\n",
       "      <td>PRON</td>\n",
       "    </tr>\n",
       "    <tr>\n",
       "      <th>1</th>\n",
       "      <td>feel</td>\n",
       "      <td>feel</td>\n",
       "      <td>VERB</td>\n",
       "    </tr>\n",
       "    <tr>\n",
       "      <th>2</th>\n",
       "      <td>so</td>\n",
       "      <td>so</td>\n",
       "      <td>ADV</td>\n",
       "    </tr>\n",
       "    <tr>\n",
       "      <th>3</th>\n",
       "      <td>LUCKY</td>\n",
       "      <td>lucky</td>\n",
       "      <td>ADJ</td>\n",
       "    </tr>\n",
       "    <tr>\n",
       "      <th>4</th>\n",
       "      <td>to</td>\n",
       "      <td>to</td>\n",
       "      <td>PART</td>\n",
       "    </tr>\n",
       "  </tbody>\n",
       "</table>\n",
       "</div>"
      ],
      "text/plain": [
       "    text  lemma   pos\n",
       "0      I      I  PRON\n",
       "1   feel   feel  VERB\n",
       "2     so     so   ADV\n",
       "3  LUCKY  lucky   ADJ\n",
       "4     to     to  PART"
      ]
     },
     "execution_count": 46,
     "metadata": {},
     "output_type": "execute_result"
    }
   ],
   "source": [
    "from tqdm import tqdm\n",
    "nlp = spacy.load(\"en_core_web_sm\",disable=['parser','ner'])\n",
    "\n",
    "pos = []\n",
    "lemma = []\n",
    "text = []\n",
    "for str in tqdm(samsung_reviews.split(\"\\n\")):\n",
    "    review = nlp(str)\n",
    "    for tok in review:\n",
    "        pos.append(tok.pos_)\n",
    "        lemma.append(tok.lemma_)\n",
    "        text.append(tok.text)\n",
    " \n",
    "# Convert the data into a dataframe object.\n",
    "nlp_table = pd.DataFrame({'text':text,'lemma':lemma,'pos':pos})\n",
    "nlp_table.head()"
   ]
  },
  {
   "cell_type": "code",
   "execution_count": 43,
   "id": "5264ab03",
   "metadata": {},
   "outputs": [
    {
     "data": {
      "text/plain": [
       "phone        43237\n",
       "battery       4350\n",
       "product       3907\n",
       "time          3825\n",
       "screen        3746\n",
       "             ...  \n",
       "charger(s        1\n",
       "bxxx             1\n",
       "scenerio         1\n",
       "thwnk            1\n",
       "presale          1\n",
       "Name: lemma, Length: 9002, dtype: int64"
      ]
     },
     "execution_count": 43,
     "metadata": {},
     "output_type": "execute_result"
    }
   ],
   "source": [
    "nlp_table[nlp_table.pos=='NOUN']['lemma'].value_counts()"
   ]
  },
  {
   "cell_type": "code",
   "execution_count": 47,
   "id": "8eae6b02",
   "metadata": {},
   "outputs": [
    {
     "name": "stdout",
     "output_type": "stream",
     "text": [
      "I PRON PRP\n",
      "saw VERB VBD\n",
      "him PRON PRP\n",
      "running VERB VBG\n",
      "away ADV RB\n"
     ]
    }
   ],
   "source": [
    "sent1 = 'I saw him running away'\n",
    "doc1 = nlp(sent1)\n",
    "\n",
    "for tok in doc1:\n",
    "    print(tok.text, tok.pos_, tok.tag_)"
   ]
  },
  {
   "cell_type": "code",
   "execution_count": 48,
   "id": "f4f07987",
   "metadata": {},
   "outputs": [
    {
     "data": {
      "text/html": [
       "<div>\n",
       "<style scoped>\n",
       "    .dataframe tbody tr th:only-of-type {\n",
       "        vertical-align: middle;\n",
       "    }\n",
       "\n",
       "    .dataframe tbody tr th {\n",
       "        vertical-align: top;\n",
       "    }\n",
       "\n",
       "    .dataframe thead th {\n",
       "        text-align: right;\n",
       "    }\n",
       "</style>\n",
       "<table border=\"1\" class=\"dataframe\">\n",
       "  <thead>\n",
       "    <tr style=\"text-align: right;\">\n",
       "      <th></th>\n",
       "      <th>word</th>\n",
       "      <th>tag</th>\n",
       "    </tr>\n",
       "  </thead>\n",
       "  <tbody>\n",
       "    <tr>\n",
       "      <th>0</th>\n",
       "      <td>the</td>\n",
       "      <td>DET</td>\n",
       "    </tr>\n",
       "    <tr>\n",
       "      <th>1</th>\n",
       "      <td>fulton</td>\n",
       "      <td>NOUN</td>\n",
       "    </tr>\n",
       "    <tr>\n",
       "      <th>2</th>\n",
       "      <td>county</td>\n",
       "      <td>NOUN</td>\n",
       "    </tr>\n",
       "    <tr>\n",
       "      <th>3</th>\n",
       "      <td>grand</td>\n",
       "      <td>ADJ</td>\n",
       "    </tr>\n",
       "    <tr>\n",
       "      <th>4</th>\n",
       "      <td>jury</td>\n",
       "      <td>NOUN</td>\n",
       "    </tr>\n",
       "    <tr>\n",
       "      <th>...</th>\n",
       "      <td>...</td>\n",
       "      <td>...</td>\n",
       "    </tr>\n",
       "    <tr>\n",
       "      <th>1161187</th>\n",
       "      <td>boucle</td>\n",
       "      <td>NOUN</td>\n",
       "    </tr>\n",
       "    <tr>\n",
       "      <th>1161188</th>\n",
       "      <td>dress</td>\n",
       "      <td>NOUN</td>\n",
       "    </tr>\n",
       "    <tr>\n",
       "      <th>1161189</th>\n",
       "      <td>was</td>\n",
       "      <td>VERB</td>\n",
       "    </tr>\n",
       "    <tr>\n",
       "      <th>1161190</th>\n",
       "      <td>stupefying</td>\n",
       "      <td>VERB</td>\n",
       "    </tr>\n",
       "    <tr>\n",
       "      <th>1161191</th>\n",
       "      <td>!</td>\n",
       "      <td>ADJ</td>\n",
       "    </tr>\n",
       "  </tbody>\n",
       "</table>\n",
       "<p>1161192 rows × 2 columns</p>\n",
       "</div>"
      ],
      "text/plain": [
       "               word   tag\n",
       "0               the   DET\n",
       "1            fulton  NOUN\n",
       "2            county  NOUN\n",
       "3             grand   ADJ\n",
       "4              jury  NOUN\n",
       "...             ...   ...\n",
       "1161187      boucle  NOUN\n",
       "1161188       dress  NOUN\n",
       "1161189         was  VERB\n",
       "1161190  stupefying  VERB\n",
       "1161191           !   ADJ\n",
       "\n",
       "[1161192 rows x 2 columns]"
      ]
     },
     "execution_count": 48,
     "metadata": {},
     "output_type": "execute_result"
    }
   ],
   "source": [
    "data = pd.read_csv(\"casestudy/tagged_words.csv\")\n",
    "sent = \"I saw him running away\"\n",
    "\n",
    "data"
   ]
  },
  {
   "cell_type": "code",
   "execution_count": 49,
   "id": "7d9998bd",
   "metadata": {},
   "outputs": [
    {
     "name": "stdout",
     "output_type": "stream",
     "text": [
      "('I', 'PRON')\n",
      "('saw', 'VERB')\n",
      "('him', 'PRON')\n",
      "('running', 'VERB')\n",
      "('away', 'ADV')\n"
     ]
    },
    {
     "data": {
      "text/plain": [
       "VERB    347\n",
       "NOUN      5\n",
       "Name: tag, dtype: int64"
      ]
     },
     "execution_count": 49,
     "metadata": {},
     "output_type": "execute_result"
    }
   ],
   "source": [
    "def get_common_tag(data,word):\n",
    "    if word.lower() in data['word'].unique():\n",
    "        q = f\"word=='{word.lower()}'\"\n",
    "        return word , data.query(q)['tag'].value_counts().head(1).index.tolist()[0]\n",
    "    else:\n",
    "        return f\"{word} not in data\"\n",
    "\n",
    "for word in sent.split(\" \"):\n",
    "    print(get_common_tag(data,word))\n",
    " \n",
    "data.query(\"word=='saw'\")['tag'].value_counts()"
   ]
  },
  {
   "cell_type": "code",
   "execution_count": 50,
   "id": "42df718f",
   "metadata": {},
   "outputs": [
    {
     "name": "stdout",
     "output_type": "stream",
     "text": [
      "('he', 'PRON')\n",
      "('wished', 'VERB')\n",
      "('he', 'PRON')\n",
      "('was', 'VERB')\n",
      "('rich', 'ADJ')\n"
     ]
    }
   ],
   "source": [
    "for word in \"He wished he was rich\".split(\" \"):\n",
    "    print(get_common_tag(data, word.lower()))"
   ]
  },
  {
   "cell_type": "code",
   "execution_count": 51,
   "id": "1ee87c3d",
   "metadata": {},
   "outputs": [
    {
     "data": {
      "text/html": [
       "<div>\n",
       "<style scoped>\n",
       "    .dataframe tbody tr th:only-of-type {\n",
       "        vertical-align: middle;\n",
       "    }\n",
       "\n",
       "    .dataframe tbody tr th {\n",
       "        vertical-align: top;\n",
       "    }\n",
       "\n",
       "    .dataframe thead th {\n",
       "        text-align: right;\n",
       "    }\n",
       "</style>\n",
       "<table border=\"1\" class=\"dataframe\">\n",
       "  <thead>\n",
       "    <tr style=\"text-align: right;\">\n",
       "      <th></th>\n",
       "      <th>word</th>\n",
       "      <th>tag</th>\n",
       "    </tr>\n",
       "  </thead>\n",
       "  <tbody>\n",
       "    <tr>\n",
       "      <th>0</th>\n",
       "      <td>the</td>\n",
       "      <td>DET</td>\n",
       "    </tr>\n",
       "    <tr>\n",
       "      <th>1</th>\n",
       "      <td>fulton</td>\n",
       "      <td>NOUN</td>\n",
       "    </tr>\n",
       "    <tr>\n",
       "      <th>2</th>\n",
       "      <td>county</td>\n",
       "      <td>NOUN</td>\n",
       "    </tr>\n",
       "    <tr>\n",
       "      <th>3</th>\n",
       "      <td>grand</td>\n",
       "      <td>ADJ</td>\n",
       "    </tr>\n",
       "    <tr>\n",
       "      <th>4</th>\n",
       "      <td>jury</td>\n",
       "      <td>NOUN</td>\n",
       "    </tr>\n",
       "    <tr>\n",
       "      <th>...</th>\n",
       "      <td>...</td>\n",
       "      <td>...</td>\n",
       "    </tr>\n",
       "    <tr>\n",
       "      <th>1161187</th>\n",
       "      <td>boucle</td>\n",
       "      <td>NOUN</td>\n",
       "    </tr>\n",
       "    <tr>\n",
       "      <th>1161188</th>\n",
       "      <td>dress</td>\n",
       "      <td>NOUN</td>\n",
       "    </tr>\n",
       "    <tr>\n",
       "      <th>1161189</th>\n",
       "      <td>was</td>\n",
       "      <td>VERB</td>\n",
       "    </tr>\n",
       "    <tr>\n",
       "      <th>1161190</th>\n",
       "      <td>stupefying</td>\n",
       "      <td>VERB</td>\n",
       "    </tr>\n",
       "    <tr>\n",
       "      <th>1161191</th>\n",
       "      <td>!</td>\n",
       "      <td>ADJ</td>\n",
       "    </tr>\n",
       "  </tbody>\n",
       "</table>\n",
       "<p>1161192 rows × 2 columns</p>\n",
       "</div>"
      ],
      "text/plain": [
       "               word   tag\n",
       "0               the   DET\n",
       "1            fulton  NOUN\n",
       "2            county  NOUN\n",
       "3             grand   ADJ\n",
       "4              jury  NOUN\n",
       "...             ...   ...\n",
       "1161187      boucle  NOUN\n",
       "1161188       dress  NOUN\n",
       "1161189         was  VERB\n",
       "1161190  stupefying  VERB\n",
       "1161191           !   ADJ\n",
       "\n",
       "[1161192 rows x 2 columns]"
      ]
     },
     "execution_count": 51,
     "metadata": {},
     "output_type": "execute_result"
    }
   ],
   "source": [
    "data"
   ]
  },
  {
   "cell_type": "code",
   "execution_count": 55,
   "id": "51fbbe11",
   "metadata": {},
   "outputs": [
    {
     "data": {
      "text/html": [
       "<div>\n",
       "<style scoped>\n",
       "    .dataframe tbody tr th:only-of-type {\n",
       "        vertical-align: middle;\n",
       "    }\n",
       "\n",
       "    .dataframe tbody tr th {\n",
       "        vertical-align: top;\n",
       "    }\n",
       "\n",
       "    .dataframe thead th {\n",
       "        text-align: right;\n",
       "    }\n",
       "</style>\n",
       "<table border=\"1\" class=\"dataframe\">\n",
       "  <thead>\n",
       "    <tr style=\"text-align: right;\">\n",
       "      <th>tag</th>\n",
       "      <th>ADJ</th>\n",
       "      <th>ADP</th>\n",
       "      <th>ADV</th>\n",
       "      <th>CONJ</th>\n",
       "      <th>DET</th>\n",
       "      <th>NOUN</th>\n",
       "      <th>NUM</th>\n",
       "      <th>PRON</th>\n",
       "      <th>PRT</th>\n",
       "      <th>VERB</th>\n",
       "      <th>X</th>\n",
       "    </tr>\n",
       "    <tr>\n",
       "      <th>word</th>\n",
       "      <th></th>\n",
       "      <th></th>\n",
       "      <th></th>\n",
       "      <th></th>\n",
       "      <th></th>\n",
       "      <th></th>\n",
       "      <th></th>\n",
       "      <th></th>\n",
       "      <th></th>\n",
       "      <th></th>\n",
       "      <th></th>\n",
       "    </tr>\n",
       "  </thead>\n",
       "  <tbody>\n",
       "    <tr>\n",
       "      <th>!</th>\n",
       "      <td>0.638047</td>\n",
       "      <td>0.0</td>\n",
       "      <td>0.0</td>\n",
       "      <td>0.0</td>\n",
       "      <td>0.0</td>\n",
       "      <td>0.000000</td>\n",
       "      <td>0.0</td>\n",
       "      <td>0.0</td>\n",
       "      <td>0.0</td>\n",
       "      <td>0.0</td>\n",
       "      <td>0.000000</td>\n",
       "    </tr>\n",
       "    <tr>\n",
       "      <th>$.027</th>\n",
       "      <td>0.000000</td>\n",
       "      <td>0.0</td>\n",
       "      <td>0.0</td>\n",
       "      <td>0.0</td>\n",
       "      <td>0.0</td>\n",
       "      <td>0.000007</td>\n",
       "      <td>0.0</td>\n",
       "      <td>0.0</td>\n",
       "      <td>0.0</td>\n",
       "      <td>0.0</td>\n",
       "      <td>0.000000</td>\n",
       "    </tr>\n",
       "    <tr>\n",
       "      <th>$.03</th>\n",
       "      <td>0.000000</td>\n",
       "      <td>0.0</td>\n",
       "      <td>0.0</td>\n",
       "      <td>0.0</td>\n",
       "      <td>0.0</td>\n",
       "      <td>0.000015</td>\n",
       "      <td>0.0</td>\n",
       "      <td>0.0</td>\n",
       "      <td>0.0</td>\n",
       "      <td>0.0</td>\n",
       "      <td>0.000000</td>\n",
       "    </tr>\n",
       "    <tr>\n",
       "      <th>$.054/mbf</th>\n",
       "      <td>0.000000</td>\n",
       "      <td>0.0</td>\n",
       "      <td>0.0</td>\n",
       "      <td>0.0</td>\n",
       "      <td>0.0</td>\n",
       "      <td>0.000004</td>\n",
       "      <td>0.0</td>\n",
       "      <td>0.0</td>\n",
       "      <td>0.0</td>\n",
       "      <td>0.0</td>\n",
       "      <td>0.000000</td>\n",
       "    </tr>\n",
       "    <tr>\n",
       "      <th>$.07</th>\n",
       "      <td>0.000000</td>\n",
       "      <td>0.0</td>\n",
       "      <td>0.0</td>\n",
       "      <td>0.0</td>\n",
       "      <td>0.0</td>\n",
       "      <td>0.000011</td>\n",
       "      <td>0.0</td>\n",
       "      <td>0.0</td>\n",
       "      <td>0.0</td>\n",
       "      <td>0.0</td>\n",
       "      <td>0.000000</td>\n",
       "    </tr>\n",
       "    <tr>\n",
       "      <th>...</th>\n",
       "      <td>...</td>\n",
       "      <td>...</td>\n",
       "      <td>...</td>\n",
       "      <td>...</td>\n",
       "      <td>...</td>\n",
       "      <td>...</td>\n",
       "      <td>...</td>\n",
       "      <td>...</td>\n",
       "      <td>...</td>\n",
       "      <td>...</td>\n",
       "      <td>...</td>\n",
       "    </tr>\n",
       "    <tr>\n",
       "      <th>zurcher</th>\n",
       "      <td>0.000000</td>\n",
       "      <td>0.0</td>\n",
       "      <td>0.0</td>\n",
       "      <td>0.0</td>\n",
       "      <td>0.0</td>\n",
       "      <td>0.000007</td>\n",
       "      <td>0.0</td>\n",
       "      <td>0.0</td>\n",
       "      <td>0.0</td>\n",
       "      <td>0.0</td>\n",
       "      <td>0.000000</td>\n",
       "    </tr>\n",
       "    <tr>\n",
       "      <th>zurich</th>\n",
       "      <td>0.000000</td>\n",
       "      <td>0.0</td>\n",
       "      <td>0.0</td>\n",
       "      <td>0.0</td>\n",
       "      <td>0.0</td>\n",
       "      <td>0.000007</td>\n",
       "      <td>0.0</td>\n",
       "      <td>0.0</td>\n",
       "      <td>0.0</td>\n",
       "      <td>0.0</td>\n",
       "      <td>0.000000</td>\n",
       "    </tr>\n",
       "    <tr>\n",
       "      <th>zwei</th>\n",
       "      <td>0.000000</td>\n",
       "      <td>0.0</td>\n",
       "      <td>0.0</td>\n",
       "      <td>0.0</td>\n",
       "      <td>0.0</td>\n",
       "      <td>0.000000</td>\n",
       "      <td>0.0</td>\n",
       "      <td>0.0</td>\n",
       "      <td>0.0</td>\n",
       "      <td>0.0</td>\n",
       "      <td>0.000722</td>\n",
       "    </tr>\n",
       "    <tr>\n",
       "      <th>zworykin</th>\n",
       "      <td>0.000000</td>\n",
       "      <td>0.0</td>\n",
       "      <td>0.0</td>\n",
       "      <td>0.0</td>\n",
       "      <td>0.0</td>\n",
       "      <td>0.000007</td>\n",
       "      <td>0.0</td>\n",
       "      <td>0.0</td>\n",
       "      <td>0.0</td>\n",
       "      <td>0.0</td>\n",
       "      <td>0.000000</td>\n",
       "    </tr>\n",
       "    <tr>\n",
       "      <th>{0,t}</th>\n",
       "      <td>0.000000</td>\n",
       "      <td>0.0</td>\n",
       "      <td>0.0</td>\n",
       "      <td>0.0</td>\n",
       "      <td>0.0</td>\n",
       "      <td>0.000004</td>\n",
       "      <td>0.0</td>\n",
       "      <td>0.0</td>\n",
       "      <td>0.0</td>\n",
       "      <td>0.0</td>\n",
       "      <td>0.000000</td>\n",
       "    </tr>\n",
       "  </tbody>\n",
       "</table>\n",
       "<p>49806 rows × 11 columns</p>\n",
       "</div>"
      ],
      "text/plain": [
       "tag             ADJ  ADP  ADV  CONJ  DET      NOUN  NUM  PRON  PRT  VERB  \\\n",
       "word                                                                       \n",
       "!          0.638047  0.0  0.0   0.0  0.0  0.000000  0.0   0.0  0.0   0.0   \n",
       "$.027      0.000000  0.0  0.0   0.0  0.0  0.000007  0.0   0.0  0.0   0.0   \n",
       "$.03       0.000000  0.0  0.0   0.0  0.0  0.000015  0.0   0.0  0.0   0.0   \n",
       "$.054/mbf  0.000000  0.0  0.0   0.0  0.0  0.000004  0.0   0.0  0.0   0.0   \n",
       "$.07       0.000000  0.0  0.0   0.0  0.0  0.000011  0.0   0.0  0.0   0.0   \n",
       "...             ...  ...  ...   ...  ...       ...  ...   ...  ...   ...   \n",
       "zurcher    0.000000  0.0  0.0   0.0  0.0  0.000007  0.0   0.0  0.0   0.0   \n",
       "zurich     0.000000  0.0  0.0   0.0  0.0  0.000007  0.0   0.0  0.0   0.0   \n",
       "zwei       0.000000  0.0  0.0   0.0  0.0  0.000000  0.0   0.0  0.0   0.0   \n",
       "zworykin   0.000000  0.0  0.0   0.0  0.0  0.000007  0.0   0.0  0.0   0.0   \n",
       "{0,t}      0.000000  0.0  0.0   0.0  0.0  0.000004  0.0   0.0  0.0   0.0   \n",
       "\n",
       "tag               X  \n",
       "word                 \n",
       "!          0.000000  \n",
       "$.027      0.000000  \n",
       "$.03       0.000000  \n",
       "$.054/mbf  0.000000  \n",
       "$.07       0.000000  \n",
       "...             ...  \n",
       "zurcher    0.000000  \n",
       "zurich     0.000000  \n",
       "zwei       0.000722  \n",
       "zworykin   0.000000  \n",
       "{0,t}      0.000000  \n",
       "\n",
       "[49806 rows x 11 columns]"
      ]
     },
     "execution_count": 55,
     "metadata": {},
     "output_type": "execute_result"
    }
   ],
   "source": [
    "emmission_matrix = pd.crosstab(data['word'],data['tag'],normalize='columns')\n",
    "\n",
    "emmission_matrix"
   ]
  },
  {
   "cell_type": "code",
   "execution_count": 56,
   "id": "1b35e747",
   "metadata": {},
   "outputs": [
    {
     "data": {
      "text/plain": [
       "tag\n",
       "DET     0.051\n",
       "PRON    0.001\n",
       "X       0.001\n",
       "Name: his, dtype: float64"
      ]
     },
     "execution_count": 56,
     "metadata": {},
     "output_type": "execute_result"
    }
   ],
   "source": [
    "word = 'his'\n",
    "emmission_matrix.loc[word][emmission_matrix.loc[word]>0].round(3)\n"
   ]
  },
  {
   "cell_type": "code",
   "execution_count": 57,
   "id": "29ac73d1",
   "metadata": {},
   "outputs": [
    {
     "data": {
      "text/plain": [
       "0.001"
      ]
     },
     "execution_count": 57,
     "metadata": {},
     "output_type": "execute_result"
    }
   ],
   "source": [
    "emmission_matrix['PRON'].loc['his'].round(3)"
   ]
  },
  {
   "cell_type": "code",
   "execution_count": null,
   "id": "c1983b70",
   "metadata": {},
   "outputs": [],
   "source": []
  }
 ],
 "metadata": {
  "kernelspec": {
   "display_name": "Python 3",
   "language": "python",
   "name": "python3"
  },
  "language_info": {
   "codemirror_mode": {
    "name": "ipython",
    "version": 3
   },
   "file_extension": ".py",
   "mimetype": "text/x-python",
   "name": "python",
   "nbconvert_exporter": "python",
   "pygments_lexer": "ipython3",
   "version": "3.8.8"
  }
 },
 "nbformat": 4,
 "nbformat_minor": 5
}
