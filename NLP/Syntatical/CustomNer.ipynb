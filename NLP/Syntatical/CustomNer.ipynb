{
 "cells": [
  {
   "cell_type": "code",
   "execution_count": 7,
   "id": "249adf05",
   "metadata": {},
   "outputs": [],
   "source": [
    "\n",
    "with open('casestudy/sent_train.txt', 'r') as train_sent_file:\n",
    "  train_sentences = train_sent_file.readlines()\n",
    "\n",
    "with open('casestudy/label_train.txt', 'r') as train_labels_file:\n",
    "  train_labels = train_labels_file.readlines()\n",
    "\n",
    "with open('casestudy/sent_test.txt', 'r') as test_sent_file:\n",
    "  test_sentences = test_sent_file.readlines()\n",
    "\n",
    "with open('casestudy/label_test.txt', 'r') as test_labels_file:\n",
    "  test_labels = test_labels_file.readlines()\n"
   ]
  },
  {
   "cell_type": "code",
   "execution_count": 10,
   "id": "024600d5",
   "metadata": {},
   "outputs": [
    {
     "name": "stdout",
     "output_type": "stream",
     "text": [
      "any good ice cream parlors around \n",
      "\n",
      "O B-Rating B-Cuisine I-Cuisine I-Cuisine B-Location \n",
      "\n"
     ]
    }
   ],
   "source": [
    "\n",
    "\n",
    "print(test_sentences[5])\n",
    "\n",
    "print(test_labels[5])\n"
   ]
  },
  {
   "cell_type": "code",
   "execution_count": 11,
   "id": "e544b8bc",
   "metadata": {},
   "outputs": [],
   "source": [
    "#Define a function to get the above defined features for a word.\n",
    "def getFeaturesForOneWord(sentence, pos):\n",
    "  word = sentence[pos]\n",
    " \n",
    "  features = [\n",
    "    'word.lower=' + word.lower(), # serves as word id\n",
    "    'word[-3:]=' + word[-3:],     # last three characters\n",
    "    'word[-2:]=' + word[-2:],     # last two characters\n",
    "    'word.isupper=%s' % word.isupper(),  # is the word in all uppercase\n",
    "    'word.isdigit=%s' % word.isdigit(),  # is the word a number\n",
    "    'words.startsWithCapital=%s' % word[0].isupper() # is the word starting with a capital letter\n",
    "  ]\n",
    " \n",
    "  if(pos > 0):\n",
    "    prev_word = sentence[pos-1]\n",
    "    features.extend([\n",
    "    'prev_word.lower=' + prev_word.lower(), \n",
    "    'prev_word.isupper=%s' % prev_word.isupper(),\n",
    "    'prev_word.isdigit=%s' % prev_word.isdigit(),\n",
    "    'prev_words.startsWithCapital=%s' % prev_word[0].isupper()\n",
    "  ])\n",
    "  else:\n",
    "    features.append('BEG') # feature to track begin of sentence \n",
    " \n",
    "  if(pos == len(sentence)-1):\n",
    "    features.append('END') # feature to track end of sentence\n",
    " \n",
    "  return features"
   ]
  },
  {
   "cell_type": "code",
   "execution_count": 12,
   "id": "0108beed",
   "metadata": {},
   "outputs": [],
   "source": [
    "def getFeaturesForOneSentence(sentence):\n",
    "  sentence_list = sentence.split()\n",
    "  return [getFeaturesForOneWord(sentence_list, pos) for pos in range(len(sentence_list))]"
   ]
  },
  {
   "cell_type": "code",
   "execution_count": 13,
   "id": "4fa734b8",
   "metadata": {},
   "outputs": [],
   "source": [
    "# Define a function to get the labels for a sentence.\n",
    "def getLabelsInListForOneSentence(labels):\n",
    "  return labels.split()"
   ]
  },
  {
   "cell_type": "code",
   "execution_count": 14,
   "id": "dd237d04",
   "metadata": {},
   "outputs": [],
   "source": [
    "X_train = [getFeaturesForOneSentence(sentence) for sentence in train_sentences]\n",
    "Y_train = [getLabelsInListForOneSentence(labels) for labels in train_labels]\n",
    " \n",
    "X_test = [getFeaturesForOneSentence(sentence) for sentence in test_sentences]\n",
    "Y_test = [getLabelsInListForOneSentence(labels) for labels in test_labels]"
   ]
  },
  {
   "cell_type": "code",
   "execution_count": 15,
   "id": "51e6a9fb",
   "metadata": {},
   "outputs": [
    {
     "name": "stdout",
     "output_type": "stream",
     "text": [
      "a place that serves soft serve ice cream \n",
      "\n",
      "[['word.lower=a', 'word[-3:]=a', 'word[-2:]=a', 'word.isupper=False', 'word.isdigit=False', 'words.startsWithCapital=False', 'BEG'], ['word.lower=place', 'word[-3:]=ace', 'word[-2:]=ce', 'word.isupper=False', 'word.isdigit=False', 'words.startsWithCapital=False', 'prev_word.lower=a', 'prev_word.isupper=False', 'prev_word.isdigit=False', 'prev_words.startsWithCapital=False'], ['word.lower=that', 'word[-3:]=hat', 'word[-2:]=at', 'word.isupper=False', 'word.isdigit=False', 'words.startsWithCapital=False', 'prev_word.lower=place', 'prev_word.isupper=False', 'prev_word.isdigit=False', 'prev_words.startsWithCapital=False'], ['word.lower=serves', 'word[-3:]=ves', 'word[-2:]=es', 'word.isupper=False', 'word.isdigit=False', 'words.startsWithCapital=False', 'prev_word.lower=that', 'prev_word.isupper=False', 'prev_word.isdigit=False', 'prev_words.startsWithCapital=False'], ['word.lower=soft', 'word[-3:]=oft', 'word[-2:]=ft', 'word.isupper=False', 'word.isdigit=False', 'words.startsWithCapital=False', 'prev_word.lower=serves', 'prev_word.isupper=False', 'prev_word.isdigit=False', 'prev_words.startsWithCapital=False'], ['word.lower=serve', 'word[-3:]=rve', 'word[-2:]=ve', 'word.isupper=False', 'word.isdigit=False', 'words.startsWithCapital=False', 'prev_word.lower=soft', 'prev_word.isupper=False', 'prev_word.isdigit=False', 'prev_words.startsWithCapital=False'], ['word.lower=ice', 'word[-3:]=ice', 'word[-2:]=ce', 'word.isupper=False', 'word.isdigit=False', 'words.startsWithCapital=False', 'prev_word.lower=serve', 'prev_word.isupper=False', 'prev_word.isdigit=False', 'prev_words.startsWithCapital=False'], ['word.lower=cream', 'word[-3:]=eam', 'word[-2:]=am', 'word.isupper=False', 'word.isdigit=False', 'words.startsWithCapital=False', 'prev_word.lower=ice', 'prev_word.isupper=False', 'prev_word.isdigit=False', 'prev_words.startsWithCapital=False', 'END']]\n",
      "['a', 'place', 'that', 'serves', 'soft', 'serve', 'ice', 'cream']\n"
     ]
    }
   ],
   "source": [
    "print(train_sentences[5])\n",
    "print(getFeaturesForOneSentence(train_sentences[5]))\n",
    "print(getLabelsInListForOneSentence(train_sentences[5]))"
   ]
  },
  {
   "cell_type": "code",
   "execution_count": 18,
   "id": "d84c6c3e",
   "metadata": {},
   "outputs": [],
   "source": [
    "import sklearn_crfsuite\n",
    "\n",
    "from sklearn_crfsuite import metrics"
   ]
  },
  {
   "cell_type": "code",
   "execution_count": null,
   "id": "029ae971",
   "metadata": {},
   "outputs": [],
   "source": []
  }
 ],
 "metadata": {
  "kernelspec": {
   "display_name": "Python 3",
   "language": "python",
   "name": "python3"
  },
  "language_info": {
   "codemirror_mode": {
    "name": "ipython",
    "version": 3
   },
   "file_extension": ".py",
   "mimetype": "text/x-python",
   "name": "python",
   "nbconvert_exporter": "python",
   "pygments_lexer": "ipython3",
   "version": "3.8.8"
  }
 },
 "nbformat": 4,
 "nbformat_minor": 5
}
