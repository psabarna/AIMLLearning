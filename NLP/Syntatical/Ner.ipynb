{
 "cells": [
  {
   "cell_type": "code",
   "execution_count": 2,
   "id": "e0565461",
   "metadata": {},
   "outputs": [
    {
     "name": "stdout",
     "output_type": "stream",
     "text": [
      "\n",
      "\n",
      "-- After Anonymization--\n",
      "\n",
      "Dear Family, Jose Luis and I have changed our dates, we are going to come to Aspen on the 23rd of December and leave on the 30th of December. We would like to stay in the front bedroom of the Aspen Cottage so that Mark, Natalie and Zachary can stay in the guest cottage. Please let me know if there are any problems with this. If I do not hear anything, I will assume this is all o.k. with you.Love, Liz\n"
     ]
    }
   ],
   "source": [
    "import spacy # import spacy module\n",
    "model = spacy.load(\"en_core_web_sm\") #load pre-trained model\n",
    "email = ('Dear Family, Jose Luis and I have changed our dates, we are '\n",
    "         'going to come to Aspen on the 23rd of December and leave on the '\n",
    "         '30th of December. We would like to stay in the front bedroom of '\n",
    "         'the Aspen Cottage so that Mark, Natalie and Zachary can stay in '\n",
    "         'the guest cottage. Please let me know if there are any problems '\n",
    "         'with this. If I do not hear anything, I will assume this is all '\n",
    "         'o.k. with you.'\n",
    "         'Love, Liz')\n",
    "processed_email = model(email) # Apply spacy's model to process the email\n",
    " \n",
    "anonymized_email = list(email) # initialize data structure to store anonymized email\n",
    " \n",
    "for ent in processed_email.ents:\n",
    "  if(ent.label_ == 'EVENT'): \n",
    "    for char_pos in range(ent.start_char, ent.end_char): # use character positions\n",
    "      anonymized_email[char_pos] = '#'   \n",
    " \n",
    "print(\"\\n\\n-- After Anonymization--\\n\")\n",
    "Anonymized_sentence = \"\".join(anonymized_email)\n",
    "print(Anonymized_sentence)"
   ]
  },
  {
   "cell_type": "code",
   "execution_count": 5,
   "id": "bdd73ce5",
   "metadata": {},
   "outputs": [],
   "source": [
    "sent1 = 'I drove away in my Jaguar.'\n",
    "sent2 = 'The deer ran away seeing the Jaguar.'\n",
    "\n",
    "def printEntities(doc):\n",
    "    for ent in doc.ents: \n",
    "        print(ent.text,ent.start_char, ent.end_char, ent.label_ )  \n"
   ]
  },
  {
   "cell_type": "code",
   "execution_count": 6,
   "id": "b3590aa7",
   "metadata": {},
   "outputs": [
    {
     "name": "stdout",
     "output_type": "stream",
     "text": [
      "Jaguar 19 25 ORG\n"
     ]
    }
   ],
   "source": [
    "printEntities(model(sent1))\n"
   ]
  },
  {
   "cell_type": "code",
   "execution_count": 7,
   "id": "6f71bc4e",
   "metadata": {},
   "outputs": [
    {
     "name": "stdout",
     "output_type": "stream",
     "text": [
      "Jaguar 29 35 ORG\n"
     ]
    }
   ],
   "source": [
    "printEntities(model(sent2))"
   ]
  },
  {
   "cell_type": "code",
   "execution_count": null,
   "id": "e335b7f0",
   "metadata": {},
   "outputs": [],
   "source": []
  }
 ],
 "metadata": {
  "kernelspec": {
   "display_name": "Python 3",
   "language": "python",
   "name": "python3"
  },
  "language_info": {
   "codemirror_mode": {
    "name": "ipython",
    "version": 3
   },
   "file_extension": ".py",
   "mimetype": "text/x-python",
   "name": "python",
   "nbconvert_exporter": "python",
   "pygments_lexer": "ipython3",
   "version": "3.8.8"
  }
 },
 "nbformat": 4,
 "nbformat_minor": 5
}
