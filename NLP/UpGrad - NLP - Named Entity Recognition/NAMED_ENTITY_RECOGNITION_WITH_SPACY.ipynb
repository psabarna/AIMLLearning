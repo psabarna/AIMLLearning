{
 "cells": [
  {
   "cell_type": "markdown",
   "metadata": {
    "id": "auGQ-Ki69ZsN"
   },
   "source": [
    "Installing needed libraries"
   ]
  },
  {
   "cell_type": "code",
   "execution_count": 1,
   "metadata": {
    "colab": {
     "base_uri": "https://localhost:8080/"
    },
    "id": "YkBSwa7qrbMd",
    "outputId": "00861825-deab-4d7e-96a8-1b5eab0e651e"
   },
   "outputs": [
    {
     "name": "stdout",
     "output_type": "stream",
     "text": [
      "Requirement already satisfied: spacy in d:\\users\\aditya bhattacharya\\anaconda3\\lib\\site-packages (2.3.5)\n",
      "Requirement already satisfied: srsly<1.1.0,>=1.0.2 in d:\\users\\aditya bhattacharya\\anaconda3\\lib\\site-packages (from spacy) (1.0.5)\n",
      "Requirement already satisfied: thinc<7.5.0,>=7.4.1 in d:\\users\\aditya bhattacharya\\anaconda3\\lib\\site-packages (from spacy) (7.4.5)\n",
      "Requirement already satisfied: murmurhash<1.1.0,>=0.28.0 in d:\\users\\aditya bhattacharya\\anaconda3\\lib\\site-packages (from spacy) (1.0.5)\n",
      "Requirement already satisfied: setuptools in d:\\users\\aditya bhattacharya\\anaconda3\\lib\\site-packages (from spacy) (49.2.0.post20200714)\n",
      "Requirement already satisfied: blis<0.8.0,>=0.4.0 in d:\\users\\aditya bhattacharya\\anaconda3\\lib\\site-packages (from spacy) (0.7.4)\n",
      "Requirement already satisfied: cymem<2.1.0,>=2.0.2 in d:\\users\\aditya bhattacharya\\anaconda3\\lib\\site-packages (from spacy) (2.0.5)\n",
      "Requirement already satisfied: preshed<3.1.0,>=3.0.2 in d:\\users\\aditya bhattacharya\\anaconda3\\lib\\site-packages (from spacy) (3.0.5)\n",
      "Requirement already satisfied: wasabi<1.1.0,>=0.4.0 in d:\\users\\aditya bhattacharya\\anaconda3\\lib\\site-packages (from spacy) (0.8.2)\n",
      "Requirement already satisfied: catalogue<1.1.0,>=0.0.7 in d:\\users\\aditya bhattacharya\\anaconda3\\lib\\site-packages (from spacy) (1.0.0)\n",
      "Requirement already satisfied: tqdm<5.0.0,>=4.38.0 in d:\\users\\aditya bhattacharya\\anaconda3\\lib\\site-packages (from spacy) (4.62.2)\n",
      "Requirement already satisfied: requests<3.0.0,>=2.13.0 in d:\\users\\aditya bhattacharya\\anaconda3\\lib\\site-packages (from spacy) (2.24.0)\n",
      "Requirement already satisfied: numpy>=1.15.0 in d:\\users\\aditya bhattacharya\\anaconda3\\lib\\site-packages (from spacy) (1.18.0)\n",
      "Requirement already satisfied: plac<1.2.0,>=0.9.6 in d:\\users\\aditya bhattacharya\\anaconda3\\lib\\site-packages (from spacy) (1.1.3)\n",
      "Requirement already satisfied: importlib-metadata>=0.20; python_version < \"3.8\" in d:\\users\\aditya bhattacharya\\anaconda3\\lib\\site-packages (from catalogue<1.1.0,>=0.0.7->spacy) (1.7.0)\n",
      "Requirement already satisfied: colorama; platform_system == \"Windows\" in d:\\users\\aditya bhattacharya\\anaconda3\\lib\\site-packages (from tqdm<5.0.0,>=4.38.0->spacy) (0.4.3)\n",
      "Requirement already satisfied: idna<3,>=2.5 in d:\\users\\aditya bhattacharya\\anaconda3\\lib\\site-packages (from requests<3.0.0,>=2.13.0->spacy) (2.10)\n",
      "Requirement already satisfied: urllib3!=1.25.0,!=1.25.1,<1.26,>=1.21.1 in d:\\users\\aditya bhattacharya\\anaconda3\\lib\\site-packages (from requests<3.0.0,>=2.13.0->spacy) (1.25.9)\n",
      "Requirement already satisfied: certifi>=2017.4.17 in d:\\users\\aditya bhattacharya\\anaconda3\\lib\\site-packages (from requests<3.0.0,>=2.13.0->spacy) (2020.12.5)\n",
      "Requirement already satisfied: chardet<4,>=3.0.2 in d:\\users\\aditya bhattacharya\\anaconda3\\lib\\site-packages (from requests<3.0.0,>=2.13.0->spacy) (3.0.4)\n",
      "Requirement already satisfied: zipp>=0.5 in d:\\users\\aditya bhattacharya\\anaconda3\\lib\\site-packages (from importlib-metadata>=0.20; python_version < \"3.8\"->catalogue<1.1.0,>=0.0.7->spacy) (3.1.0)\n"
     ]
    }
   ],
   "source": [
    "!pip install spacy "
   ]
  },
  {
   "cell_type": "code",
   "execution_count": 1,
   "metadata": {
    "id": "1o3qa3fRrLRJ"
   },
   "outputs": [],
   "source": [
    "import spacy"
   ]
  },
  {
   "cell_type": "code",
   "execution_count": 3,
   "metadata": {},
   "outputs": [
    {
     "name": "stdout",
     "output_type": "stream",
     "text": [
      "2.3.5\n"
     ]
    }
   ],
   "source": [
    "print(spacy.__version__)"
   ]
  },
  {
   "cell_type": "code",
   "execution_count": 3,
   "metadata": {
    "colab": {
     "base_uri": "https://localhost:8080/"
    },
    "id": "M8OouhZvvcdR",
    "outputId": "97b1249c-6e83-4f8a-f3e4-fec5c6c98e42"
   },
   "outputs": [
    {
     "name": "stdout",
     "output_type": "stream",
     "text": [
      "Requirement already satisfied: en_core_web_sm==2.3.1 from https://github.com/explosion/spacy-models/releases/download/en_core_web_sm-2.3.1/en_core_web_sm-2.3.1.tar.gz#egg=en_core_web_sm==2.3.1 in d:\\users\\aditya bhattacharya\\anaconda3\\lib\\site-packages (2.3.1)\n",
      "Requirement already satisfied: spacy<2.4.0,>=2.3.0 in d:\\users\\aditya bhattacharya\\anaconda3\\lib\\site-packages (from en_core_web_sm==2.3.1) (2.3.5)\n",
      "Requirement already satisfied: wasabi<1.1.0,>=0.4.0 in d:\\users\\aditya bhattacharya\\anaconda3\\lib\\site-packages (from spacy<2.4.0,>=2.3.0->en_core_web_sm==2.3.1) (0.8.2)\n",
      "Requirement already satisfied: cymem<2.1.0,>=2.0.2 in d:\\users\\aditya bhattacharya\\anaconda3\\lib\\site-packages (from spacy<2.4.0,>=2.3.0->en_core_web_sm==2.3.1) (2.0.5)\n",
      "Requirement already satisfied: thinc<7.5.0,>=7.4.1 in d:\\users\\aditya bhattacharya\\anaconda3\\lib\\site-packages (from spacy<2.4.0,>=2.3.0->en_core_web_sm==2.3.1) (7.4.5)\n",
      "Requirement already satisfied: srsly<1.1.0,>=1.0.2 in d:\\users\\aditya bhattacharya\\anaconda3\\lib\\site-packages (from spacy<2.4.0,>=2.3.0->en_core_web_sm==2.3.1) (1.0.5)\n",
      "Requirement already satisfied: tqdm<5.0.0,>=4.38.0 in d:\\users\\aditya bhattacharya\\anaconda3\\lib\\site-packages (from spacy<2.4.0,>=2.3.0->en_core_web_sm==2.3.1) (4.62.2)\n",
      "Requirement already satisfied: setuptools in d:\\users\\aditya bhattacharya\\anaconda3\\lib\\site-packages (from spacy<2.4.0,>=2.3.0->en_core_web_sm==2.3.1) (49.2.0.post20200714)\n",
      "Requirement already satisfied: catalogue<1.1.0,>=0.0.7 in d:\\users\\aditya bhattacharya\\anaconda3\\lib\\site-packages (from spacy<2.4.0,>=2.3.0->en_core_web_sm==2.3.1) (1.0.0)\n",
      "Requirement already satisfied: plac<1.2.0,>=0.9.6 in d:\\users\\aditya bhattacharya\\anaconda3\\lib\\site-packages (from spacy<2.4.0,>=2.3.0->en_core_web_sm==2.3.1) (1.1.3)\n",
      "Requirement already satisfied: numpy>=1.15.0 in d:\\users\\aditya bhattacharya\\anaconda3\\lib\\site-packages (from spacy<2.4.0,>=2.3.0->en_core_web_sm==2.3.1) (1.18.0)\n",
      "Requirement already satisfied: preshed<3.1.0,>=3.0.2 in d:\\users\\aditya bhattacharya\\anaconda3\\lib\\site-packages (from spacy<2.4.0,>=2.3.0->en_core_web_sm==2.3.1) (3.0.5)\n",
      "Requirement already satisfied: murmurhash<1.1.0,>=0.28.0 in d:\\users\\aditya bhattacharya\\anaconda3\\lib\\site-packages (from spacy<2.4.0,>=2.3.0->en_core_web_sm==2.3.1) (1.0.5)\n",
      "Requirement already satisfied: requests<3.0.0,>=2.13.0 in d:\\users\\aditya bhattacharya\\anaconda3\\lib\\site-packages (from spacy<2.4.0,>=2.3.0->en_core_web_sm==2.3.1) (2.24.0)\n",
      "Requirement already satisfied: blis<0.8.0,>=0.4.0 in d:\\users\\aditya bhattacharya\\anaconda3\\lib\\site-packages (from spacy<2.4.0,>=2.3.0->en_core_web_sm==2.3.1) (0.7.4)\n",
      "Requirement already satisfied: colorama; platform_system == \"Windows\" in d:\\users\\aditya bhattacharya\\anaconda3\\lib\\site-packages (from tqdm<5.0.0,>=4.38.0->spacy<2.4.0,>=2.3.0->en_core_web_sm==2.3.1) (0.4.3)\n",
      "Requirement already satisfied: importlib-metadata>=0.20; python_version < \"3.8\" in d:\\users\\aditya bhattacharya\\anaconda3\\lib\\site-packages (from catalogue<1.1.0,>=0.0.7->spacy<2.4.0,>=2.3.0->en_core_web_sm==2.3.1) (1.7.0)\n",
      "Requirement already satisfied: urllib3!=1.25.0,!=1.25.1,<1.26,>=1.21.1 in d:\\users\\aditya bhattacharya\\anaconda3\\lib\\site-packages (from requests<3.0.0,>=2.13.0->spacy<2.4.0,>=2.3.0->en_core_web_sm==2.3.1) (1.25.9)\n",
      "Requirement already satisfied: certifi>=2017.4.17 in d:\\users\\aditya bhattacharya\\anaconda3\\lib\\site-packages (from requests<3.0.0,>=2.13.0->spacy<2.4.0,>=2.3.0->en_core_web_sm==2.3.1) (2020.12.5)\n",
      "Requirement already satisfied: idna<3,>=2.5 in d:\\users\\aditya bhattacharya\\anaconda3\\lib\\site-packages (from requests<3.0.0,>=2.13.0->spacy<2.4.0,>=2.3.0->en_core_web_sm==2.3.1) (2.10)\n",
      "Requirement already satisfied: chardet<4,>=3.0.2 in d:\\users\\aditya bhattacharya\\anaconda3\\lib\\site-packages (from requests<3.0.0,>=2.13.0->spacy<2.4.0,>=2.3.0->en_core_web_sm==2.3.1) (3.0.4)\n",
      "Requirement already satisfied: zipp>=0.5 in d:\\users\\aditya bhattacharya\\anaconda3\\lib\\site-packages (from importlib-metadata>=0.20; python_version < \"3.8\"->catalogue<1.1.0,>=0.0.7->spacy<2.4.0,>=2.3.0->en_core_web_sm==2.3.1) (3.1.0)\n",
      "[+] Download and installation successful\n",
      "You can now load the model via spacy.load('en_core_web_sm')\n"
     ]
    }
   ],
   "source": [
    "!python -m spacy download en_core_web_sm "
   ]
  },
  {
   "cell_type": "code",
   "execution_count": 4,
   "metadata": {
    "id": "2R0MokIyp2k9"
   },
   "outputs": [],
   "source": [
    "nlp = spacy.load('en_core_web_sm')"
   ]
  },
  {
   "cell_type": "code",
   "execution_count": 5,
   "metadata": {
    "id": "4gig5glwsWo3"
   },
   "outputs": [],
   "source": [
    "doc = nlp(\"He went to play football\")"
   ]
  },
  {
   "cell_type": "code",
   "execution_count": 6,
   "metadata": {
    "colab": {
     "base_uri": "https://localhost:8080/"
    },
    "id": "gbmhBoAPsrZs",
    "outputId": "3b110159-4df0-440a-e6f6-d8ba9376c993"
   },
   "outputs": [
    {
     "data": {
      "text/plain": [
       "['tagger', 'parser', 'ner']"
      ]
     },
     "execution_count": 6,
     "metadata": {},
     "output_type": "execute_result"
    }
   ],
   "source": [
    "nlp.pipe_names"
   ]
  },
  {
   "cell_type": "markdown",
   "metadata": {
    "id": "mO9_otDSwFGN"
   },
   "source": [
    "### **POS Tagging**"
   ]
  },
  {
   "cell_type": "code",
   "execution_count": 7,
   "metadata": {
    "colab": {
     "base_uri": "https://localhost:8080/"
    },
    "id": "pWlMPgK6uEDL",
    "outputId": "257e9543-b2f1-4073-f55a-45d07bb7912d"
   },
   "outputs": [
    {
     "name": "stdout",
     "output_type": "stream",
     "text": [
      "He   PRON\n",
      "went   VERB\n",
      "to   PART\n",
      "play   VERB\n",
      "football   NOUN\n"
     ]
    }
   ],
   "source": [
    "for token in doc:\n",
    "    print(token.text,\" \", token.pos_)"
   ]
  },
  {
   "cell_type": "code",
   "execution_count": 8,
   "metadata": {
    "colab": {
     "base_uri": "https://localhost:8080/",
     "height": 35
    },
    "id": "AU-JnwZZuZEQ",
    "outputId": "830f8ed6-ee18-4b27-f918-4a08f422eaba"
   },
   "outputs": [
    {
     "data": {
      "text/plain": [
       "'particle'"
      ]
     },
     "execution_count": 8,
     "metadata": {},
     "output_type": "execute_result"
    }
   ],
   "source": [
    "spacy.explain(\"PART\")"
   ]
  },
  {
   "cell_type": "markdown",
   "metadata": {
    "id": "5Ztj9gMowO3l"
   },
   "source": [
    "### **Dependency Parsing**"
   ]
  },
  {
   "cell_type": "code",
   "execution_count": 9,
   "metadata": {
    "colab": {
     "base_uri": "https://localhost:8080/"
    },
    "id": "TIem5jG2vXGT",
    "outputId": "57456a4b-6a69-4e6d-9f7f-a28890ecea75"
   },
   "outputs": [
    {
     "name": "stdout",
     "output_type": "stream",
     "text": [
      "He   nsubj\n",
      "went   ROOT\n",
      "to   aux\n",
      "play   advcl\n",
      "football   dobj\n"
     ]
    }
   ],
   "source": [
    "for token in doc:\n",
    "    print(token.text, \" \", token.dep_)"
   ]
  },
  {
   "cell_type": "code",
   "execution_count": 10,
   "metadata": {
    "colab": {
     "base_uri": "https://localhost:8080/"
    },
    "id": "iC5xmtOnwlIk",
    "outputId": "319c9bea-6fec-43b4-975f-264b7dd4551f"
   },
   "outputs": [
    {
     "data": {
      "text/plain": [
       "('nominal subject', 'auxiliary')"
      ]
     },
     "execution_count": 10,
     "metadata": {},
     "output_type": "execute_result"
    }
   ],
   "source": [
    "spacy.explain(\"nsubj\"), spacy.explain(\"aux\")"
   ]
  },
  {
   "cell_type": "markdown",
   "metadata": {
    "id": "9k_L3OS0wxvp"
   },
   "source": [
    "## **Named Entity Recognition**"
   ]
  },
  {
   "cell_type": "code",
   "execution_count": 11,
   "metadata": {
    "id": "MMbIrUehwtjd"
   },
   "outputs": [],
   "source": [
    "text = \"Sherlock Holmes is a famous detective\""
   ]
  },
  {
   "cell_type": "code",
   "execution_count": 12,
   "metadata": {
    "colab": {
     "base_uri": "https://localhost:8080/"
    },
    "id": "bHG6xTlqyApu",
    "outputId": "525ba5ed-df76-4f21-9c50-648fe0752121"
   },
   "outputs": [
    {
     "name": "stdout",
     "output_type": "stream",
     "text": [
      "Sherlock Holmes PERSON\n",
      "Sherlock Holmes 0 15 PERSON People, including fictional\n"
     ]
    }
   ],
   "source": [
    "doc = nlp(text)\n",
    " \n",
    "for ent in doc.ents:\n",
    "    print(ent.text, ent.label_)\n",
    "    print(ent.text, ent.start_char, ent.end_char,\n",
    "    ent.label_, spacy.explain(ent.label_))"
   ]
  },
  {
   "cell_type": "markdown",
   "metadata": {
    "id": "uWIs_yzVz6-b"
   },
   "source": [
    "**Visualising results using displacy**"
   ]
  },
  {
   "cell_type": "code",
   "execution_count": 13,
   "metadata": {
    "id": "nHJK3ujWzsEN"
   },
   "outputs": [],
   "source": [
    "from spacy import displacy"
   ]
  },
  {
   "cell_type": "code",
   "execution_count": 14,
   "metadata": {
    "colab": {
     "base_uri": "https://localhost:8080/",
     "height": 51
    },
    "id": "JOhG7ZPBym5N",
    "outputId": "b36b8d86-3554-4abd-b5b4-6261f60b9814"
   },
   "outputs": [
    {
     "data": {
      "text/html": [
       "<span class=\"tex2jax_ignore\"><svg xmlns=\"http://www.w3.org/2000/svg\" xmlns:xlink=\"http://www.w3.org/1999/xlink\" xml:lang=\"en\" id=\"76b76b2fc9034065951c0455beb2757d-0\" class=\"displacy\" width=\"590\" height=\"272.0\" direction=\"ltr\" style=\"max-width: none; height: 272.0px; color: #000000; background: #ffffff; font-family: Arial; direction: ltr\">\n",
       "<text class=\"displacy-token\" fill=\"currentColor\" text-anchor=\"middle\" y=\"182.0\">\n",
       "    <tspan class=\"displacy-word\" fill=\"currentColor\" x=\"50\">Sherlock</tspan>\n",
       "    <tspan class=\"displacy-tag\" dy=\"2em\" fill=\"currentColor\" x=\"50\">PROPN</tspan>\n",
       "</text>\n",
       "\n",
       "<text class=\"displacy-token\" fill=\"currentColor\" text-anchor=\"middle\" y=\"182.0\">\n",
       "    <tspan class=\"displacy-word\" fill=\"currentColor\" x=\"140\">Holmes</tspan>\n",
       "    <tspan class=\"displacy-tag\" dy=\"2em\" fill=\"currentColor\" x=\"140\">PROPN</tspan>\n",
       "</text>\n",
       "\n",
       "<text class=\"displacy-token\" fill=\"currentColor\" text-anchor=\"middle\" y=\"182.0\">\n",
       "    <tspan class=\"displacy-word\" fill=\"currentColor\" x=\"230\">is</tspan>\n",
       "    <tspan class=\"displacy-tag\" dy=\"2em\" fill=\"currentColor\" x=\"230\">AUX</tspan>\n",
       "</text>\n",
       "\n",
       "<text class=\"displacy-token\" fill=\"currentColor\" text-anchor=\"middle\" y=\"182.0\">\n",
       "    <tspan class=\"displacy-word\" fill=\"currentColor\" x=\"320\">a</tspan>\n",
       "    <tspan class=\"displacy-tag\" dy=\"2em\" fill=\"currentColor\" x=\"320\">DET</tspan>\n",
       "</text>\n",
       "\n",
       "<text class=\"displacy-token\" fill=\"currentColor\" text-anchor=\"middle\" y=\"182.0\">\n",
       "    <tspan class=\"displacy-word\" fill=\"currentColor\" x=\"410\">famous</tspan>\n",
       "    <tspan class=\"displacy-tag\" dy=\"2em\" fill=\"currentColor\" x=\"410\">ADJ</tspan>\n",
       "</text>\n",
       "\n",
       "<text class=\"displacy-token\" fill=\"currentColor\" text-anchor=\"middle\" y=\"182.0\">\n",
       "    <tspan class=\"displacy-word\" fill=\"currentColor\" x=\"500\">detective</tspan>\n",
       "    <tspan class=\"displacy-tag\" dy=\"2em\" fill=\"currentColor\" x=\"500\">NOUN</tspan>\n",
       "</text>\n",
       "\n",
       "<g class=\"displacy-arrow\">\n",
       "    <path class=\"displacy-arc\" id=\"arrow-76b76b2fc9034065951c0455beb2757d-0-0\" stroke-width=\"2px\" d=\"M70,137.0 C70,92.0 130.0,92.0 130.0,137.0\" fill=\"none\" stroke=\"currentColor\"/>\n",
       "    <text dy=\"1.25em\" style=\"font-size: 0.8em; letter-spacing: 1px\">\n",
       "        <textPath xlink:href=\"#arrow-76b76b2fc9034065951c0455beb2757d-0-0\" class=\"displacy-label\" startOffset=\"50%\" side=\"left\" fill=\"currentColor\" text-anchor=\"middle\">compound</textPath>\n",
       "    </text>\n",
       "    <path class=\"displacy-arrowhead\" d=\"M70,139.0 L62,127.0 78,127.0\" fill=\"currentColor\"/>\n",
       "</g>\n",
       "\n",
       "<g class=\"displacy-arrow\">\n",
       "    <path class=\"displacy-arc\" id=\"arrow-76b76b2fc9034065951c0455beb2757d-0-1\" stroke-width=\"2px\" d=\"M160,137.0 C160,92.0 220.0,92.0 220.0,137.0\" fill=\"none\" stroke=\"currentColor\"/>\n",
       "    <text dy=\"1.25em\" style=\"font-size: 0.8em; letter-spacing: 1px\">\n",
       "        <textPath xlink:href=\"#arrow-76b76b2fc9034065951c0455beb2757d-0-1\" class=\"displacy-label\" startOffset=\"50%\" side=\"left\" fill=\"currentColor\" text-anchor=\"middle\">nsubj</textPath>\n",
       "    </text>\n",
       "    <path class=\"displacy-arrowhead\" d=\"M160,139.0 L152,127.0 168,127.0\" fill=\"currentColor\"/>\n",
       "</g>\n",
       "\n",
       "<g class=\"displacy-arrow\">\n",
       "    <path class=\"displacy-arc\" id=\"arrow-76b76b2fc9034065951c0455beb2757d-0-2\" stroke-width=\"2px\" d=\"M340,137.0 C340,47.0 495.0,47.0 495.0,137.0\" fill=\"none\" stroke=\"currentColor\"/>\n",
       "    <text dy=\"1.25em\" style=\"font-size: 0.8em; letter-spacing: 1px\">\n",
       "        <textPath xlink:href=\"#arrow-76b76b2fc9034065951c0455beb2757d-0-2\" class=\"displacy-label\" startOffset=\"50%\" side=\"left\" fill=\"currentColor\" text-anchor=\"middle\">det</textPath>\n",
       "    </text>\n",
       "    <path class=\"displacy-arrowhead\" d=\"M340,139.0 L332,127.0 348,127.0\" fill=\"currentColor\"/>\n",
       "</g>\n",
       "\n",
       "<g class=\"displacy-arrow\">\n",
       "    <path class=\"displacy-arc\" id=\"arrow-76b76b2fc9034065951c0455beb2757d-0-3\" stroke-width=\"2px\" d=\"M430,137.0 C430,92.0 490.0,92.0 490.0,137.0\" fill=\"none\" stroke=\"currentColor\"/>\n",
       "    <text dy=\"1.25em\" style=\"font-size: 0.8em; letter-spacing: 1px\">\n",
       "        <textPath xlink:href=\"#arrow-76b76b2fc9034065951c0455beb2757d-0-3\" class=\"displacy-label\" startOffset=\"50%\" side=\"left\" fill=\"currentColor\" text-anchor=\"middle\">amod</textPath>\n",
       "    </text>\n",
       "    <path class=\"displacy-arrowhead\" d=\"M430,139.0 L422,127.0 438,127.0\" fill=\"currentColor\"/>\n",
       "</g>\n",
       "\n",
       "<g class=\"displacy-arrow\">\n",
       "    <path class=\"displacy-arc\" id=\"arrow-76b76b2fc9034065951c0455beb2757d-0-4\" stroke-width=\"2px\" d=\"M250,137.0 C250,2.0 500.0,2.0 500.0,137.0\" fill=\"none\" stroke=\"currentColor\"/>\n",
       "    <text dy=\"1.25em\" style=\"font-size: 0.8em; letter-spacing: 1px\">\n",
       "        <textPath xlink:href=\"#arrow-76b76b2fc9034065951c0455beb2757d-0-4\" class=\"displacy-label\" startOffset=\"50%\" side=\"left\" fill=\"currentColor\" text-anchor=\"middle\">attr</textPath>\n",
       "    </text>\n",
       "    <path class=\"displacy-arrowhead\" d=\"M500.0,139.0 L508.0,127.0 492.0,127.0\" fill=\"currentColor\"/>\n",
       "</g>\n",
       "</svg></span>"
      ],
      "text/plain": [
       "<IPython.core.display.HTML object>"
      ]
     },
     "metadata": {},
     "output_type": "display_data"
    }
   ],
   "source": [
    "displacy.render(doc, style='dep', jupyter=True, options={'distance': 90})"
   ]
  },
  {
   "cell_type": "markdown",
   "metadata": {
    "id": "cPlhZUSgmh_l"
   },
   "source": []
  },
  {
   "cell_type": "markdown",
   "metadata": {
    "id": "dwJ5OiVI-eRt"
   },
   "source": [
    "### **Custom Named Entity Recognition**"
   ]
  },
  {
   "cell_type": "code",
   "execution_count": 15,
   "metadata": {
    "id": "NJlsrMXsRuTS"
   },
   "outputs": [],
   "source": [
    "DATA = [\n",
    "  (\"Search Analytics: Business Value & BigData NoSQL Backend, Otis Gospodnetic \", {'entities': [ (58,75,'PERSON') ] }),\n",
    "  (\"Introduction to Elasticsearch by Radu \", {'entities': [ (16,29,'TECH'), (32, 36, 'PERSON') ] }),\n",
    "]"
   ]
  },
  {
   "cell_type": "code",
   "execution_count": 16,
   "metadata": {
    "id": "ZAeq_tv2Rw-N"
   },
   "outputs": [
    {
     "name": "stderr",
     "output_type": "stream",
     "text": [
      "D:\\Users\\Aditya Bhattacharya\\anaconda3\\lib\\site-packages\\spacy\\language.py:482: UserWarning: [W030] Some entities could not be aligned in the text \"Search Analytics: Business Value & BigData NoSQL B...\" with entities \"[(58, 75, 'PERSON')]\". Use `spacy.gold.biluo_tags_from_offsets(nlp.make_doc(text), entities)` to check the alignment. Misaligned entities (with BILUO tag '-') will be ignored during training.\n",
      "  gold = GoldParse(doc, **gold)\n",
      "D:\\Users\\Aditya Bhattacharya\\anaconda3\\lib\\site-packages\\spacy\\language.py:482: UserWarning: [W030] Some entities could not be aligned in the text \"Introduction to Elasticsearch by Radu \" with entities \"[(16, 29, 'TECH'), (32, 36, 'PERSON')]\". Use `spacy.gold.biluo_tags_from_offsets(nlp.make_doc(text), entities)` to check the alignment. Misaligned entities (with BILUO tag '-') will be ignored during training.\n",
      "  gold = GoldParse(doc, **gold)\n"
     ]
    }
   ],
   "source": [
    "nlp.entity.add_label('PERSON')\n",
    "nlp.entity.add_label('TECH')\n",
    "\n",
    "\n",
    "optimizer = nlp.begin_training()\n",
    "\n",
    "for i in range(200):\n",
    "    #random.shuffle(DATA)\n",
    "    for text, annotations in DATA:\n",
    "        nlp.update([text], [annotations], sgd=optimizer)\n",
    "\n",
    "\n"
   ]
  },
  {
   "cell_type": "code",
   "execution_count": 21,
   "metadata": {
    "colab": {
     "base_uri": "https://localhost:8080/"
    },
    "id": "rKZHDfnTshOi",
    "outputId": "fdbc0bdd-1f08-4d5c-bea1-3495276759a4"
   },
   "outputs": [],
   "source": [
    "doc = nlp(\"Running High Performance And Fault Tolerant Elasticsearch by Radu\")\n",
    "for entity in doc.ents:\n",
    "      print(entity.label_, ' | ', entity.text)"
   ]
  },
  {
   "cell_type": "code",
   "execution_count": null,
   "metadata": {
    "id": "LQbGs_Su-yno"
   },
   "outputs": [],
   "source": [
    "import json\n",
    "with open('/content/NER/stock_market_training.json',encoding=\"utf8\") as file:\n",
    "  TRAIN_DATA = json.load(file)"
   ]
  },
  {
   "cell_type": "code",
   "execution_count": null,
   "metadata": {
    "colab": {
     "base_uri": "https://localhost:8080/"
    },
    "id": "rRF4EeyQGUNR",
    "outputId": "2e626818-7809-4e6f-ebda-198c1c2c0c39"
   },
   "outputs": [
    {
     "data": {
      "text/plain": [
       "{'annotations': [['The share price of PVR rose over 7 percent on Wednesday after the multiplex chain said that it has reduced losses in Q2 despite nil revenue from the core movie exhibition business.',\n",
       "   {'entities': [[19, 22, 'COMPANY'],\n",
       "     [33, 42, 'PERCENTAGE'],\n",
       "     [46, 55, 'WEEKDAY']]}],\n",
       "  ['The company managed to get rent waivers from most landlords, CFO Nitin Sood said in an interview to CNBC-TV18. “The big focus for us right now as revenues have been nil is to really reduce our fixed cost and we have managed to do that, ” he added.',\n",
       "   {'entities': [[61, 64, 'ROLE'], [65, 75, 'NAME']]}],\n",
       "  ['Sood further said that they have brought down the fixed cost down by almost 75-80 percent.',\n",
       "   {'entities': [[0, 4, 'NAME'], [76, 89, 'PERCENTAGE']]}],\n",
       "  [\"The stock rose as much as 7.6 percent to the day's high of Rs 1,186.85 per share on the BSE.\",\n",
       "   {'entities': [[26, 37, 'PERCENTAGE'],\n",
       "     [59, 70, 'PERCENTAGE'],\n",
       "     [88, 91, 'COMPANY']]}],\n",
       "  ['Meanwhile, for the September quarter, the company reported a consolidated net loss of Rs 184.06 crore versus a net profit of Rs 47.67 crore in the year ago quarter.',\n",
       "   {'entities': [[86, 101, 'MONEY'], [125, 139, 'MONEY']]}],\n",
       "  ['', {'entities': []}],\n",
       "  [\"Its total income was at Rs 110.61 crore during the quarter under review against Rs 979.40 crore in the corresponding quarter last fiscal. PVR's total expenses were at Rs 389.37 crore in July-September 2020-21.\",\n",
       "   {'entities': [[24, 39, 'MONEY'],\n",
       "     [80, 95, 'MONEY'],\n",
       "     [117, 137, 'TIME PERIOD'],\n",
       "     [138, 141, 'COMPANY'],\n",
       "     [167, 182, 'MONEY'],\n",
       "     [186, 208, 'TIME PERIOD']]}],\n",
       "  ['\" Financial performance of the company for Q2, FY 21 was impacted by the continued lockdown announced due to COVID-19 outbreak, which disrupted the company\\'s operations, \" said PVR in a post-earnings statement.',\n",
       "   {'entities': [[42, 44, 'TIME PERIOD'], [46, 51, 'TIME PERIOD']]}],\n",
       "  ['PVR said its results were not comparable as business was impacted due to temporary closures of cinemas.',\n",
       "   {'entities': []}],\n",
       "  ['', {'entities': []}],\n",
       "  ['Under Unlock 5.0 guidelines, the government has permitted cinemas to reopen October 15 onwards with 50 percent capacity. So far , 16 states and UTs, where PVR has a presence, have permitted cinemas to restart operations. Out of total of 831 screens of the company, over 575 have received permission to reopen, it said.',\n",
       "   {'entities': [[76, 86, 'TIME PERIOD'],\n",
       "     [100, 110, 'PERCENTAGE'],\n",
       "     [154, 157, 'COMPANY']]}],\n",
       "  ['PVR Ltd Chairman cum Managing Director Ajay Bijli said: \" We are eagerly waiting for the reopening of other states, specifically Maharashtra and Telangana so that business can gradually get back to normal. We are taking all possible precautions so that both our customers and employees feel safe while visiting their favourite cinema . \"',\n",
       "   {'entities': [[8, 16, 'ROLE'],\n",
       "     [21, 38, 'ROLE'],\n",
       "     [39, 49, 'NAME'],\n",
       "     [128, 139, 'ROLE'],\n",
       "     [144, 153, 'ROLE']]}]],\n",
       " 'classes': ['NAME',\n",
       "  'COMPANY',\n",
       "  'ROLE',\n",
       "  'PERCENTAGE',\n",
       "  'WEEKDAY',\n",
       "  'MONEY',\n",
       "  'TIME PERIOD',\n",
       "  'STATES']}"
      ]
     },
     "execution_count": 218,
     "metadata": {
      "tags": []
     },
     "output_type": "execute_result"
    }
   ],
   "source": [
    "TRAIN_DATA"
   ]
  },
  {
   "cell_type": "markdown",
   "metadata": {
    "id": "1k_9LwYUF1Im"
   },
   "source": [
    "**Prepare an empty model to train**"
   ]
  },
  {
   "cell_type": "code",
   "execution_count": null,
   "metadata": {
    "id": "Bb_iPf3kDy5i"
   },
   "outputs": [],
   "source": [
    "nlp = spacy.blank('en')\n",
    "ner = nlp.create_pipe('ner')\n",
    "nlp.add_pipe(ner)"
   ]
  },
  {
   "cell_type": "markdown",
   "metadata": {
    "id": "1YG56NW6GH39"
   },
   "source": [
    "**Add the custom NER Tags as entities into the model**"
   ]
  },
  {
   "cell_type": "code",
   "execution_count": null,
   "metadata": {
    "id": "66t41f9vFf-E"
   },
   "outputs": [],
   "source": [
    "for label in TRAIN_DATA[\"classes\"]:\n",
    "  nlp.entity.add_label(label)"
   ]
  },
  {
   "cell_type": "markdown",
   "metadata": {
    "id": "aKDnhT6BHWcg"
   },
   "source": [
    "**Training the model**"
   ]
  },
  {
   "cell_type": "code",
   "execution_count": null,
   "metadata": {
    "id": "_hmMLaGsGvLT"
   },
   "outputs": [],
   "source": [
    "optimizer = nlp.begin_training()"
   ]
  },
  {
   "cell_type": "code",
   "execution_count": null,
   "metadata": {
    "colab": {
     "base_uri": "https://localhost:8080/"
    },
    "id": "7B5Liuj9ypmz",
    "outputId": "f9e7ca10-2b6d-44fb-d271-b742f39d8030"
   },
   "outputs": [
    {
     "name": "stdout",
     "output_type": "stream",
     "text": [
      "Current loss {'ner': 1.0543702592388791e-05}\n",
      "Current loss {'ner': 0.0007745897731913514}\n",
      "Current loss {'ner': 0.0044470114939623735}\n",
      "Current loss {'ner': 1.634943158654324e-05}\n",
      "Current loss {'ner': 5.002866962152886e-05}\n",
      "Current loss {'ner': 0.2562790723688976}\n",
      "Current loss {'ner': 3.7534676041222357e-06}\n",
      "Current loss {'ner': 1.1076708293067133e-07}\n",
      "Current loss {'ner': 0.0013167336306275509}\n",
      "Current loss {'ner': 0.0007900404783257226}\n",
      "Current loss {'ner': 1.4560951283629219e-05}\n",
      "Current loss {'ner': 9.314342240692522e-07}\n",
      "Current loss {'ner': 0.0011773366178242492}\n",
      "Current loss {'ner': 5.6043441575788066e-05}\n",
      "Current loss {'ner': 0.00015759252101732417}\n",
      "Current loss {'ner': 0.2172696527948575}\n",
      "Current loss {'ner': 2.8459472719723857e-08}\n",
      "Current loss {'ner': 3.1220374595278924e-11}\n",
      "Current loss {'ner': 5.241847919561377e-05}\n",
      "Current loss {'ner': 7.323120826862261e-05}\n",
      "Current loss {'ner': 5.855586548650994e-05}\n",
      "Current loss {'ner': 0.0033469863621008993}\n",
      "Current loss {'ner': 0.0006287734617847674}\n",
      "Current loss {'ner': 6.22538848285671e-06}\n",
      "Current loss {'ner': 2.7097468367653114e-07}\n",
      "Current loss {'ner': 0.03584991551441994}\n",
      "Current loss {'ner': 3.929702614960169e-07}\n",
      "Current loss {'ner': 8.648668017076105e-11}\n",
      "Current loss {'ner': 9.761368731928704e-05}\n",
      "Current loss {'ner': 5.6015278499153594e-05}\n",
      "Current loss {'ner': 0.0001961468990057541}\n",
      "Current loss {'ner': 1.3541993124985201e-06}\n",
      "Current loss {'ner': 0.001252367305362736}\n",
      "Current loss {'ner': 4.614544106886513e-07}\n",
      "Current loss {'ner': 1.7607414884986581e-06}\n",
      "Current loss {'ner': 0.003159698006591817}\n",
      "Current loss {'ner': 4.883355378730848e-08}\n",
      "Current loss {'ner': 6.921250280411329e-12}\n",
      "Current loss {'ner': 0.00021604793813150366}\n",
      "Current loss {'ner': 0.0009754939469041496}\n",
      "Current loss {'ner': 0.00020157407517522463}\n",
      "Current loss {'ner': 2.7328293097627875e-07}\n",
      "Current loss {'ner': 3.070584695993203e-05}\n",
      "Current loss {'ner': 0.0002106753679582508}\n",
      "Current loss {'ner': 2.6141134337303948e-05}\n",
      "Current loss {'ner': 0.000568881949063727}\n",
      "Current loss {'ner': 6.99348569479723e-08}\n",
      "Current loss {'ner': 2.4778518178147835e-11}\n",
      "Current loss {'ner': 1.461367144440331e-05}\n",
      "Current loss {'ner': 0.008786157607535311}\n",
      "Current loss {'ner': 7.699937254750326e-08}\n",
      "Current loss {'ner': 1.1491944548314349e-08}\n",
      "Current loss {'ner': 4.834182850193492e-05}\n",
      "Current loss {'ner': 2.7344423373895784e-05}\n",
      "Current loss {'ner': 4.01494145591811e-07}\n",
      "Current loss {'ner': 0.0009455518196820216}\n",
      "Current loss {'ner': 7.971818964055902e-06}\n",
      "Current loss {'ner': 6.577410883387843e-11}\n",
      "Current loss {'ner': 2.435768004825009e-07}\n",
      "Current loss {'ner': 1.0944015806691603e-06}\n",
      "Current loss {'ner': 4.1438881085476235e-08}\n",
      "Current loss {'ner': 2.4792998298941147e-06}\n",
      "Current loss {'ner': 6.041257358871105e-08}\n",
      "Current loss {'ner': 3.408680513145365e-06}\n",
      "Current loss {'ner': 2.6463491190743485e-07}\n",
      "Current loss {'ner': 4.429206563933934e-05}\n",
      "Current loss {'ner': 2.6661617395149204e-10}\n",
      "Current loss {'ner': 7.754427376384848e-14}\n",
      "Current loss {'ner': 0.0867355393637193}\n",
      "Current loss {'ner': 3.3796685241261e-05}\n",
      "Current loss {'ner': 0.0001800723513855858}\n",
      "Current loss {'ner': 4.466670212221614e-07}\n",
      "Current loss {'ner': 7.387345009525541e-07}\n",
      "Current loss {'ner': 1.7682751068404548e-08}\n",
      "Current loss {'ner': 4.804891076665278e-06}\n",
      "Current loss {'ner': 0.002373156635851288}\n",
      "Current loss {'ner': 3.258860521819848e-13}\n",
      "Current loss {'ner': 1.1771475379918577e-10}\n",
      "Current loss {'ner': 1.5614041185576855e-06}\n",
      "Current loss {'ner': 0.18510495624538714}\n",
      "Current loss {'ner': 0.0020037600140157706}\n",
      "Current loss {'ner': 0.0035081777014586354}\n",
      "Current loss {'ner': 3.7059501937436927e-07}\n",
      "Current loss {'ner': 0.0046876258215940506}\n",
      "Current loss {'ner': 1.2759344216408746e-06}\n",
      "Current loss {'ner': 0.0007636307415770058}\n",
      "Current loss {'ner': 6.383404389476948e-09}\n",
      "Current loss {'ner': 5.312168993076407e-11}\n",
      "Current loss {'ner': 2.205611899284396e-05}\n",
      "Current loss {'ner': 0.000527558298635882}\n",
      "Current loss {'ner': 4.966574069598491e-07}\n",
      "Current loss {'ner': 2.2475452204202003e-09}\n",
      "Current loss {'ner': 2.016621493562018e-07}\n",
      "Current loss {'ner': 1.2139885043544477e-06}\n",
      "Current loss {'ner': 4.5115138537086024e-08}\n",
      "Current loss {'ner': 0.0002233107751776388}\n",
      "Current loss {'ner': 3.266623632037376e-14}\n",
      "Current loss {'ner': 7.079806065431025e-15}\n",
      "Current loss {'ner': 9.890579892318789e-06}\n",
      "Current loss {'ner': 2.743564857285542e-06}\n",
      "Current loss {'ner': 0.0007098859956865253}\n",
      "Current loss {'ner': 6.472460868085826e-07}\n",
      "Current loss {'ner': 6.130235952918179e-06}\n",
      "Current loss {'ner': 1.2779088108686698e-06}\n",
      "Current loss {'ner': 1.8753896414133652e-08}\n",
      "Current loss {'ner': 0.0012897992331841331}\n",
      "Current loss {'ner': 7.005081478552916e-09}\n",
      "Current loss {'ner': 1.7674804567157652e-12}\n",
      "Current loss {'ner': 7.066758830251595e-08}\n",
      "Current loss {'ner': 0.000979849330024229}\n",
      "Current loss {'ner': 2.77116975182368e-08}\n",
      "Current loss {'ner': 2.4486606213723624e-05}\n",
      "Current loss {'ner': 0.0013419988782597968}\n",
      "Current loss {'ner': 0.0004232054130374192}\n",
      "Current loss {'ner': 7.952330900152679e-05}\n",
      "Current loss {'ner': 0.0011475173347201696}\n",
      "Current loss {'ner': 1.1879581607856888e-08}\n",
      "Current loss {'ner': 2.6240532600334578e-08}\n",
      "Current loss {'ner': 1.6415395578087512e-09}\n",
      "Current loss {'ner': 7.609558880327045e-07}\n",
      "Current loss {'ner': 0.02132335629922458}\n",
      "Current loss {'ner': 1.5336528752906118e-09}\n",
      "Current loss {'ner': 0.0004252818397661411}\n",
      "Current loss {'ner': 0.116131566346364}\n",
      "Current loss {'ner': 2.949355844365838e-05}\n",
      "Current loss {'ner': 0.00025418999877988826}\n",
      "Current loss {'ner': 4.4661357111750613e-11}\n",
      "Current loss {'ner': 6.53770149156715e-10}\n",
      "Current loss {'ner': 1.12341123377026e-09}\n",
      "Current loss {'ner': 2.0484696794916897e-06}\n",
      "Current loss {'ner': 2.005553019659135e-06}\n",
      "Current loss {'ner': 6.070114029055326e-07}\n",
      "Current loss {'ner': 6.412024349851255e-07}\n",
      "Current loss {'ner': 0.03260263048587712}\n",
      "Current loss {'ner': 5.618161411530314e-08}\n",
      "Current loss {'ner': 2.1021951808466825e-06}\n",
      "Current loss {'ner': 6.682737813569988e-07}\n",
      "Current loss {'ner': 3.677823560762887e-10}\n",
      "Current loss {'ner': 4.444868795776611e-06}\n",
      "Current loss {'ner': 2.756007227929714e-06}\n",
      "Current loss {'ner': 5.460599251952415e-05}\n",
      "Current loss {'ner': 6.948410903503298e-05}\n",
      "Current loss {'ner': 6.170336251847821e-07}\n",
      "Current loss {'ner': 1.9693027022550633e-07}\n",
      "Current loss {'ner': 5.139398539832309e-08}\n",
      "Current loss {'ner': 0.11822245262285916}\n",
      "Current loss {'ner': 5.204065444896108e-05}\n",
      "Current loss {'ner': 8.403361976627459e-14}\n",
      "Current loss {'ner': 1.3307041436533267e-08}\n",
      "Current loss {'ner': 2.666144581077335e-06}\n",
      "Current loss {'ner': 0.0005316804059720813}\n",
      "Current loss {'ner': 5.357450249752792e-10}\n",
      "Current loss {'ner': 0.0028602253160849222}\n",
      "Current loss {'ner': 0.002676325920845866}\n",
      "Current loss {'ner': 1.8957950151608767e-08}\n",
      "Current loss {'ner': 0.038775074222003415}\n",
      "Current loss {'ner': 1.1854363290063172e-12}\n",
      "Current loss {'ner': 3.718543350610557e-12}\n",
      "Current loss {'ner': 1.2675277808478084e-07}\n",
      "Current loss {'ner': 0.005231762935111499}\n",
      "Current loss {'ner': 1.5496991585236837e-09}\n",
      "Current loss {'ner': 4.734929023360869e-09}\n",
      "Current loss {'ner': 2.9049452398866597e-05}\n",
      "Current loss {'ner': 0.0021971114948646665}\n",
      "Current loss {'ner': 0.0003255635927645588}\n",
      "Current loss {'ner': 0.08721080174123284}\n",
      "Current loss {'ner': 2.7325435193047223e-11}\n",
      "Current loss {'ner': 1.4624412582566772e-06}\n",
      "Current loss {'ner': 9.742439115992097e-08}\n",
      "Current loss {'ner': 2.0828393724180927e-07}\n",
      "Current loss {'ner': 2.7209438441611122e-08}\n",
      "Current loss {'ner': 0.0012437160148599114}\n",
      "Current loss {'ner': 4.9685909034418515e-08}\n",
      "Current loss {'ner': 4.856440869199096e-05}\n",
      "Current loss {'ner': 2.349355231494664e-07}\n",
      "Current loss {'ner': 0.0001209711128793684}\n",
      "Current loss {'ner': 7.011519200784056e-11}\n",
      "Current loss {'ner': 0.023040490224957497}\n",
      "Current loss {'ner': 6.399072931938107e-06}\n",
      "Current loss {'ner': 4.061411161796229e-09}\n",
      "Current loss {'ner': 1.900708620248713e-09}\n",
      "Current loss {'ner': 5.298076353664581e-08}\n",
      "Current loss {'ner': 3.617586417794612e-07}\n",
      "Current loss {'ner': 2.2189708948309615e-08}\n",
      "Current loss {'ner': 0.014693695703793223}\n",
      "Current loss {'ner': 0.0006306247053090924}\n",
      "Current loss {'ner': 1.4900179925087804e-07}\n",
      "Current loss {'ner': 1.0069790404809917e-17}\n",
      "Current loss {'ner': 6.195374397304876e-06}\n",
      "Current loss {'ner': 8.696136811148545e-06}\n",
      "Current loss {'ner': 9.420841771782208e-06}\n",
      "Current loss {'ner': 3.550301051156213e-08}\n",
      "Current loss {'ner': 8.530278353865331e-07}\n",
      "Current loss {'ner': 1.8010119079508453e-05}\n",
      "Current loss {'ner': 4.1263633693780546e-07}\n",
      "Current loss {'ner': 0.00025599483370751855}\n",
      "Current loss {'ner': 5.4070334150631243e-11}\n",
      "Current loss {'ner': 3.173712048087959e-16}\n",
      "Current loss {'ner': 3.69865002594396e-05}\n",
      "Current loss {'ner': 3.484094126207076e-06}\n",
      "Current loss {'ner': 1.9705032506811504e-08}\n",
      "Current loss {'ner': 0.009181871128935076}\n",
      "Current loss {'ner': 2.5663930311871578e-06}\n",
      "Current loss {'ner': 0.4729441435858101}\n",
      "Current loss {'ner': 0.6479897291906317}\n",
      "Current loss {'ner': 1.7302272064310957}\n",
      "Current loss {'ner': 4.53089703332971e-14}\n",
      "Current loss {'ner': 2.5067810029160946e-19}\n",
      "Current loss {'ner': 7.846155463155303e-08}\n",
      "Current loss {'ner': 8.247648548286949e-09}\n",
      "Current loss {'ner': 8.0695083617783e-05}\n",
      "Current loss {'ner': 0.0013067408026894705}\n",
      "Current loss {'ner': 4.9193861222389e-06}\n",
      "Current loss {'ner': 1.60749317843353e-07}\n",
      "Current loss {'ner': 2.082017832305768e-07}\n",
      "Current loss {'ner': 1.738950661177588}\n",
      "Current loss {'ner': 1.3116719030003882e-16}\n",
      "Current loss {'ner': 2.819103950423867e-16}\n",
      "Current loss {'ner': 4.495211971324299e-08}\n",
      "Current loss {'ner': 1.9776985047829956e-08}\n",
      "Current loss {'ner': 3.5691629000070376e-07}\n",
      "Current loss {'ner': 1.0581331650882951e-06}\n",
      "Current loss {'ner': 4.336458705134236e-08}\n",
      "Current loss {'ner': 0.0003528658842878024}\n",
      "Current loss {'ner': 7.3837580080910515e-06}\n",
      "Current loss {'ner': 0.010024621624652523}\n",
      "Current loss {'ner': 1.7997224408695803e-14}\n",
      "Current loss {'ner': 4.039877845166265e-13}\n",
      "Current loss {'ner': 4.3453987198301796e-05}\n",
      "Current loss {'ner': 2.728474749883543e-08}\n",
      "Current loss {'ner': 5.3556330925238165e-09}\n",
      "Current loss {'ner': 0.0046527454928855455}\n",
      "Current loss {'ner': 2.4626713402212186e-08}\n",
      "Current loss {'ner': 0.004568826982685728}\n",
      "Current loss {'ner': 1.862047963806774e-07}\n",
      "Current loss {'ner': 1.1572222756161988e-05}\n",
      "Current loss {'ner': 1.4264838617622705e-08}\n",
      "Current loss {'ner': 2.9390154780046633e-14}\n",
      "Current loss {'ner': 2.1157127909834276e-07}\n",
      "Current loss {'ner': 0.0005224619828589403}\n",
      "Current loss {'ner': 1.878493508572592e-06}\n",
      "Current loss {'ner': 3.977042040647699e-05}\n",
      "Current loss {'ner': 5.034612661780362e-07}\n",
      "Current loss {'ner': 7.58014943035839e-05}\n",
      "Current loss {'ner': 2.9783578276548502e-05}\n",
      "Current loss {'ner': 4.730264889520982e-06}\n",
      "Current loss {'ner': 8.392717585377368e-13}\n",
      "Current loss {'ner': 1.983166181648575e-10}\n",
      "Current loss {'ner': 3.184300582472841e-05}\n",
      "Current loss {'ner': 1.1001199558342916e-06}\n",
      "Current loss {'ner': 2.370055807692154e-10}\n",
      "Current loss {'ner': 5.674652878064307e-07}\n",
      "Current loss {'ner': 1.9293738907399628e-09}\n",
      "Current loss {'ner': 0.0018465320717426076}\n",
      "Current loss {'ner': 0.006408928747131568}\n",
      "Current loss {'ner': 1.3375151151391967e-06}\n",
      "Current loss {'ner': 9.258237339710492e-14}\n",
      "Current loss {'ner': 1.0988391605954431e-15}\n",
      "Current loss {'ner': 0.00027700426060721335}\n",
      "Current loss {'ner': 9.436708594404055e-08}\n",
      "Current loss {'ner': 7.205810492038251e-10}\n",
      "Current loss {'ner': 5.314884312614089e-05}\n",
      "Current loss {'ner': 4.6790650308406535e-05}\n",
      "Current loss {'ner': 9.67810950708411e-09}\n",
      "Current loss {'ner': 7.075415992761113e-07}\n",
      "Current loss {'ner': 1.4135457057660517e-05}\n",
      "Current loss {'ner': 1.9999261780950306}\n",
      "Current loss {'ner': 1.809006304677236e-16}\n",
      "Current loss {'ner': 1.805948074290234e-06}\n",
      "Current loss {'ner': 4.22305692885619e-05}\n",
      "Current loss {'ner': 1.0133697841152115e-07}\n",
      "Current loss {'ner': 6.548289333829373e-07}\n",
      "Current loss {'ner': 1.5886378922208286e-06}\n",
      "Current loss {'ner': 0.038301818978533124}\n",
      "Current loss {'ner': 0.00013398182508128352}\n",
      "Current loss {'ner': 0.42301267126476905}\n",
      "Current loss {'ner': 1.9374418603209203e-09}\n",
      "Current loss {'ner': 7.44984329113501e-15}\n",
      "Current loss {'ner': 7.419000955009603e-12}\n",
      "Current loss {'ner': 1.3302601833343553e-05}\n",
      "Current loss {'ner': 7.256730198499286e-12}\n",
      "Current loss {'ner': 1.0817504417488058e-08}\n",
      "Current loss {'ner': 1.1084862915966922e-08}\n",
      "Current loss {'ner': 2.8871235796945323e-12}\n",
      "Current loss {'ner': 2.663366069809455e-08}\n",
      "Current loss {'ner': 0.0013141345349632887}\n",
      "Current loss {'ner': 1.7001536333524037}\n",
      "Current loss {'ner': 1.097680087145966e-15}\n",
      "Current loss {'ner': 3.3459299387785504e-05}\n",
      "Current loss {'ner': 1.664692622515213e-07}\n",
      "Current loss {'ner': 2.9837223445599754e-08}\n",
      "Current loss {'ner': 4.818154138875081e-05}\n",
      "Current loss {'ner': 1.179081184900909e-07}\n",
      "Current loss {'ner': 1.8139503120575712e-05}\n",
      "Current loss {'ner': 1.4631753309189277e-06}\n",
      "Current loss {'ner': 0.675652518125297}\n",
      "Current loss {'ner': 2.0225825666936603e-06}\n",
      "Current loss {'ner': 3.96331677957676e-18}\n",
      "Current loss {'ner': 1.1216915770122187e-05}\n",
      "Current loss {'ner': 6.650233225572942e-08}\n",
      "Current loss {'ner': 0.4887272571159371}\n",
      "Current loss {'ner': 1.2654691456579795e-08}\n",
      "Current loss {'ner': 2.896119394606873e-06}\n",
      "Current loss {'ner': 3.583510109816335e-10}\n",
      "Current loss {'ner': 1.461352075207348e-07}\n",
      "Current loss {'ner': 3.443313988738156e-05}\n",
      "Current loss {'ner': 4.474109246065812}\n",
      "Current loss {'ner': 9.477309963688661e-08}\n",
      "Current loss {'ner': 3.1777235068904747e-08}\n",
      "Current loss {'ner': 7.679034728034536e-08}\n",
      "Current loss {'ner': 2.870681779611563e-06}\n",
      "Current loss {'ner': 5.224573059925709e-10}\n",
      "Current loss {'ner': 5.517203809032067e-05}\n",
      "Current loss {'ner': 2.5288786724546914e-08}\n",
      "Current loss {'ner': 1.145945489568764e-07}\n",
      "Current loss {'ner': 0.00011191111456679703}\n",
      "Current loss {'ner': 2.1966474459637947e-06}\n",
      "Current loss {'ner': 7.561184608801496e-13}\n",
      "Current loss {'ner': 1.8643401286210384e-06}\n",
      "Current loss {'ner': 2.077127136073592e-05}\n",
      "Current loss {'ner': 1.1348514549699495e-06}\n",
      "Current loss {'ner': 1.947742139351423e-10}\n",
      "Current loss {'ner': 3.0322867773366083e-06}\n",
      "Current loss {'ner': 1.3881353044669084e-10}\n",
      "Current loss {'ner': 3.828896624342759e-08}\n",
      "Current loss {'ner': 0.00097488709102868}\n",
      "Current loss {'ner': 1.3472686654740175e-09}\n",
      "Current loss {'ner': 1.4697715491905547e-12}\n",
      "Current loss {'ner': 0.00016676851634338244}\n",
      "Current loss {'ner': 3.777602353041027e-09}\n",
      "Current loss {'ner': 1.157901887435012e-05}\n",
      "Current loss {'ner': 3.7509757567270265e-06}\n",
      "Current loss {'ner': 9.753751818729444e-06}\n",
      "Current loss {'ner': 5.637198072306819e-10}\n",
      "Current loss {'ner': 1.5046302604249399e-05}\n",
      "Current loss {'ner': 3.6113468459067093}\n",
      "Current loss {'ner': 1.741019744926186e-06}\n",
      "Current loss {'ner': 1.5867022731702637e-19}\n",
      "Current loss {'ner': 1.1734207392445381e-12}\n",
      "Current loss {'ner': 2.7143422251191474e-07}\n",
      "Current loss {'ner': 9.525513276547708e-11}\n",
      "Current loss {'ner': 1.5770876428840926e-07}\n",
      "Current loss {'ner': 7.594516479346103e-07}\n",
      "Current loss {'ner': 1.4340766649310181e-08}\n",
      "Current loss {'ner': 2.370088051546339e-09}\n",
      "Current loss {'ner': 0.02776206101320852}\n",
      "Current loss {'ner': 5.7366476340559974e-09}\n",
      "Current loss {'ner': 2.804130763654016e-12}\n",
      "Current loss {'ner': 5.348490865401649e-10}\n",
      "Current loss {'ner': 1.117609738399752e-06}\n",
      "Current loss {'ner': 1.5737156154195005e-09}\n",
      "Current loss {'ner': 3.111543537550634e-07}\n",
      "Current loss {'ner': 8.400205251052342e-05}\n",
      "Current loss {'ner': 3.356757872079818e-07}\n",
      "Current loss {'ner': 1.0388680684812225e-12}\n",
      "Current loss {'ner': 0.0002144961948019717}\n",
      "Current loss {'ner': 0.2858867645263824}\n",
      "Current loss {'ner': 3.747818333265275e-16}\n",
      "Current loss {'ner': 1.9788175893664353e-09}\n",
      "Current loss {'ner': 2.208833255504308e-07}\n",
      "Current loss {'ner': 9.50493352268201e-08}\n",
      "Current loss {'ner': 5.39821191504205e-12}\n",
      "Current loss {'ner': 4.6219576824502386e-07}\n",
      "Current loss {'ner': 1.207572230213414e-12}\n",
      "Current loss {'ner': 3.4045573422992515e-10}\n",
      "Current loss {'ner': 2.818080046458612}\n",
      "Current loss {'ner': 8.317719554206239e-20}\n",
      "Current loss {'ner': 3.1055696673799325e-24}\n",
      "Current loss {'ner': 4.964676037370182e-07}\n",
      "Current loss {'ner': 1.0007666464800198e-09}\n",
      "Current loss {'ner': 1.5534144785675005e-06}\n",
      "Current loss {'ner': 9.75839917543283e-06}\n",
      "Current loss {'ner': 4.9139459376811176e-06}\n",
      "Current loss {'ner': 0.0019775402453822105}\n",
      "Current loss {'ner': 4.844666625897906e-08}\n",
      "Current loss {'ner': 1.0921131796574855e-05}\n",
      "Current loss {'ner': 4.463436280355311e-16}\n",
      "Current loss {'ner': 4.4958313717163527e-26}\n",
      "Current loss {'ner': 6.140258247784541e-10}\n",
      "Current loss {'ner': 0.07707960202436172}\n",
      "Current loss {'ner': 3.07695261685549e-10}\n",
      "Current loss {'ner': 7.137972174986937e-10}\n",
      "Current loss {'ner': 3.494778055784195e-08}\n",
      "Current loss {'ner': 2.5266099786077884e-14}\n",
      "Current loss {'ner': 6.141664770878724e-09}\n",
      "Current loss {'ner': 3.4714013717470546e-07}\n",
      "Current loss {'ner': 4.57432652436946e-18}\n",
      "Current loss {'ner': 2.5007520190009732e-17}\n",
      "Current loss {'ner': 7.677485629464167e-11}\n",
      "Current loss {'ner': 4.796140778999936e-06}\n",
      "Current loss {'ner': 2.366632035362035e-05}\n",
      "Current loss {'ner': 1.3287335581270614e-12}\n",
      "Current loss {'ner': 5.573039674122167e-07}\n",
      "Current loss {'ner': 8.94685619953103e-10}\n",
      "Current loss {'ner': 2.3077731126845358e-08}\n",
      "Current loss {'ner': 1.4173332946742247e-07}\n",
      "Current loss {'ner': 2.1914263428373687e-21}\n",
      "Current loss {'ner': 2.3843421279997593e-18}\n",
      "Current loss {'ner': 8.939227276605802e-08}\n",
      "Current loss {'ner': 0.05658566845320663}\n"
     ]
    }
   ],
   "source": [
    "for itn in range(40):\n",
    "    for text, annotations in TRAIN_DATA[\"annotations\"]:\n",
    "        loss = {}\n",
    "        if len(text) > 0:\n",
    "            nlp.update([text], [annotations],drop= 0.3, sgd=optimizer, losses= loss)\n",
    "            print(\"Current loss\",loss)"
   ]
  },
  {
   "cell_type": "markdown",
   "metadata": {
    "id": "tKJNLpyeJIp3"
   },
   "source": [
    "**Testing the model**"
   ]
  },
  {
   "cell_type": "code",
   "execution_count": null,
   "metadata": {
    "colab": {
     "base_uri": "https://localhost:8080/"
    },
    "id": "F0dWSvL1JOFe",
    "outputId": "eb85ce4f-0828-4dbb-d6fd-9899cd39cb60"
   },
   "outputs": [
    {
     "name": "stdout",
     "output_type": "stream",
     "text": [
      "Entities in 'The company managed to get rent waivers from most landlords, CEO Sonu Sood said in an interview to CNBC-TV18. “The big focus for us right now as revenues have been nil is to really reduce our fixed cost and we have managed to do that, ”'\n",
      "ROLE CEO\n",
      "NAME Sonu Sood\n"
     ]
    }
   ],
   "source": [
    "test_text = \"The company managed to get rent waivers from most landlords, CEO Sonu Sood said in an interview to CNBC-TV18. “The big focus for us right now as revenues have been nil is to really reduce our fixed cost and we have managed to do that, ”\"\n",
    "doc = nlp(test_text)\n",
    "print(\"Entities in '%s'\" % test_text)\n",
    "for ent in doc.ents:\n",
    "    print(ent.label_, ent.text)"
   ]
  },
  {
   "cell_type": "markdown",
   "metadata": {
    "id": "mxeZIdOPKd8i"
   },
   "source": [
    "**Saving the model**"
   ]
  },
  {
   "cell_type": "code",
   "execution_count": null,
   "metadata": {
    "colab": {
     "base_uri": "https://localhost:8080/"
    },
    "id": "zB1bOXz9zyMR",
    "outputId": "0c144a04-3d88-4b44-d8fb-e23b40b1b8d8"
   },
   "outputs": [
    {
     "name": "stdout",
     "output_type": "stream",
     "text": [
      "Model Saved\n"
     ]
    }
   ],
   "source": [
    "nlp.to_disk('/content/NER/')\n",
    "print(\"Model Saved\")\n"
   ]
  },
  {
   "cell_type": "code",
   "execution_count": null,
   "metadata": {
    "id": "b66Z62rrwZKb"
   },
   "outputs": [],
   "source": []
  }
 ],
 "metadata": {
  "colab": {
   "collapsed_sections": [],
   "name": "NAMED_ENTITY_RECOGNITION_WITH_SPACY.ipynb",
   "provenance": []
  },
  "kernelspec": {
   "display_name": "Python 3",
   "language": "python",
   "name": "python3"
  },
  "language_info": {
   "codemirror_mode": {
    "name": "ipython",
    "version": 3
   },
   "file_extension": ".py",
   "mimetype": "text/x-python",
   "name": "python",
   "nbconvert_exporter": "python",
   "pygments_lexer": "ipython3",
   "version": "3.7.7"
  }
 },
 "nbformat": 4,
 "nbformat_minor": 1
}
